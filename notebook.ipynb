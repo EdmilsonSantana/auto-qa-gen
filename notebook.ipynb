{
 "cells": [
  {
   "cell_type": "markdown",
   "metadata": {
    "colab_type": "text",
    "id": "view-in-github"
   },
   "source": [
    "<a href=\"https://colab.research.google.com/github/EdmilsonSantana/llm-vehicle-repair/blob/main/Assistente_do_Mecanico_TCC.ipynb\" target=\"_parent\"><img src=\"https://colab.research.google.com/assets/colab-badge.svg\" alt=\"Open In Colab\"/></a>"
   ]
  },
  {
   "cell_type": "code",
   "execution_count": null,
   "metadata": {},
   "outputs": [],
   "source": [
    "%%capture\n",
    "%pip install selenium beautifulsoup4 datasets transformers[torch]"
   ]
  },
  {
   "cell_type": "markdown",
   "metadata": {
    "id": "Y3w8ud4KIGwQ"
   },
   "source": [
    "## Scraping data from AutoZone"
   ]
  },
  {
   "cell_type": "markdown",
   "metadata": {
    "id": "1phBwMcaJ5Bj"
   },
   "source": [
    "We are going to extract the content from the articles found in AutoZone sitemap."
   ]
  },
  {
   "cell_type": "code",
   "execution_count": 2,
   "metadata": {},
   "outputs": [
    {
     "name": "stdout",
     "output_type": "stream",
     "text": [
      "nvcc: NVIDIA (R) Cuda compiler driver\n",
      "Copyright (c) 2005-2023 NVIDIA Corporation\n",
      "Built on Mon_Apr__3_17:16:06_PDT_2023\n",
      "Cuda compilation tools, release 12.1, V12.1.105\n",
      "Build cuda_12.1.r12.1/compiler.32688072_0\n"
     ]
    }
   ],
   "source": [
    "! nvcc --version"
   ]
  },
  {
   "cell_type": "code",
   "execution_count": 8,
   "metadata": {
    "id": "H1Lv23iMJ2oV"
   },
   "outputs": [],
   "source": [
    "from articles import extract_articles\n",
    "import pandas as pd"
   ]
  },
  {
   "cell_type": "code",
   "execution_count": 9,
   "metadata": {},
   "outputs": [],
   "source": [
    "data_dir = './data'"
   ]
  },
  {
   "cell_type": "code",
   "execution_count": 10,
   "metadata": {
    "id": "AiSf1SGhT1Cg"
   },
   "outputs": [],
   "source": [
    "articles = extract_articles(data_dir)"
   ]
  },
  {
   "cell_type": "code",
   "execution_count": 11,
   "metadata": {
    "id": "WpSZDH45FwcM"
   },
   "outputs": [
    {
     "name": "stdout",
     "output_type": "stream",
     "text": [
      "{'title': 'Car AC Blowing Hot Air', 'content': 'Understanding the Causes\\n\\nA quick understanding of how air conditioning works can help with understanding what the causes could be. When AC is turned on, refrigerant that flows through the system absorbs heat from your vehicle’s cabin where it’s removed and, through a series of parts and processes, the heat is released into the atmosphere before circulating back and repeating the process. There are several points where something can be wrong, causing warm air rather than cool:\\n\\nThere isn’t sufficient airflow in the cabin. This could be a problem with a bad blower motor, but more commonly a plugged cabin air filter is the culprit.\\nThere isn’t enough refrigerant. The gas that circulates through the system can leak out, preventing it from working efficiently.\\nThe compressor may not be cycling. A clutch issue or a compressor failure can prevent the AC system from being able to disperse the heat the refrigerant has absorbed.\\nThe expansion valve is clogged. A blockage in the expansion valve could mean cooled refrigerant can’t circulate back to the cabin.\\nThe radiator is blocked. Debris blocking the condenser, mounted behind the radiator, could make it impossible for the heated refrigerant to cool effectively.\\nThere’s an electrical issue. A number of electrical connections could be loose or damaged, or a part like the HVAC control may not be working well.\\n\\nIf the air from the vents is blowing cool but not cold air, the airflow is weak, the vent temperature goes from hot to cold frequently, or you’re only getting warm air from the vents, it’s time to give your AC some attention.\\n\\nDIY Diagnosis and Quick Fixes\\n\\nMany AC problems can be identified on your own, and some can be remedied with a quick fix.\\n\\nFirst, check the cabin air filter condition and replace it if it’s dirty or clogged.\\nCheck that the heater fan is blowing. If it’s only blowing on high speed, the blower motor resistor might be faulty or a fuse might be blown.\\nClean off the radiator. If it’s plugged with debris like leaves, dirt, and bugs, wash it off to allow air to pass through it and the condenser.\\nCheck all the wiring connections for the AC system that you can access. There might be a loose connection at the AC compressor, for example. Check along the wires for rubs or cuts.\\nCheck the refrigerant level and top it up. Using a DIY refrigerant kit with a gauge, determine if the system is full or below full. Top up the refrigerant level according to the product’s instructions and check the vent temperatures again.\\n\\nRoutine Maintenance Tips\\n\\nRoutine maintenance is essential to ensure your car’s air conditioning system continues to blow cool air, especially during warmer months. A simple yet effective maintenance step is routinely checking and replacing the cabin air filter. A dirty or clogged filter can restrict airflow and reduce the system’s effectiveness.\\nHaving your air conditioning system professionally inspected at least once a year can help identify potential issues before they lead to significant damage or inefficiency. This inspection should include checking the refrigerant levels and ensuring there are no leaks in the system. Regularly running the AC, even during cooler months, can also prevent seals from drying out and cracking, which can lead to leaks.\\nFurthermore, keeping the car’s radiator and condenser clean can prevent overheating and ensure the AC runs efficiently.\\n\\nWhen to Seek Professional Help\\n\\nIf your DIY diagnosis doesn’t reveal the problem or you aren’t able to conclusively find what’s causing the problem, get a professional involved. It’s easy to spend a small fortune replacing parts as a guess, and you might still require a visit to the mechanic to get it fixed.\\nWhen you’re looking for a repair shop to take your car to, ensure that they have professional-grade equipment to perform AC repairs. Because R134a refrigerant is a controlled material, their technicians need to be certified to recover and recharge your system.\\n\\nPreventative Measures for a Cool Ride\\n\\nTo help avoid AC system problems, keep your engine bay clean, preventing dirt from accumulating on the condenser. As well, make a cabin air filter replacement an annual task right before summer arrives.\\nDuring winter months, use your AC to help defrost the windshield and condition your cabin more effectively. Along with being effective, it can also help you identify if there are issues that need to be addressed before it gets hot outside. If you determine the job is too big to tackle, check out our list of\\u202fPreferred Shops\\u202fin your area to help you complete the job.\\n\\nFAQ/People Also Ask', 'category': 'AC & Climate Control'}\n"
     ]
    }
   ],
   "source": [
    "print(articles[0])"
   ]
  },
  {
   "cell_type": "code",
   "execution_count": 12,
   "metadata": {
    "id": "uHlhwY5RUgdV"
   },
   "outputs": [],
   "source": [
    "df_articles = pd.DataFrame(articles)"
   ]
  },
  {
   "cell_type": "code",
   "execution_count": 13,
   "metadata": {
    "id": "v90PQbMdIJIh"
   },
   "outputs": [
    {
     "data": {
      "text/html": [
       "<div>\n",
       "<style scoped>\n",
       "    .dataframe tbody tr th:only-of-type {\n",
       "        vertical-align: middle;\n",
       "    }\n",
       "\n",
       "    .dataframe tbody tr th {\n",
       "        vertical-align: top;\n",
       "    }\n",
       "\n",
       "    .dataframe thead th {\n",
       "        text-align: right;\n",
       "    }\n",
       "</style>\n",
       "<table border=\"1\" class=\"dataframe\">\n",
       "  <thead>\n",
       "    <tr style=\"text-align: right;\">\n",
       "      <th></th>\n",
       "      <th>title</th>\n",
       "      <th>content</th>\n",
       "      <th>category</th>\n",
       "    </tr>\n",
       "  </thead>\n",
       "  <tbody>\n",
       "    <tr>\n",
       "      <th>0</th>\n",
       "      <td>Car AC Blowing Hot Air</td>\n",
       "      <td>Understanding the Causes\\n\\nA quick understand...</td>\n",
       "      <td>AC &amp; Climate Control</td>\n",
       "    </tr>\n",
       "    <tr>\n",
       "      <th>1</th>\n",
       "      <td>Does the Car AC Use Gas?</td>\n",
       "      <td>Introduction to Car AC and Heating Systems\\n\\n...</td>\n",
       "      <td>AC &amp; Climate Control</td>\n",
       "    </tr>\n",
       "    <tr>\n",
       "      <th>2</th>\n",
       "      <td>How to Get Rid of a Musty Smell in Your AC</td>\n",
       "      <td>Understanding the Musty Smell\\n\\nOne of the fi...</td>\n",
       "      <td>AC &amp; Climate Control</td>\n",
       "    </tr>\n",
       "    <tr>\n",
       "      <th>3</th>\n",
       "      <td>How to Use Car Defrosters</td>\n",
       "      <td>Types of Car Defrosters: Rear and Front Defros...</td>\n",
       "      <td>AC &amp; Climate Control</td>\n",
       "    </tr>\n",
       "    <tr>\n",
       "      <th>4</th>\n",
       "      <td>Does AC Affect Gas Mileage?</td>\n",
       "      <td>How Air Conditioning Affects Fuel Consumption\\...</td>\n",
       "      <td>AC &amp; Climate Control</td>\n",
       "    </tr>\n",
       "  </tbody>\n",
       "</table>\n",
       "</div>"
      ],
      "text/plain": [
       "                                        title  \\\n",
       "0                      Car AC Blowing Hot Air   \n",
       "1                    Does the Car AC Use Gas?   \n",
       "2  How to Get Rid of a Musty Smell in Your AC   \n",
       "3                   How to Use Car Defrosters   \n",
       "4                 Does AC Affect Gas Mileage?   \n",
       "\n",
       "                                             content              category  \n",
       "0  Understanding the Causes\\n\\nA quick understand...  AC & Climate Control  \n",
       "1  Introduction to Car AC and Heating Systems\\n\\n...  AC & Climate Control  \n",
       "2  Understanding the Musty Smell\\n\\nOne of the fi...  AC & Climate Control  \n",
       "3  Types of Car Defrosters: Rear and Front Defros...  AC & Climate Control  \n",
       "4  How Air Conditioning Affects Fuel Consumption\\...  AC & Climate Control  "
      ]
     },
     "execution_count": 13,
     "metadata": {},
     "output_type": "execute_result"
    }
   ],
   "source": [
    "df_articles.head()"
   ]
  },
  {
   "cell_type": "code",
   "execution_count": 14,
   "metadata": {},
   "outputs": [
    {
     "name": "stdout",
     "output_type": "stream",
     "text": [
      "<class 'pandas.core.frame.DataFrame'>\n",
      "RangeIndex: 980 entries, 0 to 979\n",
      "Data columns (total 3 columns):\n",
      " #   Column    Non-Null Count  Dtype \n",
      "---  ------    --------------  ----- \n",
      " 0   title     980 non-null    object\n",
      " 1   content   980 non-null    object\n",
      " 2   category  980 non-null    object\n",
      "dtypes: object(3)\n",
      "memory usage: 23.1+ KB\n"
     ]
    }
   ],
   "source": [
    "df_articles.info()"
   ]
  },
  {
   "cell_type": "code",
   "execution_count": null,
   "metadata": {},
   "outputs": [],
   "source": []
  },
  {
   "cell_type": "markdown",
   "metadata": {},
   "source": [
    "## Bonito"
   ]
  },
  {
   "cell_type": "code",
   "execution_count": 1,
   "metadata": {},
   "outputs": [],
   "source": [
    "%%capture\n",
    "!git clone https://github.com/BatsResearch/bonito.git\n",
    "!pip install -U bonito/"
   ]
  },
  {
   "cell_type": "code",
   "execution_count": 2,
   "metadata": {},
   "outputs": [],
   "source": [
    "%%capture\n",
    "!pip install --ignore-installed autoawq autoawq-kernels"
   ]
  },
  {
   "cell_type": "code",
   "execution_count": 3,
   "metadata": {},
   "outputs": [
    {
     "name": "stderr",
     "output_type": "stream",
     "text": [
      "/home/zeus/miniconda3/envs/cloudspace/lib/python3.10/site-packages/transformers/utils/generic.py:485: UserWarning: torch.utils._pytree._register_pytree_node is deprecated. Please use torch.utils._pytree.register_pytree_node instead.\n",
      "  _torch_pytree._register_pytree_node(\n",
      "/home/zeus/miniconda3/envs/cloudspace/lib/python3.10/site-packages/transformers/utils/generic.py:342: UserWarning: torch.utils._pytree._register_pytree_node is deprecated. Please use torch.utils._pytree.register_pytree_node instead.\n",
      "  _torch_pytree._register_pytree_node(\n",
      "/home/zeus/miniconda3/envs/cloudspace/lib/python3.10/site-packages/transformers/utils/generic.py:342: UserWarning: torch.utils._pytree._register_pytree_node is deprecated. Please use torch.utils._pytree.register_pytree_node instead.\n",
      "  _torch_pytree._register_pytree_node(\n"
     ]
    }
   ],
   "source": [
    "from quantized import QuantizedBonito"
   ]
  },
  {
   "cell_type": "code",
   "execution_count": 4,
   "metadata": {},
   "outputs": [
    {
     "data": {
      "application/vnd.jupyter.widget-view+json": {
       "model_id": "c5938d88410349da96705251bb5249c3",
       "version_major": 2,
       "version_minor": 0
      },
      "text/plain": [
       "Fetching 10 files:   0%|          | 0/10 [00:00<?, ?it/s]"
      ]
     },
     "metadata": {},
     "output_type": "display_data"
    },
    {
     "name": "stderr",
     "output_type": "stream",
     "text": [
      "Replacing layers...: 100%|██████████| 32/32 [00:03<00:00,  8.78it/s]\n",
      "Fusing layers...: 100%|██████████| 32/32 [00:00<00:00, 195.37it/s]\n"
     ]
    }
   ],
   "source": [
    "bonito = QuantizedBonito(\"alexandreteles/bonito-v1-awq\")"
   ]
  },
  {
   "cell_type": "code",
   "execution_count": 35,
   "metadata": {},
   "outputs": [
    {
     "data": {
      "text/plain": [
       "title             How Much Does It Cost to Replace Your A/C? \n",
       "content     How an AC Compressor Works \\n\\nThe compressor ...\n",
       "category                                 AC & Climate Control\n",
       "Name: 10, dtype: object"
      ]
     },
     "execution_count": 35,
     "metadata": {},
     "output_type": "execute_result"
    }
   ],
   "source": [
    "#df_articles.iloc[10]\n",
    "# How Much Does It Cost to Replace Your A/C"
   ]
  },
  {
   "cell_type": "code",
   "execution_count": 66,
   "metadata": {},
   "outputs": [
    {
     "name": "stdout",
     "output_type": "stream",
     "text": [
      "('How Much Does It Cost to Recharge Your Car’s AC?\\n'\n",
      " 'These costs are generally not that expensive when considering that this '\n",
      " 'maintenance also extends the life of your compressor, keeping your air '\n",
      " 'conditioning performing optimally season after season.\\n'\n",
      " 'A professional AC recharge cost ranges from $150 – $300 on average depending '\n",
      " 'on the make and model of your vehicle. Due to\\xa0refrigerant\\xa0losses that '\n",
      " 'occur over time, this service is one that should be added to your vehicle '\n",
      " 'maintenance schedule. It is recommended that this service be performed on a '\n",
      " 'vehicle every 100,000 miles or so.\\n'\n",
      " 'You can save on your\\xa0this cost\\xa0by going the DIY route and recharging '\n",
      " 'your car’s AC, in which case you can expect to pay\\xa0$40-60\\xa0for a proper '\n",
      " 'recharge kit. This\\xa0may seem like\\xa0a real savings over\\xa0taking the car '\n",
      " 'into the shop\\xa0and\\xa0possibly\\xa0more convenient, but before '\n",
      " 'proceeding\\xa0with the DIY alternative, it’s important to understand exactly '\n",
      " 'what’s going on when you get an AC service at a shop, vs doing the job '\n",
      " 'yourself.\\xa0\\n'\n",
      " 'What Does Recharging Your AC Mean?\\n'\n",
      " 'Servicing\\xa0your vehicle’s air conditioning system is an expected '\n",
      " 'maintenance\\xa0item\\xa0for\\xa0all vehicles with operational\\xa0AC.\\xa0It’s '\n",
      " 'commonly done by dealerships\\xa0or\\xa0shops,\\xa0and\\xa0it\\xa0involves '\n",
      " 'hooking your vehicle up\\xa0to a machine\\xa0that removes refrigerant from the '\n",
      " 'system, and simultaneously puts the vehicle’s system under vacuum. \\n'\n",
      " 'This is done to properly test the system for leaks and see if it holds '\n",
      " 'vacuum over a certain\\xa0period of time.\\xa0By doing this, the technician\\xa0'\n",
      " 'is able to\\xa0detect leaks, and\\xa0potentially determine their origin. This '\n",
      " 'is important because simply filling the vehicle up with more refrigerant\\xa0'\n",
      " 'will only\\xa0be a temporary fix if there is a leak that this new refrigerant '\n",
      " 'can escape through.\\xa0\\n'\n",
      " 'If the system checks out fine for vacuum,\\xa0the machine recharges the '\n",
      " 'system to the precise amounts of refrigerant needed to operate, and then is '\n",
      " 'checked for proper function.\\xa0Doing this\\xa0assures\\xa0that\\xa0the\\xa0'\n",
      " 'compressor works efficiently to deliver the cooling levels required for your '\n",
      " 'specific vehicle make and model.\\n'\n",
      " '\\n'\n",
      " '\\xa0The most common refrigerant for newer model cars is R-134a, which\\xa0has '\n",
      " 'been the standard since 1994 when cars with R-12 refrigerant weren’t phased '\n",
      " 'out.\\xa0Many older cars\\xa0that have never been serviced\\xa0may use R-12\\xa0'\n",
      " 'and need to be retrofitted over to R-134a.\\xa0Newer vehicles in just the '\n",
      " 'last few years now take a new generation of refrigerant, R-1234yf, which has '\n",
      " 'just become available for DIY use in the last 2 years.\\n'\n",
      " 'When Should You Recharge Your AC?\\n'\n",
      " 'The first signs\\xa0of an AC compressor not functioning properly\\xa0will be '\n",
      " 'air flow that is warmer than usual when electing the coolest of settings. '\n",
      " 'Air conditioning systems can lose\\xa0refrigerant in very small doses\\xa0over '\n",
      " 'time, but rapid leaks are a cause for concern. \\n'\n",
      " 'It’s important to note, that\\xa0while\\xa0simply grabbing a can of '\n",
      " 'refrigerant\\xa0and charging your system will\\xa0certainly get your\\xa0AC\\xa0'\n",
      " 'working again, it’s vital that you pay attention to the proper pressure of '\n",
      " 'the system\\xa0and don’t over-charge. Some AC systems, especially newer '\n",
      " 'R-1234yf systems\\xa0do not take a large amount of refrigerant\\xa0– some as '\n",
      " 'little as 6oz –\\xa0and over-charging the system can lead to catastrophic '\n",
      " 'failure.\\xa0\\n'\n",
      " 'If you\\xa0have successfully charged the\\xa0system\\xa0yet\\xa0weeks later, you '\n",
      " 'feel warm air again,\\xa0you\\xa0probably\\xa0have a leak. Air conditioning '\n",
      " 'systems have several connections in which these leaks can occur, so regular '\n",
      " 'maintenance can help you avoid costly repairs in the future while '\n",
      " 'maintaining optimal cooling throughout the life of your vehicle. \\n'\n",
      " 'It is expected that at 100,000 miles, your air conditioning system will '\n",
      " 'require servicing. At the first sign of your air conditioning performance '\n",
      " 'not up to par, you should be aware that an AC recharge is probably warranted '\n",
      " 'with an accompanying AC recharge cost.\\xa0\\n'\n",
      " 'Can You Recharge Your Car’s AC?\\n'\n",
      " 'Recharging your air conditioning system is not a difficult task,\\xa0but one '\n",
      " 'that requires some research.\\xa0It is crucial to make sure you know how to '\n",
      " 'recharge it safely and properly.\\xa0\\n'\n",
      " 'First, you will want to confirm the type of refrigerant required for your '\n",
      " 'specific vehicle.\\xa0If you’ve confirmed that your vehicle uses R-134\\xa0or '\n",
      " 'R-1234yf, or has been converted from R-12,\\xa0you\\xa0can\\xa0purchase a '\n",
      " 'recharge kit which will include the recommended\\xa0refrigerant,\\xa0'\n",
      " 'dispensable from a pressurized can of approximately 12 ounces to 22 ounces '\n",
      " 'and\\xa0in most cases will contain\\xa0a reusable recharge hose outfitted with '\n",
      " 'an inline pressure gauge. This pressure gauge will assure the proper amounts '\n",
      " 'of\\xa0refrigerant\\xa0are delivered by measuring existing levels\\xa0(measured '\n",
      " 'as pressure)\\xa0and reflecting maximum levels realized for proper '\n",
      " 'recharging.\\xa0\\n'\n",
      " 'Even though most cans do contain a charging hose, using a proper manifold '\n",
      " 'gauge (hose) set is highly recommended and will get you more accurate '\n",
      " 'measurements on your vehicle’s system.\\xa0Instructions are included within '\n",
      " 'the recharge kit to properly do this service yourself. Next, you will want '\n",
      " 'to identify the\\xa0low-side\\xa0delivery point for the\\xa0refrigerant\\xa0on '\n",
      " 'your vehicle’s system. Refer to your owner’s manual\\xa0or online guides\\xa0'\n",
      " 'for your specific car\\xa0for this information,\\xa0or,\\xa0you can read more '\n",
      " 'about charging your AC system yourself\\xa0here.\\n'\n",
      " 'What Happens If You Overcharge Your AC?\\n'\n",
      " 'When performing this\\xa0service\\xa0yourself, you will have the proper '\n",
      " 'recharge kit to guide you in delivering the proper amount of\\xa0'\n",
      " 'refrigerant\\xa0into your vehicle’s air conditioning system. However, it is '\n",
      " 'possible to deliver too much\\xa0refrigerant, resulting in an ‘overcharge’ of '\n",
      " 'the air conditioning system. The result is that your compressor will not be '\n",
      " 'able to provide the proper cooling levels and warm air will be delivered '\n",
      " 'into your vehicle instead.\\xa0This is why\\xa0it’s best to tread very '\n",
      " 'carefully when assuming that a non-functioning air conditioning unit is low '\n",
      " 'on refrigerant, as this is not always the case. \\n'\n",
      " 'f you do over-charge the system, it is best to take the vehicle to a '\n",
      " 'mechanic to have the system properly evacuated by an AC machine, and thus '\n",
      " 'serviced to the correct amount. If you need help performing this, or any AC '\n",
      " 'recharge or service, check out our list of\\xa0preferred shops\\xa0in your '\n",
      " 'area that can help. Or, if you’d like to tackle the job yourself, AutoZone '\n",
      " 'has all the tools\\xa0and refrigerant to service your R-134A or R-12 vehicle.')\n"
     ]
    }
   ],
   "source": [
    "from pprint import pprint\n",
    "unannotated_paragraph = df_articles.iloc[14]['content']\n",
    "pprint(unannotated_paragraph)"
   ]
  },
  {
   "cell_type": "code",
   "execution_count": null,
   "metadata": {},
   "outputs": [],
   "source": []
  },
  {
   "cell_type": "code",
   "execution_count": 83,
   "metadata": {},
   "outputs": [
    {
     "data": {
      "application/vnd.jupyter.widget-view+json": {
       "model_id": "f4e0644d482b4514b1f442904a55e0b8",
       "version_major": 2,
       "version_minor": 0
      },
      "text/plain": [
       "Map:   0%|          | 0/1 [00:00<?, ? examples/s]"
      ]
     },
     "metadata": {},
     "output_type": "display_data"
    },
    {
     "name": "stderr",
     "output_type": "stream",
     "text": [
      "The attention mask and the pad token id were not set. As a consequence, you may observe unexpected behavior. Please pass your input's `attention_mask` to obtain reliable results.\n",
      "Setting `pad_token_id` to `eos_token_id`:2 for open-end generation.\n"
     ]
    },
    {
     "data": {
      "application/vnd.jupyter.widget-view+json": {
       "model_id": "4572574082294fdf988bbee5f1e3fd9c",
       "version_major": 2,
       "version_minor": 0
      },
      "text/plain": [
       "Filter:   0%|          | 0/1 [00:00<?, ? examples/s]"
      ]
     },
     "metadata": {},
     "output_type": "display_data"
    },
    {
     "data": {
      "application/vnd.jupyter.widget-view+json": {
       "model_id": "931924eb1caf44289922a1b4e5ff5c08",
       "version_major": 2,
       "version_minor": 0
      },
      "text/plain": [
       "Map:   0%|          | 0/1 [00:00<?, ? examples/s]"
      ]
     },
     "metadata": {},
     "output_type": "display_data"
    }
   ],
   "source": [
    "from transformers import set_seed\n",
    "# making predictions deterministic.\n",
    "#set_seed(2)\n",
    "\n",
    "# Generate synthetic instruction tuning dataset\n",
    "sampling_params = {'max_new_tokens':256, 'top_p':0.95, 'temperature':0.9, 'num_return_sequences':1}\n",
    "synthetic_dataset = bonito.generate_task(\n",
    "    unannotated_paragraph,\n",
    "    task_type=\"text_gen\",\n",
    "    sampling_params=sampling_params\n",
    ")\n"
   ]
  },
  {
   "cell_type": "code",
   "execution_count": 84,
   "metadata": {},
   "outputs": [
    {
     "data": {
      "text/plain": [
       "{'input': \"What details would you include in a storyline to make it more engaging and informative?\\n\\nThis service is one that should be added to your vehicle maintenance schedule.\\nIt's expected that at 100,000 miles, your air conditioning system will require servicing.\\nRecharging your air conditioning system is not a difficult task.\\nIf you overcharge the system, it is best to take the vehicle to a mechanic to have the system properly evacuated.\",\n",
       " 'output': '{{context}}'}"
      ]
     },
     "execution_count": 84,
     "metadata": {},
     "output_type": "execute_result"
    }
   ],
   "source": [
    "synthetic_dataset"
   ]
  },
  {
   "cell_type": "code",
   "execution_count": 85,
   "metadata": {},
   "outputs": [
    {
     "name": "stdout",
     "output_type": "stream",
     "text": [
      "('What details would you include in a storyline to make it more engaging and '\n",
      " 'informative?\\n'\n",
      " '\\n'\n",
      " 'This service is one that should be added to your vehicle maintenance '\n",
      " 'schedule.\\n'\n",
      " \"It's expected that at 100,000 miles, your air conditioning system will \"\n",
      " 'require servicing.\\n'\n",
      " 'Recharging your air conditioning system is not a difficult task.\\n'\n",
      " 'If you overcharge the system, it is best to take the vehicle to a mechanic '\n",
      " 'to have the system properly evacuated.')\n"
     ]
    }
   ],
   "source": [
    "pprint(synthetic_dataset[\"input\"])"
   ]
  },
  {
   "cell_type": "code",
   "execution_count": 86,
   "metadata": {},
   "outputs": [
    {
     "name": "stdout",
     "output_type": "stream",
     "text": [
      "'{{context}}'\n"
     ]
    }
   ],
   "source": [
    "pprint(synthetic_dataset[\"output\"])"
   ]
  },
  {
   "cell_type": "markdown",
   "metadata": {
    "id": "8_ovldOBVDQh"
   },
   "source": [
    "## txtinstruct"
   ]
  },
  {
   "cell_type": "markdown",
   "metadata": {},
   "source": [
    "Let's follow txtinstruct tutorial from this [notebook](https://colab.research.google.com/github/neuml/txtinstruct/blob/master/examples/01_Introducing_txtinstruct.ipynb#scrollTo=7uQaAdtmH3kP)."
   ]
  },
  {
   "cell_type": "code",
   "execution_count": 6,
   "metadata": {
    "colab": {
     "background_save": true
    },
    "id": "thuR9tkNUq_y"
   },
   "outputs": [],
   "source": [
    "%%capture\n",
    "!pip install git+https://github.com/neuml/txtai git+https://github.com/neuml/txtinstruct"
   ]
  },
  {
   "cell_type": "code",
   "execution_count": 7,
   "metadata": {},
   "outputs": [],
   "source": [
    "from datasets import load_dataset\n",
    "from txtinstruct.models import StatementGenerator"
   ]
  },
  {
   "cell_type": "markdown",
   "metadata": {},
   "source": [
    "Bulding a question generation model using the SQuAD dataset."
   ]
  },
  {
   "cell_type": "code",
   "execution_count": 8,
   "metadata": {},
   "outputs": [],
   "source": [
    "from datasets import load_dataset, Dataset\n",
    "from txtinstruct.models import StatementGenerator"
   ]
  },
  {
   "cell_type": "code",
   "execution_count": 9,
   "metadata": {},
   "outputs": [
    {
     "data": {
      "text/plain": [
       "{'id': '5733be284776f41900661182',\n",
       " 'title': 'University_of_Notre_Dame',\n",
       " 'context': 'Architecturally, the school has a Catholic character. Atop the Main Building\\'s gold dome is a golden statue of the Virgin Mary. Immediately in front of the Main Building and facing it, is a copper statue of Christ with arms upraised with the legend \"Venite Ad Me Omnes\". Next to the Main Building is the Basilica of the Sacred Heart. Immediately behind the basilica is the Grotto, a Marian place of prayer and reflection. It is a replica of the grotto at Lourdes, France where the Virgin Mary reputedly appeared to Saint Bernadette Soubirous in 1858. At the end of the main drive (and in a direct line that connects through 3 statues and the Gold Dome), is a simple, modern stone statue of Mary.',\n",
       " 'question': 'To whom did the Virgin Mary allegedly appear in 1858 in Lourdes France?',\n",
       " 'answers': {'text': ['Saint Bernadette Soubirous'], 'answer_start': [515]}}"
      ]
     },
     "execution_count": 9,
     "metadata": {},
     "output_type": "execute_result"
    }
   ],
   "source": [
    "# Load SQuAD dataset\n",
    "dataset = load_dataset(\"squad\", split=\"train\")\n",
    "dataset[0]"
   ]
  },
  {
   "cell_type": "code",
   "execution_count": 10,
   "metadata": {
    "id": "SsaMpDQiiMqM"
   },
   "outputs": [
    {
     "name": "stderr",
     "output_type": "stream",
     "text": [
      "/home/zeus/miniconda3/envs/cloudspace/lib/python3.10/site-packages/accelerate/accelerator.py:432: FutureWarning: Passing the following arguments to `Accelerator` is deprecated and will be removed in version 1.0 of Accelerate: dict_keys(['dispatch_batches', 'split_batches', 'even_batches', 'use_seedable_sampler']). Please pass an `accelerate.DataLoaderConfiguration` instead: \n",
      "dataloader_config = DataLoaderConfiguration(dispatch_batches=None, split_batches=False, even_batches=True, use_seedable_sampler=True)\n",
      "  warnings.warn(\n"
     ]
    },
    {
     "data": {
      "text/html": [
       "\n",
       "    <div>\n",
       "      \n",
       "      <progress value='2052' max='2052' style='width:300px; height:20px; vertical-align: middle;'></progress>\n",
       "      [2052/2052 40:33, Epoch 2/3]\n",
       "    </div>\n",
       "    <table border=\"1\" class=\"dataframe\">\n",
       "  <thead>\n",
       " <tr style=\"text-align: left;\">\n",
       "      <th>Step</th>\n",
       "      <th>Training Loss</th>\n",
       "    </tr>\n",
       "  </thead>\n",
       "  <tbody>\n",
       "    <tr>\n",
       "      <td>100</td>\n",
       "      <td>2.192000</td>\n",
       "    </tr>\n",
       "    <tr>\n",
       "      <td>200</td>\n",
       "      <td>2.133700</td>\n",
       "    </tr>\n",
       "    <tr>\n",
       "      <td>300</td>\n",
       "      <td>2.098500</td>\n",
       "    </tr>\n",
       "    <tr>\n",
       "      <td>400</td>\n",
       "      <td>2.068000</td>\n",
       "    </tr>\n",
       "    <tr>\n",
       "      <td>500</td>\n",
       "      <td>2.062900</td>\n",
       "    </tr>\n",
       "    <tr>\n",
       "      <td>600</td>\n",
       "      <td>2.039100</td>\n",
       "    </tr>\n",
       "    <tr>\n",
       "      <td>700</td>\n",
       "      <td>1.983700</td>\n",
       "    </tr>\n",
       "    <tr>\n",
       "      <td>800</td>\n",
       "      <td>1.863700</td>\n",
       "    </tr>\n",
       "    <tr>\n",
       "      <td>900</td>\n",
       "      <td>1.870700</td>\n",
       "    </tr>\n",
       "    <tr>\n",
       "      <td>1000</td>\n",
       "      <td>1.864100</td>\n",
       "    </tr>\n",
       "    <tr>\n",
       "      <td>1100</td>\n",
       "      <td>1.862100</td>\n",
       "    </tr>\n",
       "    <tr>\n",
       "      <td>1200</td>\n",
       "      <td>1.842200</td>\n",
       "    </tr>\n",
       "    <tr>\n",
       "      <td>1300</td>\n",
       "      <td>1.842200</td>\n",
       "    </tr>\n",
       "    <tr>\n",
       "      <td>1400</td>\n",
       "      <td>1.804500</td>\n",
       "    </tr>\n",
       "    <tr>\n",
       "      <td>1500</td>\n",
       "      <td>1.719900</td>\n",
       "    </tr>\n",
       "    <tr>\n",
       "      <td>1600</td>\n",
       "      <td>1.727400</td>\n",
       "    </tr>\n",
       "    <tr>\n",
       "      <td>1700</td>\n",
       "      <td>1.725800</td>\n",
       "    </tr>\n",
       "    <tr>\n",
       "      <td>1800</td>\n",
       "      <td>1.733100</td>\n",
       "    </tr>\n",
       "    <tr>\n",
       "      <td>1900</td>\n",
       "      <td>1.731900</td>\n",
       "    </tr>\n",
       "    <tr>\n",
       "      <td>2000</td>\n",
       "      <td>1.716000</td>\n",
       "    </tr>\n",
       "  </tbody>\n",
       "</table><p>"
      ],
      "text/plain": [
       "<IPython.core.display.HTML object>"
      ]
     },
     "metadata": {},
     "output_type": "display_data"
    }
   ],
   "source": [
    "# Train model\n",
    "generator = StatementGenerator()\n",
    "model, tokenizer = generator(\n",
    "    \"google/flan-t5-small\",\n",
    "    dataset,\n",
    "    \"sequence-sequence\",\n",
    "    learning_rate=1e-3,\n",
    "    per_device_train_batch_size=16,\n",
    "    gradient_accumulation_steps=128 // 16,\n",
    "    num_train_epochs=3,\n",
    "    logging_steps=100,\n",
    ")"
   ]
  },
  {
   "cell_type": "code",
   "execution_count": 24,
   "metadata": {},
   "outputs": [],
   "source": [
    "#model.save_pretrained(\"./t5-small\", from_pt=True) "
   ]
  },
  {
   "cell_type": "code",
   "execution_count": 26,
   "metadata": {},
   "outputs": [
    {
     "data": {
      "text/plain": [
       "('./t5-small-tokenizer/tokenizer_config.json',\n",
       " './t5-small-tokenizer/special_tokens_map.json',\n",
       " './t5-small-tokenizer/tokenizer.json')"
      ]
     },
     "execution_count": 26,
     "metadata": {},
     "output_type": "execute_result"
    }
   ],
   "source": [
    "#tokenizer.save_pretrained('./t5-small-tokenizer')"
   ]
  },
  {
   "cell_type": "code",
   "execution_count": 12,
   "metadata": {},
   "outputs": [
    {
     "data": {
      "text/plain": [
       "'What is txtai?'"
      ]
     },
     "execution_count": 12,
     "metadata": {},
     "output_type": "execute_result"
    }
   ],
   "source": [
    "from txtai.pipeline import Sequences\n",
    "\n",
    "# Load statement generation model\n",
    "statements = Sequences((model, tokenizer))\n",
    "\n",
    "# Run example prompt\n",
    "statements(\"\"\"Generate a question using the context below.\n",
    "### Context:\n",
    "txtai is an open-source platform for semantic search and workflows powered by language models.\"\"\")"
   ]
  },
  {
   "cell_type": "markdown",
   "metadata": {},
   "source": [
    "Now that we have a statement generation model, let's build an instruction-tuning dataset. "
   ]
  },
  {
   "cell_type": "code",
   "execution_count": 36,
   "metadata": {},
   "outputs": [],
   "source": [
    "df_articles.rename(columns={'title': 'id', 'content': 'text'}, inplace=True)\n",
    "df_articles.drop(columns=['category'], inplace=True)"
   ]
  },
  {
   "cell_type": "code",
   "execution_count": 32,
   "metadata": {},
   "outputs": [],
   "source": [
    "df_articles = df_articles.replace('\\n',' ', regex=True)"
   ]
  },
  {
   "cell_type": "code",
   "execution_count": 37,
   "metadata": {},
   "outputs": [
    {
     "data": {
      "text/plain": [
       "[{'id': 'Car AC Blowing Hot Air',\n",
       "  'text': 'Understanding the Causes  A quick understanding of how air conditioning works can help with understanding what the causes could be. When AC is turned on, refrigerant that flows through the system absorbs heat from your vehicle’s cabin where it’s removed and, through a series of parts and processes, the heat is released into the atmosphere before circulating back and repeating the process. There are several points where something can be wrong, causing warm air rather than cool:  There isn’t sufficient airflow in the cabin. This could be a problem with a bad blower motor, but more commonly a plugged cabin air filter is the culprit. There isn’t enough refrigerant. The gas that circulates through the system can leak out, preventing it from working efficiently. The compressor may not be cycling. A clutch issue or a compressor failure can prevent the AC system from being able to disperse the heat the refrigerant has absorbed. The expansion valve is clogged. A blockage in the expansion valve could mean cooled refrigerant can’t circulate back to the cabin. The radiator is blocked. Debris blocking the condenser, mounted behind the radiator, could make it impossible for the heated refrigerant to cool effectively. There’s an electrical issue. A number of electrical connections could be loose or damaged, or a part like the HVAC control may not be working well.  If the air from the vents is blowing cool but not cold air, the airflow is weak, the vent temperature goes from hot to cold frequently, or you’re only getting warm air from the vents, it’s time to give your AC some attention.  DIY Diagnosis and Quick Fixes  Many AC problems can be identified on your own, and some can be remedied with a quick fix.  First, check the cabin air filter condition and replace it if it’s dirty or clogged. Check that the heater fan is blowing. If it’s only blowing on high speed, the blower motor resistor might be faulty or a fuse might be blown. Clean off the radiator. If it’s plugged with debris like leaves, dirt, and bugs, wash it off to allow air to pass through it and the condenser. Check all the wiring connections for the AC system that you can access. There might be a loose connection at the AC compressor, for example. Check along the wires for rubs or cuts. Check the refrigerant level and top it up. Using a DIY refrigerant kit with a gauge, determine if the system is full or below full. Top up the refrigerant level according to the product’s instructions and check the vent temperatures again.  Routine Maintenance Tips  Routine maintenance is essential to ensure your car’s air conditioning system continues to blow cool air, especially during warmer months. A simple yet effective maintenance step is routinely checking and replacing the cabin air filter. A dirty or clogged filter can restrict airflow and reduce the system’s effectiveness. Having your air conditioning system professionally inspected at least once a year can help identify potential issues before they lead to significant damage or inefficiency. This inspection should include checking the refrigerant levels and ensuring there are no leaks in the system. Regularly running the AC, even during cooler months, can also prevent seals from drying out and cracking, which can lead to leaks. Furthermore, keeping the car’s radiator and condenser clean can prevent overheating and ensure the AC runs efficiently.  When to Seek Professional Help  If your DIY diagnosis doesn’t reveal the problem or you aren’t able to conclusively find what’s causing the problem, get a professional involved. It’s easy to spend a small fortune replacing parts as a guess, and you might still require a visit to the mechanic to get it fixed. When you’re looking for a repair shop to take your car to, ensure that they have professional-grade equipment to perform AC repairs. Because R134a refrigerant is a controlled material, their technicians need to be certified to recover and recharge your system.  Preventative Measures for a Cool Ride  To help avoid AC system problems, keep your engine bay clean, preventing dirt from accumulating on the condenser. As well, make a cabin air filter replacement an annual task right before summer arrives. During winter months, use your AC to help defrost the windshield and condition your cabin more effectively. Along with being effective, it can also help you identify if there are issues that need to be addressed before it gets hot outside. If you determine the job is too big to tackle, check out our list of\\u202fPreferred Shops\\u202fin your area to help you complete the job.  FAQ/People Also Ask'},\n",
       " {'id': 'Does the Car AC Use Gas?',\n",
       "  'text': 'Introduction to Car AC and Heating Systems  To understand how air conditioning and heating in a car affect gas usage, it’s essential to know the basics of how these systems operate. The car’s AC system functions by compressing refrigerant and passing it through an expansion valve, which causes it to cool down. A fan then blows air over the cooled refrigerant through the evaporator, thus providing refreshing, chilled air within the vehicle’s cabin. The compressor is spun by an AC or serpentine belt, driven by the crankshaft, but when it’s not in use, the compressor disconnects using a clutch on the pulley. Heating in a vehicle, on the other hand, typically uses the heat generated from the car’s engine that would otherwise be wasted. The coolant absorbs this heat, and as it circulates through the heater core, a fan blows the warm air produced into the cabin, providing the warmth you feel.  AC Usage’s Effect on Gas Consumption  So, does turning on the AC actually use more gas? The short answer is yes. When you switch on your car’s AC, it puts an additional load on the engine because the compressor needs power to run, and this power comes from the engine itself. The energy to drive the AC compressor is typically generated by burning fuel, meaning that when your AC is running, your vehicle is consuming slightly more gas than when it’s off. But how significant is this impact on fuel consumption? Studies suggest that using the car’s AC can reduce fuel economy by roughly three to ten percent, varying based on factors such as the condition of the vehicle, the efficiency of the AC system, the exterior temperature, and the settings used.  Heater Usage’s Effect on Gas Consumption  What about the car heater? Does the heater use gas in the same way the AC does? Since the heater typically utilizes waste heat from the engine to warm the vehicle, it does not require the same amount of direct energy as the air conditioner does. This means that the heater has a much less significant impact on fuel consumption compared to the AC. However, certain heater-related features, like rear window defrost or higher blower motor fan speeds, may consume more power that the alternator needs to generate and as a result, more fuel.  Tips for Optimal Fuel Efficiency for AC Use  Understanding the impact of AC and heater usage on fuel consumption is one thing, but what practical steps can you take to ensure your car remains as fuel-efficient as possible while still enjoying the benefits of climate control? Here are some tips:  Only use the AC when necessary, and try to start on lower settings, gradually increasing as needed.\\xa0 Keep your AC system well-maintained. This includes checking for leaks and ensuring that the refrigerant levels are topped up every three to five years. Whenever possible, park in the shade or use a sunshade. This simple action can keep your car cooler when parked, reducing the need to blast the AC on high for extended periods. At lower speeds such as when you’re driving under 55 miles per hour, it can be more fuel-efficient to roll down the windows, as the drag caused by open windows at high speeds makes your engine work harder. Use the recirculation feature of your AC during the hottest parts of the day. This circulates the already cooled air inside your car instead of pulling in hotter air from outside. Don’t turn the fan speed on high. You’ll actually get the cabin cooler in the summer when you turn the fan speed down a notch.  By following these strategies, you can keep your car cool or warm without significantly affecting your gas mileage. Being mindful of how and when you use your car’s AC and heater not only saves you gas and money but also helps reduce your environmental impact. Understanding the relationship between your car’s climate control systems and fuel consumption gives you the control to manage your vehicle’s efficiency better. So, next time you reach for the temperature controls, remember that while both the AC and heater do use gas, the impact varies considerably between the two systems.  FAQ/People Also Ask'},\n",
       " {'id': 'How to Get Rid of a Musty Smell in Your AC',\n",
       "  'text': 'Understanding the Musty Smell  One of the first steps in tackling a musty smell in your car’s air conditioning (AC) system is understanding its root causes. Musty odors often stem from the growth of mold, mildew, or bacteria in the AC system. The dark and damp environment within the AC unit provides an ideal breeding ground for these unpleasant elements. Common causes include:  Accumulated moisture in the evaporator core. Clogged or dirty cabin air filters. Bacteria or mold growth in the cabin air intake and other AC components.  Aside from the obvious discomfort of driving in a car with a musty smell, there are more serious reasons to address the issue promptly. Mold and bacteria can not only compromise the air quality inside your vehicle but may also have negative effects on your health, especially if you suffer from allergies or respiratory issues like asthma. A musty smell that isn’t dealt with can lead to potential damage to your AC system, contributing to more extensive and costly repairs down the road.  Recommended Products for Musty Odor Elimination  AC Pro Vent and Duct Cleaner  Specially formulated to eliminate mold, mildew, and bacteria, AC Pro Vent and Duct Cleaner is designed to refresh your entire AC system, leaving behind a clean, pleasant scent. Rather than just cover up the odor, it attaches to it and traps the particles that create the bad odor. It’s inexpensive and one treatment is often all it takes.  STP Max Cabin Air Filter  Regularly replacing your cabin air filter is crucial in preventing musty odors, and the STP Max Cabin Air Filter does a great job at trapping spores, bacteria, mold, and mildew before they enter your cabin. It’s a good plan to replace your cabin air filter once a year to prevent odors.  STP Cabin Air Filter  Buy Now   Mothers Odor Eliminator And Refresher Unscented Fogger  Rather than covering up scents, Mothers Odor Eliminator and Refresher fogs your car’s interior and penetrates deep to block odor-causing bacteria and other molecules. Combined with other treatments like a new cabin air filter, your car will smell like new again.  Mothers Odor Eliminator  Buy Now   When selecting products to combat musty smells, ensure that the cleaner or air freshener is suitable for automotive use and won’t damage your AC system. Look for products that provide a lasting solution rather than just masking the odor temporarily. And, opt for user-friendly products that simplify the cleaning process.  DIY Cleaning Techniques  Follow these steps to rid your car’s AC system of musty odors:  Replace the Cabin Air Filter – If the filter is dirty or clogged, replace it with a new one. And if you have a musty smell, don’t count on only visual confirmation that it’s dirty. Swap it out. Use an AC System Cleaner – Treat your HVAC system with a high-quality, highly rated AC system cleaner. Follow the instructions on the product. Let Your Car Sit – Wait the specified time on the product before you use your car. The treatment time varies, and often, the longer it sits, the better the treatment result. Perform a Follow-Up Treatment – For stubborn odors or extreme buildup, you might have to perform a subsequent treatment.  In addition to specialized products, you can use common household items for a DIY approach:  Vinegar – Mix equal parts water and vinegar and spray it into the air intake vents. Baking Soda – Place an open box of baking soda in your car overnight to absorb odors. Sunlight – Leave your car in direct sunlight with windows slightly open to help dry out moisture and prevent mold growth.  Preventive Maintenance Tips  To maintain a fresh-smelling car and keep it fresh, incorporate these measures into your routine:  Run the AC Regularly – Turn on your AC periodically, even in cooler weather, to prevent moisture buildup. Keep the Cabin Clean – Regularly clean the interior of your car, removing any potential sources of odors. Avoid Eating in the Car – Food crumbs and spills can contribute to unpleasant odors. Use Air Fresheners – Place a long-lasting air freshener in your car to maintain a pleasant scent.  If the musty smell persists despite your efforts, it may be time to consult a professional mechanic. They can conduct a thorough inspection of your AC system, identifying and addressing any underlying issues that may be contributing to the odor. Need AC treatments or a new cabin air filter? Shop at an AutoZone near you. We always have exactly what you need to keep your car in its best shape.  FAQ/People Also Ask'},\n",
       " {'id': 'How to Use Car Defrosters',\n",
       "  'text': 'Types of Car Defrosters: Rear and Front Defrosters  Car defrosters are found in two main places. The front is meant to defrost or defog your front windshield and the side windows, and the rear defrosters is intended to clear the back glass. Both serve the same purpose but are designed for different parts of the vehicle.  Rear defrosters are primarily responsible for clearing the rear windshield of frost, ice, and condensation. They consist of heating elements embedded in the glass, which radiate heat to melt away any obstructions. It’s triggered by hitting the defrost switch or button on the HVAC controls. Front defrosters are essential for maintaining visibility through the front windshield. They work by blowing air, usually warm air, onto the glass surface to remove fog and ice buildup. It’s activated when the heater control air direction is switched to defrost setting, whether it’s only defrost or a blend with floor or dash vents too.  How to Use Car Defrosters: Step-by-Step Guide  You might think it’s a no-brainer to use the defroster on your car. But in reality, it’s an often misused system. You might be using it when it isn’t necessary, or you might not be using it when you should. To effectively use your car defroster, follow these simple steps.  1. Activating the Defroster  When you first notice your windshield or rear window fogging or frosting up, the defroster should be activated right away. The engine should be started, otherwise there might not be power to the rear defrost grid or there may not be any heat blowing from the front. The defroster controls on your dashboard are usually marked with a snowflake or windshield icon accompanied by wavy lines signifying heat. Turn on the defroster system by pressing the appropriate button or dial. The rear defroster is timed, and will often kick off after around 10 minutes.  2. Setting the Right Temperature and Fan Speed  Adjust the temperature to a warm setting, and typically, the hotter the better for clearing the windows. There is a bit of a balance to keep in mind in winter weather as high heat on the windshield can cause more moisture or snow accumulation. Set the fan to medium or high for the best results, pushing air over the glass to get rid of the moisture.  3. Defrosting the Rear Windshield (If Applicable)  If your vehicle has a rear defroster – and most vehicles do – activate it separately using the rear defroster switch. As an added bonus, it usually turns on the heated outside mirrors, if your vehicle is equipped with them. Ensure the rear defroster light or indicator is illuminated, indicating that it’s operational. It will turn off after it’s been on for about 10 minutes or so.  4. Use Air Conditioning  To dehumidify the interior and prevent condensation, switch on your air conditioning system in combination with the defroster. For most vehicles, it automatically comes on when the defrost is engaged, but some drivers might not understand that it helps to remove the moisture from the air, and they turn it off. While the defrost might still work, it’s more effective with the A/C on.  Tips for Quick Defrosting  For rapid defrosting and improved visibility, consider these tips:  Park your car in a garage or sheltered area whenever possible. Use an ice scraper or defrosting spray for stubborn ice buildup on the outside of the glass. Avoid using hot water, as it can crack your windshield. Keep your windows and sunroof closed to reduce cold air infiltration. Use the defrost setting on humid days to prevent moisture buildup inside your car.  Precautions and Safety Measures  While using your car defroster, never leave your vehicle unattended. You’ll have the engine running, and defrosting a car is a major contributor to easy car thefts with the keys already present. Also, don’t obstruct the defroster vents with objects or debris. Not only can items fall into the vents, but it seriously reduces how effective it will clear your windows. Lastly, be cautious when using the defroster in confined spaces to prevent carbon monoxide buildup.  Maintaining and Cleaning Car Defrosters  To maintain your defroster system’s efficiency, perform regular cleaning and checks. Clean the defroster vents and windshield regularly to remove dust and debris, and inspect the heating elements for damage or signs of wear. Notice a problem? Replace damaged or malfunctioning defroster components promptly.  Seasonal Preparation: Winterizing Your Car Defrosters  Before the winter season, take these steps to prepare your car defrosters:  Check all defroster components for proper function. Replace your cabin air filter annually to promote good airflow. Top up your windshield washer fluid with a winter-grade solution. Keep spare fuses and a defroster repair kit in your vehicle.  Common Defroster Problems and Troubleshooting  If you encounter issues with your car defroster, it might have a simple solution. Here are a few scenarios:  If you have weak or no heat output, check coolant levels and the thermostat, and replace if necessary. If you have rear defroster grid damage, use a repair kit or consult a glass repair shop for repairs. If your front defroster isn’t blowing air, it could be a blower motor or resistor issue. It’ll need to be diagnosed for the correct repair to perform.  FAQ/People Also Ask'},\n",
       " {'id': 'Does AC Affect Gas Mileage?',\n",
       "  'text': 'How Air Conditioning Affects Fuel Consumption  To comprehend the impact of AC on gas mileage, it’s essential to first grasp how the A/C system functions. In simple terms, the AC system relies on a compressor to pressurize and circulate a refrigerant that absorbs heat from inside the vehicle and expels it outside. This process cools the cabin, making your drive more comfortable during hot weather. However, operating the A/C system does require energy, and that energy comes from your vehicle’s engine. When you turn on the AC, the engine works harder to power the compressor and maintain the temperature inside the cabin. The increased workload results in higher fuel consumption, at least in theory. The engine’s fuel efficiency is influenced by various factors, including load and engine speed, and AC usage directly impacts these variables. In general, the impact of AC on fuel consumption is more significant in city driving conditions compared to highway driving. In stop-and-go traffic, where the engine frequently revs up and down, the A/C system’s demand for power becomes noticeable. On the open highway, the impact is relatively less pronounced as the engine operates at a more consistent speed.  Understanding Gas Mileage and Efficiency  To understand the AC’s effect on gas mileage, it’s crucial to grasp the concept of gas mileage and efficiency. Gas mileage, expressed as miles per gallon (MPG), indicates how many miles a vehicle can travel on a gallon of fuel. The higher the MPG, the more fuel-efficient the vehicle is. Efficiency is a complex interplay of various factors, including the vehicle’s engine, weight, and driving conditions. AC usage is one of these factors, but it’s not the only one influencing gas mileage. Factors like tire pressure, vehicle maintenance, and driving habits also play significant roles in determining fuel efficiency. Overall, A/C might decrease your fuel mileage by up to 25%, and that becomes noticeable at the pump. You’ll want to figure out how to reduce the effect when possible.  Tips for Improving Gas Mileage While Using A/C  Now that we’ve established that AC usage can affect fuel consumption let’s explore some practical tips to help you maintain a balance between comfort and fuel economy:  Use A/C wisely. On the highway, consider using the A/C sparingly or turning it off when cruising at a constant speed. In stop-and-go traffic or during extreme heat, use the A/C strategically to stay comfortable without overtaxing your engine. Keep windows closed. When driving at high speeds on the highway, keeping your windows closed reduces aerodynamic drag, which can improve fuel efficiency. Park in the shade. Parking in the shade helps keep your car cooler, reducing the need for intense A/C use when you start your journey. Maintain your vehicle. Keep your vehicle well-maintained with routine oil and oil filter changes, air filter replacements, and tire rotations. A well-maintained engine runs more efficiently, which can offset some of the A/C-related fuel consumption. Maintain proper tire pressure. Ensure your tires are properly inflated. Underinflated tires can increase rolling resistance and decrease fuel efficiency.  Seasonal Considerations: AC Usage in Different Weather  AC usage may vary depending on the season. During hot summer months, it’s natural to rely more on AC to stay cool. However, during the fall and spring, you might have more flexibility to use natural ventilation and reduce AC usage. In the winter, you might not think you’re using the AC at all, but you are. When the windshield is defrosting, the air conditioning cycles to remove moisture from your interior that causes the frost. Still, whenever possible, switch to another setting that doesn’t use AC to remove the drain on the system.  Hybrid and Electric Cars: AC Impact on Range  For hybrid and electric vehicle owners, AC usage can have a slightly different impact. EVs use the high-voltage battery to power the AC, which can lead to a reduction in the vehicle’s range. To mitigate this, some EVs offer features like preconditioning, allowing you to cool or heat the cabin while the vehicle is still connected to a charger. Hybrid vehicles also see a decrease in fuel efficiency when running the AC, but the impact is typically less significant compared to traditional gasoline vehicles.  Balancing Comfort and Fuel Economy  So, does AC burn gas more than you expect? While it’s true that using the AC can impact gas mileage, the effect is manageable with mindful driving habits and vehicle maintenance. The key is to strike a balance between staying comfortable and maximizing fuel efficiency. By using the AC strategically, maintaining your vehicle, and considering seasonal variations, you can enjoy a comfortable ride without breaking the bank at the gas pump. Remember that modern vehicles are designed to be more fuel-efficient than ever, and advancements in AC technology continue to improve energy efficiency. So, whether you’re cruising through the sweltering summer heat or embarking on a long road trip, rest assured that you can enjoy a cool, comfortable ride without sacrificing too much in terms of gas mileage.  FAQ/People Also Ask'}]"
      ]
     },
     "execution_count": 37,
     "metadata": {},
     "output_type": "execute_result"
    }
   ],
   "source": [
    "context = df_articles[:5].to_dict('records')\n",
    "context"
   ]
  },
  {
   "cell_type": "code",
   "execution_count": 38,
   "metadata": {},
   "outputs": [],
   "source": [
    "# Query templates\n",
    "templates = [\n",
    "    \"Tell me about {text}\",\n",
    "    \"Give an explanation on {text}\",\n",
    "    \"Provide a quick summary on {text}\",\n",
    "    \"Explain {text} in simple terms\",\n",
    "    \"Describe {text}\"\n",
    "]"
   ]
  },
  {
   "cell_type": "code",
   "execution_count": 39,
   "metadata": {},
   "outputs": [
    {
     "name": "stderr",
     "output_type": "stream",
     "text": [
      "100%|██████████| 5/5 [00:00<00:00, 65331.84it/s]\n"
     ]
    }
   ],
   "source": [
    "from txtinstruct.data import DatasetBuilder\n",
    "\n",
    "builder = DatasetBuilder(Sequences(\"google/flan-t5-base\"), statements, templates)\n",
    "builder(\n",
    "    context,\n",
    "    5,\n",
    "    \"data.json\"\n",
    ")"
   ]
  },
  {
   "cell_type": "code",
   "execution_count": 40,
   "metadata": {},
   "outputs": [],
   "source": [
    "import json\n",
    "\n",
    "questions = json.load(open('data.json'))"
   ]
  },
  {
   "cell_type": "code",
   "execution_count": 41,
   "metadata": {},
   "outputs": [
    {
     "data": {
      "text/plain": [
       "{'context': 'Types of Car Defrosters: Rear and Front Defrosters  Car defrosters are found in two main places. The front is meant to defrost or defog your front windshield and the side windows, and the rear defrosters is intended to clear the back glass. Both serve the same purpose but are designed for different parts of the vehicle.  Rear defrosters are primarily responsible for clearing the rear windshield of frost, ice, and condensation. They consist of heating elements embedded in the glass, which radiate heat to melt away any obstructions. It’s triggered by hitting the defrost switch or button on the HVAC controls. Front defrosters are essential for maintaining visibility through the front windshield. They work by blowing air, usually warm air, onto the glass surface to remove fog and ice buildup. It’s activated when the heater control air direction is switched to defrost setting, whether it’s only defrost or a blend with floor or dash vents too.  How to Use Car Defrosters: Step-by-Step Guide  You might think it’s a no-brainer to use the defroster on your car. But in reality, it’s an often misused system. You might be using it when it isn’t necessary, or you might not be using it when you should. To effectively use your car defroster, follow these simple steps.  1. Activating the Defroster  When you first notice your windshield or rear window fogging or frosting up, the defroster should be activated right away. The engine should be started, otherwise there might not be power to the rear defrost grid or there may not be any heat blowing from the front. The defroster controls on your dashboard are usually marked with a snowflake or windshield icon accompanied by wavy lines signifying heat. Turn on the defroster system by pressing the appropriate button or dial. The rear defroster is timed, and will often kick off after around 10 minutes.  2. Setting the Right Temperature and Fan Speed  Adjust the temperature to a warm setting, and typically, the hotter the better for clearing the windows. There is a bit of a balance to keep in mind in winter weather as high heat on the windshield can cause more moisture or snow accumulation. Set the fan to medium or high for the best results, pushing air over the glass to get rid of the moisture.  3. Defrosting the Rear Windshield (If Applicable)  If your vehicle has a rear defroster – and most vehicles do – activate it separately using the rear defroster switch. As an added bonus, it usually turns on the heated outside mirrors, if your vehicle is equipped with them. Ensure the rear defroster light or indicator is illuminated, indicating that it’s operational. It will turn off after it’s been on for about 10 minutes or so.  4. Use Air Conditioning  To dehumidify the interior and prevent condensation, switch on your air conditioning system in combination with the defroster. For most vehicles, it automatically comes on when the defrost is engaged, but some drivers might not understand that it helps to remove the moisture from the air, and they turn it off. While the defrost might still work, it’s more effective with the A/C on.  Tips for Quick Defrosting  For rapid defrosting and improved visibility, consider these tips:  Park your car in a garage or sheltered area whenever possible. Use an ice scraper or defrosting spray for stubborn ice buildup on the outside of the glass. Avoid using hot water, as it can crack your windshield. Keep your windows and sunroof closed to reduce cold air infiltration. Use the defrost setting on humid days to prevent moisture buildup inside your car.  Precautions and Safety Measures  While using your car defroster, never leave your vehicle unattended. You’ll have the engine running, and defrosting a car is a major contributor to easy car thefts with the keys already present. Also, don’t obstruct the defroster vents with objects or debris. Not only can items fall into the vents, but it seriously reduces how effective it will clear your windows. Lastly, be cautious when using the defroster in confined spaces to prevent carbon monoxide buildup.  Maintaining and Cleaning Car Defrosters  To maintain your defroster system’s efficiency, perform regular cleaning and checks. Clean the defroster vents and windshield regularly to remove dust and debris, and inspect the heating elements for damage or signs of wear. Notice a problem? Replace damaged or malfunctioning defroster components promptly.  Seasonal Preparation: Winterizing Your Car Defrosters  Before the winter season, take these steps to prepare your car defrosters:  Check all defroster components for proper function. Replace your cabin air filter annually to promote good airflow. Top up your windshield washer fluid with a winter-grade solution. Keep spare fuses and a defroster repair kit in your vehicle.  Common Defroster Problems and Troubleshooting  If you encounter issues with your car defroster, it might have a simple solution. Here are a few scenarios:  If you have weak or no heat output, check coolant levels and the thermostat, and replace if necessary. If you have rear defroster grid damage, use a repair kit or consult a glass repair shop for repairs. If your front defroster isn’t blowing air, it could be a blower motor or resistor issue. It’ll need to be diagnosed for the correct repair to perform.  FAQ/People Also Ask',\n",
       " 'statements': [{'source': 'What is the purpose of the front defroster?',\n",
       "   'target': 'Defrost or defog your front windshield and the side windows'},\n",
       "  {'source': 'Give an explanation on How to Use Car Defrosters',\n",
       "   'target': '1. Activating the Defroster. 2. Setting the Right Temperature and Fan.'},\n",
       "  {'source': 'What is the cause of a problem with a bad blower motor?',\n",
       "   'target': \"I don't have data on that\"}]}"
      ]
     },
     "execution_count": 41,
     "metadata": {},
     "output_type": "execute_result"
    }
   ],
   "source": [
    "questions[3]"
   ]
  },
  {
   "cell_type": "code",
   "execution_count": null,
   "metadata": {},
   "outputs": [],
   "source": []
  }
 ],
 "metadata": {
  "accelerator": "GPU",
  "colab": {
   "authorship_tag": "ABX9TyPAuhOs6LqPlTbKAiCb1/PW",
   "gpuType": "T4",
   "include_colab_link": true,
   "mount_file_id": "1jdzFQfBomK42CMq2RKVQvVgfODSCiACc",
   "provenance": []
  },
  "kernelspec": {
   "display_name": "Python 3",
   "language": "python",
   "name": "python3"
  },
  "language_info": {
   "codemirror_mode": {
    "name": "ipython",
    "version": 3
   },
   "file_extension": ".py",
   "mimetype": "text/x-python",
   "name": "python",
   "nbconvert_exporter": "python",
   "pygments_lexer": "ipython3",
   "version": "3.10.11"
  }
 },
 "nbformat": 4,
 "nbformat_minor": 4
}
