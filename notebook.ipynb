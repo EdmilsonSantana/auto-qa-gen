{
 "cells": [
  {
   "cell_type": "markdown",
   "metadata": {
    "colab_type": "text",
    "id": "view-in-github"
   },
   "source": [
    "<a href=\"https://colab.research.google.com/github/EdmilsonSantana/llm-vehicle-repair/blob/main/Assistente_do_Mecanico_TCC.ipynb\" target=\"_parent\"><img src=\"https://colab.research.google.com/assets/colab-badge.svg\" alt=\"Open In Colab\"/></a>"
   ]
  },
  {
   "cell_type": "code",
   "execution_count": 107,
   "metadata": {},
   "outputs": [],
   "source": [
    "%%capture\n",
    "!pip install docx"
   ]
  },
  {
   "cell_type": "code",
   "execution_count": 125,
   "metadata": {},
   "outputs": [],
   "source": [
    "from docx import Document\n",
    "from docx.text.paragraph import Paragraph\n",
    "from docx.shared import Pt\n",
    "import os\n",
    "import re\n",
    "import modal\n",
    "import json"
   ]
  },
  {
   "cell_type": "markdown",
   "metadata": {},
   "source": [
    "### Processando apostilas da Universidade do Automóvel"
   ]
  },
  {
   "cell_type": "code",
   "execution_count": 109,
   "metadata": {},
   "outputs": [],
   "source": [
    "RAW_DIR = './raw_data'\n",
    "BASE_DIR = './data'"
   ]
  },
  {
   "cell_type": "code",
   "execution_count": 110,
   "metadata": {},
   "outputs": [],
   "source": [
    "files = os.listdir(RAW_DIR)"
   ]
  },
  {
   "cell_type": "code",
   "execution_count": 111,
   "metadata": {},
   "outputs": [
    {
     "name": "stdout",
     "output_type": "stream",
     "text": [
      "4 documents\n"
     ]
    }
   ],
   "source": [
    "print(f'{len(files)} documents')"
   ]
  },
  {
   "cell_type": "code",
   "execution_count": 112,
   "metadata": {},
   "outputs": [
    {
     "data": {
      "text/plain": [
       "['5 -Motor de Comb. Interna - Otto.docx',\n",
       " '6 - Sistema de Transmissão.docx',\n",
       " '7 - Metrologia Mec. Automotiva.docx',\n",
       " '8 - Suspensão, Direção e Freios.docx']"
      ]
     },
     "execution_count": 112,
     "metadata": {},
     "output_type": "execute_result"
    }
   ],
   "source": [
    "files"
   ]
  },
  {
   "cell_type": "code",
   "execution_count": 113,
   "metadata": {},
   "outputs": [],
   "source": [
    "document = Document(f'{RAW_DIR}/{files[0]}')"
   ]
  },
  {
   "cell_type": "code",
   "execution_count": 114,
   "metadata": {},
   "outputs": [],
   "source": [
    "def has_small_font(paragraph: Paragraph):\n",
    "    font_size = paragraph.style.font.size\n",
    "    return font_size == Pt(9) or font_size == Pt(8)"
   ]
  },
  {
   "cell_type": "code",
   "execution_count": 115,
   "metadata": {},
   "outputs": [],
   "source": [
    "def is_heading(paragraph: Paragraph):\n",
    "    return paragraph.style.name.startswith('Heading')\n"
   ]
  },
  {
   "cell_type": "code",
   "execution_count": 116,
   "metadata": {},
   "outputs": [],
   "source": [
    "def parse_text(text):\n",
    "    text = re.sub('\\s+',' ',text).strip()\n",
    "    return '' if text.isnumeric() else text"
   ]
  },
  {
   "cell_type": "code",
   "execution_count": 131,
   "metadata": {},
   "outputs": [],
   "source": [
    "doc_content = {}\n",
    "curr_heading = \"TITLE\"\n",
    "last_text = curr_heading\n",
    "\n",
    "for section in document.sections:\n",
    "    header_paragraphs = section.header.paragraphs\n",
    "    footer_paragraphs = section.footer.paragraphs\n",
    "\n",
    "    for item in section.iter_inner_content():\n",
    "        if (not isinstance(item, Paragraph)):\n",
    "            continue\n",
    "\n",
    "        text = parse_text(item.text)\n",
    "        if (len(text) == 0):\n",
    "            continue\n",
    "        if (item in header_paragraphs or item in footer_paragraphs):\n",
    "            continue\n",
    "        if (has_small_font(item)):\n",
    "            continue\n",
    "\n",
    "        if (is_heading(item)):\n",
    "            curr_heading = text\n",
    "        \n",
    "        section_content = doc_content.setdefault(curr_heading, [])\n",
    "        if text != curr_heading:\n",
    "            section_content.append(text)\n",
    "            "
   ]
  },
  {
   "cell_type": "code",
   "execution_count": 132,
   "metadata": {},
   "outputs": [
    {
     "data": {
      "text/plain": [
       "dict_keys(['TITLE', 'CICLO OTTO', 'Conteúdos', 'INTRODUÇÃO', 'MOTOR DE COMBUSTÃO', 'MOTOR DE COMBUSTÃO EXTERNA', 'MOTOR DE COMBUSTÃO INTERNA', 'MOTORES DE DOIS TEMPOS', 'MOTORES DE QUATRO TEMPOS', 'CABEÇOTE DO MOTOR', 'TIPOS DE CABEÇOTE', 'DISTRIBUIÇÃO MECÂNICA', 'DIAGRAMA DE VÁLVULAS', 'POSIÇÃO DO COMANDO E TIPO DE MOTOR', 'ESTRUTURA DA DISTRIBUIÇÃO MECÂNICA', 'ÁRVORE DE COMANDO DE VÁLVULAS', 'TUCHOS', 'CONJUNTO DE BALANCINS', 'MANUTENÇÃO', 'VÁLVULAS', 'CONSTITUIÇÃO DA VÁLVULA', 'DISPOSITIVOS DE MONTAGEM DAS VÁLVULAS', 'PEÇAS MÓVEIS', 'BIELA', 'CASQUILHO', 'ÊMBOLO', 'ANÉIS DE SEGMENTO', 'ÁRVORE DE MANIVELAS', 'BLOCO DE MOTOR', 'TIPOS DE BLOCO', 'VOLANTE DO MOTOR', 'FUNÇÕES DO VOLANTE DO MOTOR', 'DIMENSÕES E DESEMPENHO DO MOTOR', 'LUBRIFICAÇÃO', 'ATRITO', 'LUBRIFICANTES', 'SISTEMA DE LUBRIFICAÇÃO', 'SISTEMA DE LUBRIFICAÇÃO MISTO', 'SISTEMA DE CÁRTER SECO', 'CÁRTER', 'FILTRO DE ÓLEO', 'BOMBA DE ÓLEO', 'VÁLVULA REGULADORA DE PRESSÃO', 'BIBLIOGRAFIA'])"
      ]
     },
     "execution_count": 132,
     "metadata": {},
     "output_type": "execute_result"
    }
   ],
   "source": [
    "doc_content.keys()"
   ]
  },
  {
   "cell_type": "code",
   "execution_count": 133,
   "metadata": {},
   "outputs": [
    {
     "data": {
      "text/plain": [
       "['https://www.mmcofap.com.br',\n",
       " 'CASTROL. Veículos automotivos e sua lubrificação.',\n",
       " 'COFAP. Manual doutor em motores. 2a.ed., 1988.',\n",
       " 'FIAT. Oficina FIAT no. 2, vol. II, ano2. 1987. Tutela lubrificantes: história, informações, técnicas e Produtos.',\n",
       " 'MOBIL. Curso de lubrificação. São Paulo, 1975.']"
      ]
     },
     "execution_count": 133,
     "metadata": {},
     "output_type": "execute_result"
    }
   ],
   "source": [
    "doc_content.pop('TITLE')\n",
    "doc_content.pop('CICLO OTTO')\n",
    "doc_content.pop('Conteúdos')\n",
    "doc_content.pop('INTRODUÇÃO')\n",
    "doc_content.pop('BIBLIOGRAFIA')"
   ]
  },
  {
   "cell_type": "code",
   "execution_count": 134,
   "metadata": {},
   "outputs": [
    {
     "data": {
      "text/plain": [
       "dict_keys(['MOTOR DE COMBUSTÃO', 'MOTOR DE COMBUSTÃO EXTERNA', 'MOTOR DE COMBUSTÃO INTERNA', 'MOTORES DE DOIS TEMPOS', 'MOTORES DE QUATRO TEMPOS', 'CABEÇOTE DO MOTOR', 'TIPOS DE CABEÇOTE', 'DISTRIBUIÇÃO MECÂNICA', 'DIAGRAMA DE VÁLVULAS', 'POSIÇÃO DO COMANDO E TIPO DE MOTOR', 'ESTRUTURA DA DISTRIBUIÇÃO MECÂNICA', 'ÁRVORE DE COMANDO DE VÁLVULAS', 'TUCHOS', 'CONJUNTO DE BALANCINS', 'MANUTENÇÃO', 'VÁLVULAS', 'CONSTITUIÇÃO DA VÁLVULA', 'DISPOSITIVOS DE MONTAGEM DAS VÁLVULAS', 'PEÇAS MÓVEIS', 'BIELA', 'CASQUILHO', 'ÊMBOLO', 'ANÉIS DE SEGMENTO', 'ÁRVORE DE MANIVELAS', 'BLOCO DE MOTOR', 'TIPOS DE BLOCO', 'VOLANTE DO MOTOR', 'FUNÇÕES DO VOLANTE DO MOTOR', 'DIMENSÕES E DESEMPENHO DO MOTOR', 'LUBRIFICAÇÃO', 'ATRITO', 'LUBRIFICANTES', 'SISTEMA DE LUBRIFICAÇÃO', 'SISTEMA DE LUBRIFICAÇÃO MISTO', 'SISTEMA DE CÁRTER SECO', 'CÁRTER', 'FILTRO DE ÓLEO', 'BOMBA DE ÓLEO', 'VÁLVULA REGULADORA DE PRESSÃO'])"
      ]
     },
     "execution_count": 134,
     "metadata": {},
     "output_type": "execute_result"
    }
   ],
   "source": [
    "doc_content.keys()"
   ]
  },
  {
   "cell_type": "markdown",
   "metadata": {},
   "source": [
    "### Extraindo instruções a partir do conteúdo"
   ]
  },
  {
   "cell_type": "code",
   "execution_count": 164,
   "metadata": {},
   "outputs": [
    {
     "name": "stdout",
     "output_type": "stream",
     "text": [
      "- Creating objects...\n",
      "| Creating objects...\n",
      "└── - Creating mount e:\\Workspace\\tcc-2022-2\\inference.py: Uploaded 0/0 \n",
      "    inspected files\n",
      "- Creating objects...\n",
      "└── | Creating mount e:\\Workspace\\tcc-2022-2\\inference.py: Uploaded 0/0 \n",
      "    inspected files\n",
      "| Creating objects...\n",
      "└── - Creating mount e:\\Workspace\\tcc-2022-2\\inference.py: Building mount\n",
      "- Creating objects...\n",
      "└── 🔨 Created mount e:\\Workspace\\tcc-2022-2\\inference.py\n",
      "| Creating objects...\n",
      "└── 🔨 Created mount e:\\Workspace\\tcc-2022-2\\inference.py\n",
      "- Creating objects...\n",
      "└── 🔨 Created mount e:\\Workspace\\tcc-2022-2\\inference.py\n",
      "| Creating objects...\n",
      "├── 🔨 Created mount e:\\Workspace\\tcc-2022-2\\inference.py\n",
      "└── - Creating download_model_to_folder...\n",
      "- Creating objects...\n",
      "├── 🔨 Created mount e:\\Workspace\\tcc-2022-2\\inference.py\n",
      "└── 🔨 Created download_model_to_folder.\n",
      "| Creating objects...\n",
      "├── 🔨 Created mount e:\\Workspace\\tcc-2022-2\\inference.py\n",
      "└── 🔨 Created download_model_to_folder.\n",
      "- Creating objects...\n",
      "├── 🔨 Created mount e:\\Workspace\\tcc-2022-2\\inference.py\n",
      "├── 🔨 Created download_model_to_folder.\n",
      "└── - Creating Model.generate...\n",
      "| Creating objects...\n",
      "├── 🔨 Created mount e:\\Workspace\\tcc-2022-2\\inference.py\n",
      "├── 🔨 Created download_model_to_folder.\n",
      "└── 🔨 Created Model.generate.\n",
      "- Creating objects...\n",
      "├── 🔨 Created mount e:\\Workspace\\tcc-2022-2\\inference.py\n",
      "├── 🔨 Created download_model_to_folder.\n",
      "└── 🔨 Created Model.generate.\n",
      "\n",
      "✓ Created objects.\n",
      "├── 🔨 Created mount e:\\Workspace\\tcc-2022-2\\inference.py\n",
      "├── 🔨 Created download_model_to_folder.\n",
      "└── 🔨 Created Model.generate.\n",
      "✓ App deployed! 🎉\n",
      "\n",
      "View Deployment: https://modal.com/apps/edmilsonsantana/llm-inference\n"
     ]
    }
   ],
   "source": [
    "! modal deploy inference.py"
   ]
  },
  {
   "cell_type": "code",
   "execution_count": 165,
   "metadata": {},
   "outputs": [],
   "source": [
    "inference = modal.Function.lookup('llm-inference', 'Model.generate')"
   ]
  },
  {
   "cell_type": "markdown",
   "metadata": {},
   "source": [
    "#### Prompts"
   ]
  },
  {
   "cell_type": "code",
   "execution_count": 192,
   "metadata": {},
   "outputs": [],
   "source": [
    "questions_prompt = \"\"\"\n",
    "You are a specialist in vehicle repair and maintenance and your goal is to extract questions and answers related to a certain topic from a document.\n",
    "Here are some criterias that you have to follow to achieve your goal:\n",
    "\n",
    "- You should not create questions for contents not related to vehicle repair and maintenance.\n",
    "- You should include the topic in the question so that it is possible to understand what the question is about.\n",
    "- The answers should only contain the content originating from the document.\n",
    "- You must create a maximum of 5 questions.\n",
    "- The language used to generate questions and answers should always be Brazilian Portuguese.\n",
    "- Your response should always be only a well-formed JSON array with the questions and answers.\n",
    "\n",
    "examples:\n",
    "\n",
    "Topic: Rolamentos dianteiros\n",
    "Document: O cuidado com o meio ambiente é uma preocupação global imprescindível\n",
    "para o desenvolvimento sustentável. No mundo dos automóveis, essa discussão é cada vez maior,\n",
    "com o aumento do rigor na legislação em diversos países - o que acelera a evolução de veículos de propulsão alternativa,\n",
    "como híbridos e elétricos. O aperto excessivo da porca afeta diretamente a vida útil do rolamento.\n",
    "Em rolamentos dianteiros selados, Airton, da Schaeffler, adverte para nunca\n",
    "substituir a graxa ou completar os espaços internos, porque pode haver uma reação\n",
    "entre as graxas com composições químicas diferentes, além de um aquecimento elevado no interior do rolamento.\n",
    "\n",
    "Answer:\n",
    "[\n",
    "    {{\n",
    "        \"question\": \"Posso apertar a porca do rolamento ?\",\n",
    "        \"answer\": \"O aperto excessivo da porca afeta diretamente a vida útil do rolamento.\"\n",
    "    }},\n",
    "    {{\n",
    "        \"question\": \"Devo substituir a graxa de rolamentos dianteiros selados ? \",\n",
    "        \"answer\": \"Em rolamentos dianteiros selados, nunca substitua a graxa ou complete os espaços internos,\n",
    "                porque pode haver uma reação entre as graxas com composições químicas diferentes, além de\n",
    "                um aquecimento elevado no interior do rolamento.\"\n",
    "    }}\n",
    "]\n",
    "\n",
    "Topic: {topic}\n",
    "Document: {document}\n",
    "Answer:\"\"\""
   ]
  },
  {
   "cell_type": "code",
   "execution_count": 167,
   "metadata": {},
   "outputs": [],
   "source": [
    "topics_prompt = \"\"\"\n",
    "Given a document your goals is to extract 5 topics that summarizes the content present in the document.\n",
    "\n",
    "examples:\n",
    "\n",
    "Document: O cuidado com o meio ambiente é uma preocupação global imprescindível\n",
    "para o desenvolvimento sustentável. No mundo dos automóveis, essa discussão é cada vez maior,\n",
    "com o aumento do rigor na legislação em diversos países - o que acelera a evolução de veículos de propulsão alternativa,\n",
    "como híbridos e elétricos. O aperto excessivo da porca afeta diretamente a vida útil do rolamento.\n",
    "Em rolamentos dianteiros selados, Airton, da Schaeffler, adverte para nunca\n",
    "substituir a graxa ou completar os espaços internos, porque pode haver uma reação\n",
    "entre as graxas com composições químicas diferentes, além de um aquecimento elevado no interior do rolamento.\n",
    "\n",
    "Answer:\n",
    "[\n",
    "    \"A importância global do cuidado com o meio ambiente\",\n",
    "    \"A evolução dos veículos de propulsão alternativa\",\n",
    "    \"O aumento da legislação ambiental nos países\",\n",
    "    \"Impacto do aperto excessivo da porca na vida útil do rolamento\",\n",
    "    \"Cuidados específicos com a manutenção de rolamentos dianteiros selados\"\n",
    "]\n",
    "\n",
    "Document: {document}\n",
    "Answer:\"\"\""
   ]
  },
  {
   "cell_type": "code",
   "execution_count": 161,
   "metadata": {},
   "outputs": [],
   "source": [
    "documents = []\n",
    "for sentences in doc_content.values():\n",
    "    documents.append(\" \".join(sentences))"
   ]
  },
  {
   "cell_type": "code",
   "execution_count": 162,
   "metadata": {},
   "outputs": [
    {
     "data": {
      "text/plain": [
       "'Há muitos séculos, o homem vem se defrontando com problemas de transporte; nos primórdios da civilização foi utilizada a tração animal, porém muito dos esforços humanos foram dirigidos à construção de veículos que não dependessem da tração animal. Um dos primeiros resultados foi a invenção da máquina a vapor, conhecida também como motor de combustão externa, logo em seguida a sua invenção, foi instalada nos veículos já existentes (carruagens, triciclos e bicicletas). Consta que o primeiro desses veículos, um triciclo a vapor, foi construído na França, já em 1771. Esse triciclo iniciou um processo que não se interrompeu mais; a produção de veículos que têm propulsão própria. A máquina a vapor, entretanto, apresenta muitos problemas e inconvenientes: Seu baixo rendimento obriga-a a utilizar grandes quantidades de combustível e água; A produção de vapor em caldeiras, pelo calor gerado nas fornalhas, obriga o motor a ocupar muito espaço. Por isso, torna-se difícil fazer um carro a vapor compacto. O alemão Nicolaus Otto construiu juntamente com o engenheiro Langen em 1877 uma máquina endotérmica de quatro tempos movida a gás, que queimava o combustível dentro dos cilindros, produzindo a força-motriz do veículo; funcionando com quantidades controladas de combustível possuía um rendimento superior ao da máquina a vapor. Este engenho é conhecido até os dias de hoje como Motor de combustão interna do ciclo Otto. Em 1885, na Alemanha, Carl Benz construiu um motor de quatro tempos com combustão interna, movido a gasolina e o adaptou a um triciclo, assim nascia o primeiro automóvel. O motor de combustão interna é constituído de três partes fundamentais: Cabeçote - aloja as câmaras de combustão, válvulas e outros elementos; Bloco - é a estrutura principal do motor onde estão os cilindros e as câmaras de arrefecimento e lubrificação; Conjunto móvel - composto de: êmbolos, bielas, polias, volante e árvore de manivelas (virabrequim). Para seu funcionamento é necessário uma mistura ar/combustível é aspirada para as câmaras de combustão. Em seguida, ela é comprimida, próximo ao final desta fase, uma centelha salta entre os eletrodos da vela e produz a combustão da mistura, os gases resultantes dessa queima empurram o êmbolo, cujo movimento é transmitido, pelas bielas à arvore de manivelas (virabrequim), que transforma o movimento retilíneo alternado do pistão em movimento rotativo. A combustão, ou queima, é um processo químico que exige três componentes que se combinam: calor; comburente e combustível.'"
      ]
     },
     "execution_count": 162,
     "metadata": {},
     "output_type": "execute_result"
    }
   ],
   "source": [
    "documents[0]"
   ]
  },
  {
   "cell_type": "code",
   "execution_count": 176,
   "metadata": {},
   "outputs": [],
   "source": [
    "def create_topics(dataset, documents):\n",
    "    failed_responses = []\n",
    "    for i, document in enumerate(documents):\n",
    "        try:\n",
    "            print(f\"Processing document with {len(document)} length\")\n",
    "            response = inference.remote(topics_prompt.format(document=document))\n",
    "            data = dataset.setdefault(i, {})\n",
    "            data.update({'topics': json.loads(response)})\n",
    "        except Exception as error:\n",
    "            print(f\"{i=} {error=}\")\n",
    "            failed_responses.append(i)\n",
    "\n",
    "    return failed_responses"
   ]
  },
  {
   "cell_type": "code",
   "execution_count": 193,
   "metadata": {},
   "outputs": [],
   "source": [
    "def get_questions(dataset, documents):\n",
    "    failed_responses = []\n",
    "    for i, data in dataset.items():\n",
    "        document = documents[i]\n",
    "        for topic in data['topics']:\n",
    "            try:\n",
    "                print(f\"Processing topic \\\"{topic}\\\" from document {i}\")\n",
    "                prompt = questions_prompt.format(topic=topic, document=document)\n",
    "                response = inference.remote(prompt)\n",
    "                questions = data.setdefault(\"questions\", [])\n",
    "                questions.extend(json.loads(response))\n",
    "            except Exception as error:\n",
    "                print(f\"{i=} {topic=} {error=}\")\n",
    "                failed_responses.append((i, topic))\n",
    "    return failed_responses"
   ]
  },
  {
   "cell_type": "code",
   "execution_count": 177,
   "metadata": {},
   "outputs": [],
   "source": [
    "dataset = {}"
   ]
  },
  {
   "cell_type": "code",
   "execution_count": 178,
   "metadata": {},
   "outputs": [
    {
     "name": "stdout",
     "output_type": "stream",
     "text": [
      "Processing document with 2529 length\n",
      "Processing document with 607 length\n",
      "Processing document with 3335 length\n",
      "Processing document with 1536 length\n",
      "Processing document with 1806 length\n",
      "Processing document with 3697 length\n",
      "Processing document with 355 length\n",
      "Processing document with 2092 length\n",
      "Processing document with 244 length\n",
      "Processing document with 1265 length\n",
      "Processing document with 1250 length\n",
      "Processing document with 2153 length\n",
      "Processing document with 1429 length\n",
      "Processing document with 2097 length\n",
      "Processing document with 675 length\n",
      "Processing document with 1317 length\n",
      "Processing document with 1319 length\n",
      "Processing document with 1433 length\n",
      "Processing document with 484 length\n",
      "Processing document with 904 length\n",
      "Processing document with 1593 length\n",
      "Processing document with 3760 length\n",
      "Processing document with 1349 length\n",
      "Processing document with 2683 length\n",
      "Processing document with 1681 length\n",
      "Processing document with 397 length\n",
      "Processing document with 1081 length\n",
      "Processing document with 1195 length\n",
      "Processing document with 2583 length\n",
      "Processing document with 1274 length\n",
      "Processing document with 3276 length\n",
      "Processing document with 11599 length\n",
      "Processing document with 2177 length\n",
      "Processing document with 490 length\n",
      "Processing document with 404 length\n",
      "Processing document with 2415 length\n",
      "Processing document with 2240 length\n",
      "Processing document with 2612 length\n",
      "Processing document with 1154 length\n"
     ]
    },
    {
     "data": {
      "text/plain": [
       "[]"
      ]
     },
     "execution_count": 178,
     "metadata": {},
     "output_type": "execute_result"
    }
   ],
   "source": [
    "failed_responses = create_topics(dataset, documents)\n",
    "failed_responses"
   ]
  },
  {
   "cell_type": "code",
   "execution_count": 194,
   "metadata": {},
   "outputs": [
    {
     "name": "stdout",
     "output_type": "stream",
     "text": [
      "Processing topic Problemas de transporte ao longo da história da humanidade from document 0\n",
      "Processing topic Invenção da máquina a vapor e sua utilização em veículos from document 0\n",
      "Processing topic Desenvolvimento do motor de combustão externa e seus problemas from document 0\n",
      "Processing topic Invento do motor de combustão interna do ciclo Otto from document 0\n",
      "Processing topic Construção do primeiro automóvel com motor de combustão interna from document 0\n",
      "Processing topic Funcionamento da locomotiva a vapor from document 1\n",
      "Processing topic Fontes de combustível para locomotivas a vapor from document 1\n",
      "Processing topic Utilização do calor para aquecer água e produzir vapor from document 1\n",
      "Processing topic Mecanismo de movimento das locomotivas a vapor from document 1\n",
      "Processing topic Origem dos primeiros triciclos a vapor baseados no princípio da locomotiva a vapor from document 1\n",
      "Processing topic Motor de combustão interna e seu funcionamento from document 2\n",
      "Processing topic Diversidade de motores disponíveis para diferentes aplicações from document 2\n",
      "Processing topic Variedade de tipos de cilindros e sua disposição from document 2\n",
      "Processing topic Construção e componentes principais do motor de combustão interna from document 2\n",
      "Processing topic Processo de admissão, compressão, combustão e escapamento no ciclo de um motor from document 2\n",
      "Processing topic Trabalho de dois movimentos do êmbolo em motores from document 3\n",
      "Processing topic Janelas de abertura e escapamento em motores de dois tempos from document 3\n",
      "Processing topic Ciclo de dois tempos em motores from document 3\n",
      "Processing topic Ascendente e descendente de movimento em dois tempos from document 3\n",
      "Processing topic Procedimento de lubrificação em motores de dois tempos from document 3\n",
      "Processing topic Funcionamento de um motor de 4 tempos from document 4\n",
      "Processing topic Ordem de movimentos em um motor de 4 tempos from document 4\n",
      "Processing topic Fases de funcionamento de um motor de 4 tempos from document 4\n",
      "Processing topic Volante e seu papel no funcionamento de um motor from document 4\n",
      "Processing topic Relação entre o número de cilindros e o funcionamento do motor from document 4\n",
      "Processing topic Funções do cabeçote no motor from document 5\n",
      "Processing topic Componentes do cabeçote from document 5\n",
      "Processing topic Instalação do cabeçote no bloco from document 5\n",
      "Processing topic Funções dos dutos do cabeçote from document 5\n",
      "Processing topic Funções da vedação do cabeçote e do bloco from document 5\n",
      "Processing topic Tipos de cabeçotes de acordo com o sistema de distribuição motora from document 6\n",
      "Processing topic Função dos dispositivos de válvulas e árvore de comando de válvulas from document 6\n",
      "Processing topic Comando de válvulas e dispositivos de válvulas em diferentes tipos de cabeçotes from document 6\n",
      "Processing topic Funcionamento dos dispositivos no bloco do motor from document 6\n",
      "Processing topic Variabilidade dos tipos de cabeçotes de acordo com o sistema de distribuição motora from document 6\n",
      "Processing topic Sincronização das válvulas de admissão e escapamento from document 7\n",
      "Processing topic Árvores de comando de válvulas e de manivelas from document 7\n",
      "Processing topic Ponto de referência da distribuição mecânica from document 7\n",
      "Processing topic Tipos de ligação entre árvores from document 7\n",
      "Processing topic Coordenação através de ângulos predeterminados from document 7\n",
      "Processing topic Funcionamento da válvula de admissão from document 8\n",
      "Processing topic Funcionamento da válvula de escapamento from document 8\n",
      "Processing topic Relação entre abertura e fechamento das válvulas from document 8\n",
      "Processing topic Índices de abertura e fechamento das válvulas from document 8\n",
      "Processing topic Comparação entre as válvulas de admissão e de escapamento from document 8\n",
      "Processing topic Tipos de motores baseados na localização do comando de válvulas from document 9\n",
      "Processing topic OHV (válvula no cabeçote) e suas características from document 9\n",
      "Processing topic OHC (comando no cabeçote) e suas características from document 9\n",
      "Processing topic DOHC (duplo comando de válvulas) e suas características from document 9\n",
      "Processing topic Compreensão dos componentes e funcionamento do duplo comando de válvulas from document 9\n",
      "Processing topic Componentes da estrutura da distribuição mecânica from document 10\n",
      "Processing topic Função dos cames (ressaltos) na árvore de comando de válvulas from document 10\n",
      "Processing topic Tipos de movimento alternado dos tuchos from document 10\n",
      "Processing topic Funcionamento dos balancins e varetas na distribuição mecânica from document 10\n",
      "Processing topic Efeitos da passagem de mistura ou gases de escapamento nas válvulas from document 10\n",
      "Processing topic Funções da árvore de comando de válvulas from document 11\n",
      "Processing topic Instalação e composição da árvore de comando de válvulas from document 11\n",
      "Processing topic Características dos munhões e cames da árvore de comando de válvulas from document 11\n",
      "Processing topic Efeitos de casquilhos e buchas anti-fricção from document 11\n",
      "Processing topic Munhões e cames endurecidos e sua lubrificação from document 11\n",
      "Processing topic Comando de válvulas com bombas mecânicas e distribuidores from document 11\n",
      "Processing topic Manutenções periódicas e padrões técnicos from document 11\n",
      "Processing topic Lubrificação recomendada para a árvore de comando de válvulas from document 11\n",
      "Processing topic Durabilidade dos tuchos e sua finalidade from document 12\n",
      "Processing topic Tipos de tuchos: convencionais e hidráulicos from document 12\n",
      "Processing topic Funcionamento do tucho hidráulico from document 12\n",
      "Processing topic Vantagens dos tuchos hidráulicos from document 12\n",
      "Processing topic Problemas que podem causar o ruído em tuchos from document 12\n",
      "Processing topic Funcionamento da árvore de comando de válvulas from document 13\n",
      "Processing topic Componentes do conjunto de balancins from document 13\n",
      "Processing topic Localização e movimento do conjunto de balancins from document 13\n",
      "Processing topic Tratamento especial da superfície do eixo from document 13\n",
      "Processing topic Regulação da folga entre o balancim e a válvula from document 13\n",
      "Processing topic Importância da inspeção periódica de balancins from document 14\n",
      "Processing topic Substituições e regulagens durante a inspeção from document 14\n",
      "Processing topic Procedimentos de manutenção para garantir lubrificação normal do motor from document 14\n",
      "Processing topic Troca de óleo e filtro de óleo from document 14\n",
      "Processing topic Utilização do óleo recomendado from document 14\n",
      "Processing topic Verificação do nível do óleo from document 14\n",
      "Processing topic Observação da sinalização de pressão de óleo no painel from document 14\n",
      "Processing topic Funcionamento e importância das válvulas do motor from document 15\n",
      "Processing topic Resistência das válvulas ao desgaste mecânico, corrosão e temperaturas elevadas from document 15\n",
      "Processing topic Tipos de válvulas de acordo com sua função: admissão e escapamento from document 15\n",
      "Processing topic Funções da válvula de admissão e de escapamento from document 15\n",
      "Processing topic Comparativo das válvulas de admissão e escapamento em termos de material e temperatura from document 15\n",
      "Processing topic Componentes da válvula from document 16\n",
      "Processing topic Função da cabeça da válvula from document 16\n",
      "Processing topic Tipos de cabeças da válvula from document 16\n",
      "Processing topic Acasalamento perfeito da válvula from document 16\n",
      "Processing topic Abertura e fechamento da válvula from document 16\n",
      "Processing topic Função e movimentos alternados das válvulas from document 17\n",
      "Processing topic Dispositivos para ajustar e aprimorar o funcionamento das válvulas from document 17\n",
      "Processing topic Materiais e dimensões específicos dos dispositivos from document 17\n",
      "Processing topic Função e estrutura do prato from document 17\n",
      "Processing topic Função e características das chavetas from document 17\n",
      "Processing topic Vedadores e calços de regulagem para controle da válvula from document 17\n",
      "Processing topic Desgastes e deformações nos órgãos do motor from document 18\n",
      "Processing topic Recondicionamento parcial ou total do motor from document 18\n",
      "Processing topic Componentes do motor: bielas, casquilhos, êmbolos, anéis de segmento e árvore de manivelas from document 18\n",
      "Processing topic Inspeção e retificação de peças móveis durante o recondicionamento from document 18\n",
      "Processing topic Movimento dos órgãos do motor e seu impacto na manutenção from document 18\n",
      "Processing topic Construção e funcionalidade da biela from document 19\n",
      "Processing topic Usos e benefícios da biela from document 19\n",
      "Processing topic Manutenção e recondicionamento da biela from document 19\n",
      "Processing topic Partes e componentes da biela from document 19\n",
      "Processing topic Desempenho e proteção da biela from document 19\n",
      "Processing topic Construção e características do casquilho from document 20\n",
      "Processing topic Função e localização dos ressaltos de localização e canal de óleo from document 20\n",
      "Processing topic Usos dos casquilhos em motores de combustão interna from document 20\n",
      "Processing topic Furos e canal de óleo no casquilho from document 20\n",
      "Processing topic Manutenção e conservação dos casquilhos from document 20\n",
      "Processing topic Características e funcionalidades do êmbolo from document 21\n",
      "Processing topic Tipos de êmbolo e seus principais componentes from document 21\n",
      "Processing topic Tipos de pino e sua classificação from document 21\n",
      "Processing topic Funcionamento do êmbolo e sua interação com o cilindro from document 21\n",
      "Processing topic Tipos de êmbolos autotérmicos e seus benefícios from document 21\n",
      "Processing topic Funções dos anéis de segmento em motores from document 22\n",
      "Processing topic Tipos de anéis de segmento e suas funções from document 22\n",
      "Processing topic Materiais usados em anéis de segmento from document 22\n",
      "Processing topic Instalação e posição dos anéis de segmento from document 22\n",
      "Processing topic Funções específicas dos anéis de segmento raspadores e recolhedores de óleo from document 22\n",
      "Processing topic O funcionamento e os componentes da manivela from document 23\n",
      "Processing topic Características da árvore de manivelas para garantir um funcionamento correto from document 23\n",
      "Processing topic Tipos de árvore de manivelas em motores com diferentes configurações de cilindros from document 23\n",
      "Processing topic Melhor desempenho do motor de combustão interna com vários cilindros from document 24\n",
      "Processing topic Usos e benefícios dos diferentes materiais para o bloco de motor from document 24\n",
      "Processing topic Importância da auto-lubrificação no ferro fundido from document 24\n",
      "Processing topic Peças básicas do bloco de motor e suas funcionalidades from document 24\n",
      "Processing topic Mantendo e substituindo camisas do motor from document 24\n",
      "Processing topic Tipos de blocos para motores from document 25\n",
      "Processing topic Blocos com camisas secas from document 25\n",
      "Processing topic Blocos com camisas úmidas from document 25\n",
      "Processing topic Blocos de liga de alumínio sem cilindro from document 25\n",
      "Processing topic Usos de blocos de ferro fundido em motores arrefecidos a água e ar from document 25\n",
      "Processing topic Construção e funcionalidade do volante do motor from document 26\n",
      "Processing topic Balanceamento e compensação de vibrações no motor from document 26\n",
      "Processing topic Usos e características da polia com compensador harmônico from document 26\n",
      "Processing topic Importância da remoção de material na balanceamento do motor from document 26\n",
      "Processing topic Efeitos das vibrações no desempenho do motor from document 26\n",
      "Processing topic Funcionamento inicial do motor from document 27\n",
      "Processing topic Compensação de tempos inprodutivos do volante from document 27\n",
      "Processing topic Acolação do volante com a embreagem from document 27\n",
      "Processing topic Descrição do acoplamento da embreagem com o volante from document 27\n",
      "Processing topic Função da embreagem como dispositivo desacoplador from document 27\n",
      "Processing topic Características de construção e desempenho do motor from document 28\n",
      "Processing topic Cilindrada e volume do cilindro from document 28\n",
      "Processing topic A relação de compressão from document 28\n",
      "Processing topic Torque e força from document 28\n",
      "Processing topic Potência e trabalho realizado from document 28\n",
      "Processing topic Funcionamento e importância dos peças móveis do motor from document 29\n",
      "Processing topic Efeitos do atrito e desgaste nas peças móveis from document 29\n",
      "Processing topic Importância do sistema de lubrificação no motor from document 29\n",
      "Processing topic Funções do óleo lubrificante no motor from document 29\n",
      "Processing topic Processos de lubrificação e filtração do óleo lubrificante no motor from document 29\n",
      "Processing topic Análise do atrito e suas causas from document 30\n",
      "Processing topic Função do atrito no funcionamento de freios e embreagens from document 30\n",
      "Processing topic Desgaste e ação indesejável do atrito no motor de combustão interna from document 30\n",
      "Processing topic Usando lubrificantes para reduzir atrito e aumentar movimento from document 30\n",
      "Processing topic Tipos de atrito: deslizamento e rolamento from document 30\n",
      "Processing topic Origem e classificação de lubrificantes líquidos e pastosos from document 31\n",
      "Processing topic Propriedades e características dos lubrificantes from document 31\n",
      "Processing topic Tipos de aditivos e sua importância para lubrificantes from document 31\n",
      "Processing topic Classificação de lubrificantes para motores a gasolina e diesel from document 31\n",
      "Processing topic Desempenho e proteção dos lubrificantes em diferentes tipos de motores from document 31\n",
      "Processing topic Sistema de lubrificação e seu funcionamento from document 32\n",
      "Processing topic Componentes básicos do sistema de lubrificação from document 32\n",
      "Processing topic Mecanismos de acionamento da bomba de óleo from document 32\n",
      "Processing topic Válvula reguladora de pressão no sistema de lubrificação from document 32\n",
      "Processing topic Canais de lubrificação e sua importância no motor from document 32\n",
      "Processing topic O funcionamento do sistema de lubrificação misto from document 33\n",
      "Processing topic Comparação com o sistema convencional de lubrificação from document 33\n",
      "Processing topic Lubrificação de peças do motor from document 33\n",
      "Processing topic Mecanismo de distribuição de óleo from document 33\n",
      "Processing topic Características da lubrificação mista from document 33\n",
      "Processing topic Sistema de óleo em cárter from document 34\n",
      "Processing topic Funcionamento do tanque externo from document 34\n",
      "Processing topic Lubrificação de partes móveis do motor from document 34\n",
      "Processing topic Bomba de óleo from document 34\n",
      "Processing topic Uso do sistema de cárter seco em diferentes veículos from document 34\n",
      "Processing topic Componentes do cárter do motor from document 35\n",
      "Processing topic Função do corpo (depósito) e do bujão de drenagem from document 35\n",
      "Processing topic Junta de vedação e placa atenuadora from document 35\n",
      "Processing topic Ventilação do cárter: direta e positiva from document 35\n",
      "Processing topic Manutenção do cárter e sistema de ventilação from document 35\n",
      "Processing topic Purpose of oil filter in engine operation from document 36\n",
      "Processing topic Types of oil filters and their installation methods from document 36\n",
      "Processing topic Components of an oil filter from document 36\n",
      "Processing topic Working principle of an oil filter from document 36\n",
      "Processing topic Maintenance and replacement of oil filters from document 36\n",
      "Processing topic Importância da inspeção e recondição da bomba de óleo from document 37\n",
      "Processing topic Funcionamento e estrutura da bomba de óleo de engrenagens from document 37\n",
      "Processing topic Funcionamento e estrutura da bomba de rotor from document 37\n",
      "Processing topic Funcionamento e estrutura da bomba de êmbolo from document 37\n",
      "Processing topic Tipos de bombas de óleo para veículos automóveis from document 37\n",
      "Processing topic Função e localização da válvula reguladora de pressão from document 38\n",
      "Processing topic Componentes da válvula reguladora de pressão from document 38\n",
      "Processing topic Funcionamento da válvula reguladora de pressão para evitar sobrepressão from document 38\n",
      "Processing topic Medição da pressão do óleo no sistema de lubrificação from document 38\n",
      "Processing topic Consequências de uma pressão abaixo da recomendada para o veículo from document 38\n"
     ]
    },
    {
     "data": {
      "text/plain": [
       "[]"
      ]
     },
     "execution_count": 194,
     "metadata": {},
     "output_type": "execute_result"
    }
   ],
   "source": [
    "failed_responses = get_questions(dataset, documents)\n",
    "failed_responses"
   ]
  },
  {
   "cell_type": "code",
   "execution_count": 198,
   "metadata": {},
   "outputs": [],
   "source": [
    "with open(f'{BASE_DIR}/questions_01.json', 'w', encoding='utf-8') as fp:\n",
    "    json.dump(dataset, fp, ensure_ascii=False)"
   ]
  },
  {
   "cell_type": "code",
   "execution_count": 201,
   "metadata": {},
   "outputs": [],
   "source": [
    "with open(f'{BASE_DIR}/raw_documents_01.json', 'w', encoding='utf-8') as fp:\n",
    "    json.dump(doc_content, fp, ensure_ascii=False)"
   ]
  },
  {
   "cell_type": "code",
   "execution_count": 202,
   "metadata": {},
   "outputs": [],
   "source": [
    "with open(f'{BASE_DIR}/documents_01.json', 'w', encoding='utf-8') as fp:\n",
    "    json.dump(documents, fp, ensure_ascii=False)"
   ]
  },
  {
   "cell_type": "markdown",
   "metadata": {},
   "source": [
    "### Metrics"
   ]
  },
  {
   "cell_type": "code",
   "execution_count": 34,
   "metadata": {},
   "outputs": [
    {
     "name": "stdout",
     "output_type": "stream",
     "text": [
      "Requirement already satisfied: deepeval in e:\\workspace\\tcc-2022-2\\venv\\lib\\site-packages (0.21.24)\n",
      "Requirement already satisfied: requests in e:\\workspace\\tcc-2022-2\\venv\\lib\\site-packages (from deepeval) (2.31.0)\n",
      "Requirement already satisfied: tqdm in e:\\workspace\\tcc-2022-2\\venv\\lib\\site-packages (from deepeval) (4.66.2)\n",
      "Requirement already satisfied: pytest in e:\\workspace\\tcc-2022-2\\venv\\lib\\site-packages (from deepeval) (8.1.1)\n",
      "Requirement already satisfied: tabulate in e:\\workspace\\tcc-2022-2\\venv\\lib\\site-packages (from deepeval) (0.9.0)\n",
      "Requirement already satisfied: typer in e:\\workspace\\tcc-2022-2\\venv\\lib\\site-packages (from deepeval) (0.9.4)\n",
      "Requirement already satisfied: rich in e:\\workspace\\tcc-2022-2\\venv\\lib\\site-packages (from deepeval) (13.7.1)\n",
      "Requirement already satisfied: protobuf==4.25.1 in e:\\workspace\\tcc-2022-2\\venv\\lib\\site-packages (from deepeval) (4.25.1)\n",
      "Requirement already satisfied: pydantic in e:\\workspace\\tcc-2022-2\\venv\\lib\\site-packages (from deepeval) (2.6.4)\n",
      "Requirement already satisfied: sentry-sdk in e:\\workspace\\tcc-2022-2\\venv\\lib\\site-packages (from deepeval) (1.45.0)\n",
      "Requirement already satisfied: pytest-repeat in e:\\workspace\\tcc-2022-2\\venv\\lib\\site-packages (from deepeval) (0.9.3)\n",
      "Requirement already satisfied: pytest-xdist in e:\\workspace\\tcc-2022-2\\venv\\lib\\site-packages (from deepeval) (3.5.0)\n",
      "Requirement already satisfied: portalocker in e:\\workspace\\tcc-2022-2\\venv\\lib\\site-packages (from deepeval) (2.8.2)\n",
      "Requirement already satisfied: langchain in e:\\workspace\\tcc-2022-2\\venv\\lib\\site-packages (from deepeval) (0.1.15)\n",
      "Requirement already satisfied: langchain-core in e:\\workspace\\tcc-2022-2\\venv\\lib\\site-packages (from deepeval) (0.1.41)\n",
      "Requirement already satisfied: langchain-openai in e:\\workspace\\tcc-2022-2\\venv\\lib\\site-packages (from deepeval) (0.1.2)\n",
      "Requirement already satisfied: ragas in e:\\workspace\\tcc-2022-2\\venv\\lib\\site-packages (from deepeval) (0.1.7)\n",
      "Requirement already satisfied: docx2txt~=0.8 in e:\\workspace\\tcc-2022-2\\venv\\lib\\site-packages (from deepeval) (0.8)\n",
      "Requirement already satisfied: importlib-metadata~=7.0.2 in e:\\workspace\\tcc-2022-2\\venv\\lib\\site-packages (from deepeval) (7.0.2)\n",
      "Requirement already satisfied: zipp>=0.5 in e:\\workspace\\tcc-2022-2\\venv\\lib\\site-packages (from importlib-metadata~=7.0.2->deepeval) (3.18.1)\n",
      "Requirement already satisfied: PyYAML>=5.3 in e:\\workspace\\tcc-2022-2\\venv\\lib\\site-packages (from langchain->deepeval) (6.0.1)\n",
      "Requirement already satisfied: SQLAlchemy<3,>=1.4 in e:\\workspace\\tcc-2022-2\\venv\\lib\\site-packages (from langchain->deepeval) (2.0.29)\n",
      "Requirement already satisfied: aiohttp<4.0.0,>=3.8.3 in e:\\workspace\\tcc-2022-2\\venv\\lib\\site-packages (from langchain->deepeval) (3.9.3)\n",
      "Requirement already satisfied: dataclasses-json<0.7,>=0.5.7 in e:\\workspace\\tcc-2022-2\\venv\\lib\\site-packages (from langchain->deepeval) (0.6.4)\n",
      "Requirement already satisfied: jsonpatch<2.0,>=1.33 in e:\\workspace\\tcc-2022-2\\venv\\lib\\site-packages (from langchain->deepeval) (1.33)\n",
      "Requirement already satisfied: langchain-community<0.1,>=0.0.32 in e:\\workspace\\tcc-2022-2\\venv\\lib\\site-packages (from langchain->deepeval) (0.0.32)\n",
      "Requirement already satisfied: langchain-text-splitters<0.1,>=0.0.1 in e:\\workspace\\tcc-2022-2\\venv\\lib\\site-packages (from langchain->deepeval) (0.0.1)\n",
      "Requirement already satisfied: langsmith<0.2.0,>=0.1.17 in e:\\workspace\\tcc-2022-2\\venv\\lib\\site-packages (from langchain->deepeval) (0.1.45)\n",
      "Requirement already satisfied: numpy<2,>=1 in e:\\workspace\\tcc-2022-2\\venv\\lib\\site-packages (from langchain->deepeval) (1.26.4)\n",
      "Requirement already satisfied: tenacity<9.0.0,>=8.1.0 in e:\\workspace\\tcc-2022-2\\venv\\lib\\site-packages (from langchain->deepeval) (8.2.3)\n",
      "Requirement already satisfied: packaging<24.0,>=23.2 in e:\\workspace\\tcc-2022-2\\venv\\lib\\site-packages (from langchain-core->deepeval) (23.2)\n",
      "Requirement already satisfied: annotated-types>=0.4.0 in e:\\workspace\\tcc-2022-2\\venv\\lib\\site-packages (from pydantic->deepeval) (0.6.0)\n",
      "Requirement already satisfied: pydantic-core==2.16.3 in e:\\workspace\\tcc-2022-2\\venv\\lib\\site-packages (from pydantic->deepeval) (2.16.3)\n",
      "Requirement already satisfied: typing-extensions>=4.6.1 in e:\\workspace\\tcc-2022-2\\venv\\lib\\site-packages (from pydantic->deepeval) (4.11.0)\n",
      "Requirement already satisfied: charset-normalizer<4,>=2 in e:\\workspace\\tcc-2022-2\\venv\\lib\\site-packages (from requests->deepeval) (3.3.2)\n",
      "Requirement already satisfied: idna<4,>=2.5 in e:\\workspace\\tcc-2022-2\\venv\\lib\\site-packages (from requests->deepeval) (3.6)\n",
      "Requirement already satisfied: urllib3<3,>=1.21.1 in e:\\workspace\\tcc-2022-2\\venv\\lib\\site-packages (from requests->deepeval) (2.2.1)\n",
      "Requirement already satisfied: certifi>=2017.4.17 in e:\\workspace\\tcc-2022-2\\venv\\lib\\site-packages (from requests->deepeval) (2024.2.2)\n",
      "Requirement already satisfied: openai<2.0.0,>=1.10.0 in e:\\workspace\\tcc-2022-2\\venv\\lib\\site-packages (from langchain-openai->deepeval) (1.17.0)\n",
      "Requirement already satisfied: tiktoken<1,>=0.5.2 in e:\\workspace\\tcc-2022-2\\venv\\lib\\site-packages (from langchain-openai->deepeval) (0.6.0)\n",
      "Requirement already satisfied: pywin32>=226 in e:\\workspace\\tcc-2022-2\\venv\\lib\\site-packages (from portalocker->deepeval) (306)\n",
      "Requirement already satisfied: iniconfig in e:\\workspace\\tcc-2022-2\\venv\\lib\\site-packages (from pytest->deepeval) (2.0.0)\n",
      "Requirement already satisfied: pluggy<2.0,>=1.4 in e:\\workspace\\tcc-2022-2\\venv\\lib\\site-packages (from pytest->deepeval) (1.4.0)\n",
      "Requirement already satisfied: colorama in e:\\workspace\\tcc-2022-2\\venv\\lib\\site-packages (from pytest->deepeval) (0.4.6)\n",
      "Requirement already satisfied: execnet>=1.1 in e:\\workspace\\tcc-2022-2\\venv\\lib\\site-packages (from pytest-xdist->deepeval) (2.1.1)\n",
      "Requirement already satisfied: datasets in e:\\workspace\\tcc-2022-2\\venv\\lib\\site-packages (from ragas->deepeval) (2.18.0)\n",
      "Requirement already satisfied: pysbd>=0.3.4 in e:\\workspace\\tcc-2022-2\\venv\\lib\\site-packages (from ragas->deepeval) (0.3.4)\n",
      "Requirement already satisfied: nest-asyncio in e:\\workspace\\tcc-2022-2\\venv\\lib\\site-packages (from ragas->deepeval) (1.6.0)\n",
      "Requirement already satisfied: appdirs in e:\\workspace\\tcc-2022-2\\venv\\lib\\site-packages (from ragas->deepeval) (1.4.4)\n",
      "Requirement already satisfied: markdown-it-py>=2.2.0 in e:\\workspace\\tcc-2022-2\\venv\\lib\\site-packages (from rich->deepeval) (3.0.0)\n",
      "Requirement already satisfied: pygments<3.0.0,>=2.13.0 in e:\\workspace\\tcc-2022-2\\venv\\lib\\site-packages (from rich->deepeval) (2.17.2)\n",
      "Requirement already satisfied: click<9.0.0,>=7.1.1 in e:\\workspace\\tcc-2022-2\\venv\\lib\\site-packages (from typer->deepeval) (8.1.7)\n",
      "Requirement already satisfied: aiosignal>=1.1.2 in e:\\workspace\\tcc-2022-2\\venv\\lib\\site-packages (from aiohttp<4.0.0,>=3.8.3->langchain->deepeval) (1.3.1)\n",
      "Requirement already satisfied: attrs>=17.3.0 in e:\\workspace\\tcc-2022-2\\venv\\lib\\site-packages (from aiohttp<4.0.0,>=3.8.3->langchain->deepeval) (23.2.0)\n",
      "Requirement already satisfied: frozenlist>=1.1.1 in e:\\workspace\\tcc-2022-2\\venv\\lib\\site-packages (from aiohttp<4.0.0,>=3.8.3->langchain->deepeval) (1.4.1)\n",
      "Requirement already satisfied: multidict<7.0,>=4.5 in e:\\workspace\\tcc-2022-2\\venv\\lib\\site-packages (from aiohttp<4.0.0,>=3.8.3->langchain->deepeval) (6.0.5)\n",
      "Requirement already satisfied: yarl<2.0,>=1.0 in e:\\workspace\\tcc-2022-2\\venv\\lib\\site-packages (from aiohttp<4.0.0,>=3.8.3->langchain->deepeval) (1.9.4)\n",
      "Requirement already satisfied: marshmallow<4.0.0,>=3.18.0 in e:\\workspace\\tcc-2022-2\\venv\\lib\\site-packages (from dataclasses-json<0.7,>=0.5.7->langchain->deepeval) (3.21.1)\n",
      "Requirement already satisfied: typing-inspect<1,>=0.4.0 in e:\\workspace\\tcc-2022-2\\venv\\lib\\site-packages (from dataclasses-json<0.7,>=0.5.7->langchain->deepeval) (0.9.0)\n",
      "Requirement already satisfied: jsonpointer>=1.9 in e:\\workspace\\tcc-2022-2\\venv\\lib\\site-packages (from jsonpatch<2.0,>=1.33->langchain->deepeval) (2.4)\n",
      "Requirement already satisfied: orjson<4.0.0,>=3.9.14 in e:\\workspace\\tcc-2022-2\\venv\\lib\\site-packages (from langsmith<0.2.0,>=0.1.17->langchain->deepeval) (3.10.0)\n",
      "Requirement already satisfied: mdurl~=0.1 in e:\\workspace\\tcc-2022-2\\venv\\lib\\site-packages (from markdown-it-py>=2.2.0->rich->deepeval) (0.1.2)\n",
      "Requirement already satisfied: anyio<5,>=3.5.0 in e:\\workspace\\tcc-2022-2\\venv\\lib\\site-packages (from openai<2.0.0,>=1.10.0->langchain-openai->deepeval) (4.3.0)\n",
      "Requirement already satisfied: distro<2,>=1.7.0 in e:\\workspace\\tcc-2022-2\\venv\\lib\\site-packages (from openai<2.0.0,>=1.10.0->langchain-openai->deepeval) (1.9.0)\n",
      "Requirement already satisfied: httpx<1,>=0.23.0 in e:\\workspace\\tcc-2022-2\\venv\\lib\\site-packages (from openai<2.0.0,>=1.10.0->langchain-openai->deepeval) (0.27.0)\n",
      "Requirement already satisfied: sniffio in e:\\workspace\\tcc-2022-2\\venv\\lib\\site-packages (from openai<2.0.0,>=1.10.0->langchain-openai->deepeval) (1.3.1)\n",
      "Requirement already satisfied: greenlet!=0.4.17 in e:\\workspace\\tcc-2022-2\\venv\\lib\\site-packages (from SQLAlchemy<3,>=1.4->langchain->deepeval) (3.0.3)\n",
      "Requirement already satisfied: regex>=2022.1.18 in e:\\workspace\\tcc-2022-2\\venv\\lib\\site-packages (from tiktoken<1,>=0.5.2->langchain-openai->deepeval) (2023.12.25)\n",
      "Requirement already satisfied: filelock in e:\\workspace\\tcc-2022-2\\venv\\lib\\site-packages (from datasets->ragas->deepeval) (3.13.4)\n",
      "Requirement already satisfied: pyarrow>=12.0.0 in e:\\workspace\\tcc-2022-2\\venv\\lib\\site-packages (from datasets->ragas->deepeval) (15.0.2)\n",
      "Requirement already satisfied: pyarrow-hotfix in e:\\workspace\\tcc-2022-2\\venv\\lib\\site-packages (from datasets->ragas->deepeval) (0.6)\n",
      "Requirement already satisfied: dill<0.3.9,>=0.3.0 in e:\\workspace\\tcc-2022-2\\venv\\lib\\site-packages (from datasets->ragas->deepeval) (0.3.8)\n",
      "Requirement already satisfied: pandas in e:\\workspace\\tcc-2022-2\\venv\\lib\\site-packages (from datasets->ragas->deepeval) (2.2.2)\n",
      "Requirement already satisfied: xxhash in e:\\workspace\\tcc-2022-2\\venv\\lib\\site-packages (from datasets->ragas->deepeval) (3.4.1)\n",
      "Requirement already satisfied: multiprocess in e:\\workspace\\tcc-2022-2\\venv\\lib\\site-packages (from datasets->ragas->deepeval) (0.70.16)\n",
      "Requirement already satisfied: fsspec[http]<=2024.2.0,>=2023.1.0 in e:\\workspace\\tcc-2022-2\\venv\\lib\\site-packages (from datasets->ragas->deepeval) (2024.2.0)\n",
      "Requirement already satisfied: huggingface-hub>=0.19.4 in e:\\workspace\\tcc-2022-2\\venv\\lib\\site-packages (from datasets->ragas->deepeval) (0.22.2)\n",
      "Requirement already satisfied: httpcore==1.* in e:\\workspace\\tcc-2022-2\\venv\\lib\\site-packages (from httpx<1,>=0.23.0->openai<2.0.0,>=1.10.0->langchain-openai->deepeval) (1.0.5)\n",
      "Requirement already satisfied: h11<0.15,>=0.13 in e:\\workspace\\tcc-2022-2\\venv\\lib\\site-packages (from httpcore==1.*->httpx<1,>=0.23.0->openai<2.0.0,>=1.10.0->langchain-openai->deepeval) (0.14.0)\n",
      "Requirement already satisfied: mypy-extensions>=0.3.0 in e:\\workspace\\tcc-2022-2\\venv\\lib\\site-packages (from typing-inspect<1,>=0.4.0->dataclasses-json<0.7,>=0.5.7->langchain->deepeval) (1.0.0)\n",
      "Requirement already satisfied: python-dateutil>=2.8.2 in e:\\workspace\\tcc-2022-2\\venv\\lib\\site-packages (from pandas->datasets->ragas->deepeval) (2.9.0.post0)\n",
      "Requirement already satisfied: pytz>=2020.1 in e:\\workspace\\tcc-2022-2\\venv\\lib\\site-packages (from pandas->datasets->ragas->deepeval) (2024.1)\n",
      "Requirement already satisfied: tzdata>=2022.7 in e:\\workspace\\tcc-2022-2\\venv\\lib\\site-packages (from pandas->datasets->ragas->deepeval) (2024.1)\n",
      "Requirement already satisfied: six>=1.5 in e:\\workspace\\tcc-2022-2\\venv\\lib\\site-packages (from python-dateutil>=2.8.2->pandas->datasets->ragas->deepeval) (1.16.0)\n"
     ]
    },
    {
     "name": "stderr",
     "output_type": "stream",
     "text": [
      "\n",
      "[notice] A new release of pip is available: 23.1.2 -> 24.0\n",
      "[notice] To update, run: python.exe -m pip install --upgrade pip\n"
     ]
    }
   ],
   "source": [
    "! pip install deepeval"
   ]
  },
  {
   "cell_type": "code",
   "execution_count": 42,
   "metadata": {},
   "outputs": [],
   "source": [
    "from deepeval.models.base_model import DeepEvalBaseLLM\n",
    "from inference import BASE_MODEL\n",
    "        \n",
    "class LocalEvaluationModel(DeepEvalBaseLLM):\n",
    "    def __init__(self, model):\n",
    "        self.model = model\n",
    "    \n",
    "    def load_model(self):\n",
    "        return self.model\n",
    "\n",
    "    def generate(self, prompt: str) -> str:\n",
    "        return self.model.remote(prompt)\n",
    "\n",
    "    async def a_generate(self, prompt: str) -> str:\n",
    "        return self.generate(prompt)\n",
    "\n",
    "    def get_model_name(self):\n",
    "        return BASE_MODEL"
   ]
  },
  {
   "cell_type": "code",
   "execution_count": 58,
   "metadata": {},
   "outputs": [
    {
     "data": {
      "text/plain": [
       "('O que é o motor de combustão externa na locomotiva a vapor?',\n",
       " 'O motor de combustão externa é o que movimenta a locomotiva a vapor, pois a queima do combustível ocorre fora dos compartimentos que produzem o movimento (cilindros).')"
      ]
     },
     "execution_count": 58,
     "metadata": {},
     "output_type": "execute_result"
    }
   ],
   "source": [
    "question = queries[0]['question']\n",
    "answer = queries[0]['answer']\n",
    "question, answer"
   ]
  },
  {
   "cell_type": "code",
   "execution_count": 60,
   "metadata": {},
   "outputs": [
    {
     "data": {
      "text/html": [
       "<pre style=\"white-space:pre;overflow-x:auto;line-height:normal;font-family:Menlo,'DejaVu Sans Mono',consolas,'Courier New',monospace\"></pre>\n"
      ],
      "text/plain": []
     },
     "metadata": {},
     "output_type": "display_data"
    },
    {
     "data": {
      "text/html": [
       "<pre style=\"white-space:pre;overflow-x:auto;line-height:normal;font-family:Menlo,'DejaVu Sans Mono',consolas,'Courier New',monospace\">\n",
       "</pre>\n"
      ],
      "text/plain": [
       "\n"
      ]
     },
     "metadata": {},
     "output_type": "display_data"
    },
    {
     "name": "stdout",
     "output_type": "stream",
     "text": [
      "1.0\n",
      "The hallucination score is 1.00 because the actual output is unrelated to the context, as it discusses an external combustion engine explosion instead of the functioning of a steam locomotive, which is the topic of the context. This disconnection between the actual output and the context indicates a high degree of hallucination.\n",
      "Evaluating test cases...\n",
      "Event loop is already running. Applying nest_asyncio patch to allow async execution...\n"
     ]
    },
    {
     "data": {
      "text/html": [
       "<pre style=\"white-space:pre;overflow-x:auto;line-height:normal;font-family:Menlo,'DejaVu Sans Mono',consolas,'Courier New',monospace\"></pre>\n"
      ],
      "text/plain": []
     },
     "metadata": {},
     "output_type": "display_data"
    },
    {
     "data": {
      "text/html": [
       "<pre style=\"white-space:pre;overflow-x:auto;line-height:normal;font-family:Menlo,'DejaVu Sans Mono',consolas,'Courier New',monospace\">\n",
       "</pre>\n"
      ],
      "text/plain": [
       "\n"
      ]
     },
     "metadata": {},
     "output_type": "display_data"
    },
    {
     "name": "stdout",
     "output_type": "stream",
     "text": [
      "\n",
      "======================================================================\n",
      "\n",
      "Metrics Summary\n",
      "\n",
      "  - ❌ Hallucination (score: 1.0, threshold: 0.5, strict: False, evaluation model: internlm/internlm2-chat-7b, reason: The hallucination score is 1.00 because the actual output fails to provide a comprehensive explanation of the context. The context discusses the functioning of a steam locomotive and its reliance on an external combustion engine, while the actual output only mentions the explosion of the combustion engine, which is not an accurate representation of the context. This discrepancy indicates a significant deviation from the context, leading to a high hallucination score., error: None)\n",
      "\n",
      "For test case:\n",
      "\n",
      "  - input: O que é o motor de combustão externa na locomotiva a vapor?\n",
      "  - actual output: O motor de combustão externa vai explodir\n",
      "  - expected output: None\n",
      "  - context: ['MOTOR DE COMBUSTÃO EXTERNA Na locomotiva a vapor, o combustível é o carvão ou a lenha. O calor produzido é utilizado para aquecer água em uma caldeira, transformando-a em vapor. O vapor se expande e, com sua pressão, vai movimentar os êmbolos que acionam as rodas motrizes da locomotiva. fornal A locomotiva a vapor é movida por um motor de combustão externa, pois a queima do combustível ocorre fora dos compartimentos que produzem o movimento (cilindros). Seguindo o princípio de funcionamento da locomotiva a vapor, foram desenvolvidos os primeiros triciclos a vapor, como o do francês Cugnot. Veja representado na figura a seguir.']\n",
      "  - retrieval context: None\n",
      "\n",
      "----------------------------------------------------------------------\n"
     ]
    },
    {
     "data": {
      "text/html": [
       "<pre style=\"white-space:pre;overflow-x:auto;line-height:normal;font-family:Menlo,'DejaVu Sans Mono',consolas,'Courier New',monospace\">✅ Tests finished! Run <span style=\"color: #008000; text-decoration-color: #008000\">\"deepeval login\"</span> to view evaluation results on the web.\n",
       "</pre>\n"
      ],
      "text/plain": [
       "✅ Tests finished! Run \u001b[32m\"deepeval login\"\u001b[0m to view evaluation results on the web.\n"
      ]
     },
     "metadata": {},
     "output_type": "display_data"
    },
    {
     "data": {
      "text/plain": [
       "[TestResult(success=False, metrics=[<deepeval.metrics.hallucination.hallucination.HallucinationMetric object at 0x000002E652FEEA50>], input='O que é o motor de combustão externa na locomotiva a vapor?', actual_output='O motor de combustão externa vai explodir', expected_output=None, context=['MOTOR DE COMBUSTÃO EXTERNA Na locomotiva a vapor, o combustível é o carvão ou a lenha. O calor produzido é utilizado para aquecer água em uma caldeira, transformando-a em vapor. O vapor se expande e, com sua pressão, vai movimentar os êmbolos que acionam as rodas motrizes da locomotiva. fornal A locomotiva a vapor é movida por um motor de combustão externa, pois a queima do combustível ocorre fora dos compartimentos que produzem o movimento (cilindros). Seguindo o princípio de funcionamento da locomotiva a vapor, foram desenvolvidos os primeiros triciclos a vapor, como o do francês Cugnot. Veja representado na figura a seguir.'], retrieval_context=None)]"
      ]
     },
     "execution_count": 60,
     "metadata": {},
     "output_type": "execute_result"
    }
   ],
   "source": [
    "from deepeval import evaluate\n",
    "from deepeval.metrics import HallucinationMetric\n",
    "from deepeval.test_case import LLMTestCase\n",
    "\n",
    "model = LocalEvaluationModel(model=inference)\n",
    "\n",
    "context=[document]\n",
    "\n",
    "test_case = LLMTestCase(\n",
    "    input=question,\n",
    "    actual_output=\"O motor de combustão externa vai explodir\",\n",
    "    context=context\n",
    ")\n",
    "metric = HallucinationMetric(model=model, threshold=0.5)\n",
    "\n",
    "metric.measure(test_case)\n",
    "print(metric.score)\n",
    "print(metric.reason)\n",
    "\n",
    "# or evaluate test cases in bulk\n",
    "evaluate([test_case], [metric])"
   ]
  }
 ],
 "metadata": {
  "accelerator": "GPU",
  "colab": {
   "authorship_tag": "ABX9TyPAuhOs6LqPlTbKAiCb1/PW",
   "gpuType": "T4",
   "include_colab_link": true,
   "mount_file_id": "1jdzFQfBomK42CMq2RKVQvVgfODSCiACc",
   "provenance": []
  },
  "kernelspec": {
   "display_name": "Python 3",
   "language": "python",
   "name": "python3"
  },
  "language_info": {
   "codemirror_mode": {
    "name": "ipython",
    "version": 3
   },
   "file_extension": ".py",
   "mimetype": "text/x-python",
   "name": "python",
   "nbconvert_exporter": "python",
   "pygments_lexer": "ipython3",
   "version": "3.11.4"
  }
 },
 "nbformat": 4,
 "nbformat_minor": 4
}
