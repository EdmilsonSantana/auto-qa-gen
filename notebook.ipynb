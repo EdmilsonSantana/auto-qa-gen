{
 "cells": [
  {
   "cell_type": "markdown",
   "metadata": {
    "colab_type": "text",
    "id": "view-in-github"
   },
   "source": [
    "<a href=\"https://colab.research.google.com/github/EdmilsonSantana/llm-vehicle-repair/blob/main/Assistente_do_Mecanico_TCC.ipynb\" target=\"_parent\"><img src=\"https://colab.research.google.com/assets/colab-badge.svg\" alt=\"Open In Colab\"/></a>"
   ]
  },
  {
   "cell_type": "code",
   "execution_count": null,
   "metadata": {},
   "outputs": [],
   "source": [
    "!pip install docx"
   ]
  },
  {
   "cell_type": "code",
   "execution_count": 1,
   "metadata": {},
   "outputs": [],
   "source": [
    "from docx import Document\n",
    "from docx.text.paragraph import Paragraph\n",
    "from docx.shared import Pt\n",
    "import os\n",
    "import re"
   ]
  },
  {
   "cell_type": "markdown",
   "metadata": {},
   "source": [
    "### Processando apostilas da Universidade do Automóvel"
   ]
  },
  {
   "cell_type": "code",
   "execution_count": 2,
   "metadata": {},
   "outputs": [],
   "source": [
    "RAW_DIR = './raw_data'\n",
    "BASE_DIR = './data'"
   ]
  },
  {
   "cell_type": "code",
   "execution_count": 3,
   "metadata": {},
   "outputs": [],
   "source": [
    "files = os.listdir(RAW_DIR)"
   ]
  },
  {
   "cell_type": "code",
   "execution_count": 4,
   "metadata": {},
   "outputs": [
    {
     "name": "stdout",
     "output_type": "stream",
     "text": [
      "4 documents\n"
     ]
    }
   ],
   "source": [
    "print(f'{len(files)} documents')"
   ]
  },
  {
   "cell_type": "code",
   "execution_count": 5,
   "metadata": {},
   "outputs": [
    {
     "data": {
      "text/plain": [
       "['5 -Motor de Comb. Interna - Otto.docx',\n",
       " '6 - Sistema de Transmissão.docx',\n",
       " '7 - Metrologia Mec. Automotiva.docx',\n",
       " '8 - Suspensão, Direção e Freios.docx']"
      ]
     },
     "execution_count": 5,
     "metadata": {},
     "output_type": "execute_result"
    }
   ],
   "source": [
    "files"
   ]
  },
  {
   "cell_type": "code",
   "execution_count": 6,
   "metadata": {},
   "outputs": [],
   "source": [
    "document = Document(f'{RAW_DIR}/{files[0]}')"
   ]
  },
  {
   "cell_type": "code",
   "execution_count": 7,
   "metadata": {},
   "outputs": [],
   "source": [
    "def has_small_font(paragraph: Paragraph):\n",
    "    font_size = paragraph.style.font.size\n",
    "    return font_size == Pt(9) or font_size == Pt(8)"
   ]
  },
  {
   "cell_type": "code",
   "execution_count": 8,
   "metadata": {},
   "outputs": [],
   "source": [
    "def is_heading(paragraph: Paragraph):\n",
    "    return paragraph.style.name.startswith('Heading')\n"
   ]
  },
  {
   "cell_type": "code",
   "execution_count": 9,
   "metadata": {},
   "outputs": [],
   "source": [
    "def parse_text(text):\n",
    "    text = re.sub('\\s+',' ',text).strip()\n",
    "    return '' if text.isnumeric() else text"
   ]
  },
  {
   "cell_type": "code",
   "execution_count": 10,
   "metadata": {},
   "outputs": [],
   "source": [
    "doc_content = {}\n",
    "curr_heading = \"TITLE\"\n",
    "last_text = curr_heading\n",
    "\n",
    "for section in document.sections:\n",
    "    header_paragraphs = section.header.paragraphs\n",
    "    footer_paragraphs = section.footer.paragraphs\n",
    "\n",
    "    for item in section.iter_inner_content():\n",
    "        if (not isinstance(item, Paragraph)):\n",
    "            continue\n",
    "\n",
    "        text = parse_text(item.text)\n",
    "        if (len(text) == 0):\n",
    "            continue\n",
    "        if (item in header_paragraphs or item in footer_paragraphs):\n",
    "            continue\n",
    "        if (has_small_font(item)):\n",
    "            continue\n",
    "\n",
    "        if (is_heading(item)):\n",
    "            curr_heading = text\n",
    "\n",
    "        section_content = doc_content.setdefault(curr_heading, [])\n",
    "        section_content.append(text)\n",
    "            "
   ]
  },
  {
   "cell_type": "code",
   "execution_count": 11,
   "metadata": {},
   "outputs": [
    {
     "data": {
      "text/plain": [
       "dict_keys(['TITLE', 'CICLO OTTO', 'Conteúdos', 'INTRODUÇÃO', 'MOTOR DE COMBUSTÃO', 'MOTOR DE COMBUSTÃO EXTERNA', 'MOTOR DE COMBUSTÃO INTERNA', 'MOTORES DE DOIS TEMPOS', 'MOTORES DE QUATRO TEMPOS', 'CABEÇOTE DO MOTOR', 'TIPOS DE CABEÇOTE', 'DISTRIBUIÇÃO MECÂNICA', 'DIAGRAMA DE VÁLVULAS', 'POSIÇÃO DO COMANDO E TIPO DE MOTOR', 'ESTRUTURA DA DISTRIBUIÇÃO MECÂNICA', 'ÁRVORE DE COMANDO DE VÁLVULAS', 'TUCHOS', 'CONJUNTO DE BALANCINS', 'MANUTENÇÃO', 'VÁLVULAS', 'CONSTITUIÇÃO DA VÁLVULA', 'DISPOSITIVOS DE MONTAGEM DAS VÁLVULAS', 'PEÇAS MÓVEIS', 'BIELA', 'CASQUILHO', 'ÊMBOLO', 'ANÉIS DE SEGMENTO', 'ÁRVORE DE MANIVELAS', 'BLOCO DE MOTOR', 'TIPOS DE BLOCO', 'VOLANTE DO MOTOR', 'FUNÇÕES DO VOLANTE DO MOTOR', 'DIMENSÕES E DESEMPENHO DO MOTOR', 'LUBRIFICAÇÃO', 'ATRITO', 'LUBRIFICANTES', 'SISTEMA DE LUBRIFICAÇÃO', 'SISTEMA DE LUBRIFICAÇÃO MISTO', 'SISTEMA DE CÁRTER SECO', 'CÁRTER', 'FILTRO DE ÓLEO', 'BOMBA DE ÓLEO', 'VÁLVULA REGULADORA DE PRESSÃO', 'BIBLIOGRAFIA'])"
      ]
     },
     "execution_count": 11,
     "metadata": {},
     "output_type": "execute_result"
    }
   ],
   "source": [
    "doc_content.keys()"
   ]
  },
  {
   "cell_type": "code",
   "execution_count": 12,
   "metadata": {},
   "outputs": [
    {
     "data": {
      "text/plain": [
       "['BIBLIOGRAFIA',\n",
       " 'https://www.mmcofap.com.br',\n",
       " 'CASTROL. Veículos automotivos e sua lubrificação.',\n",
       " 'COFAP. Manual doutor em motores. 2a.ed., 1988.',\n",
       " 'FIAT. Oficina FIAT no. 2, vol. II, ano2. 1987. Tutela lubrificantes: história, informações, técnicas e Produtos.',\n",
       " 'MOBIL. Curso de lubrificação. São Paulo, 1975.']"
      ]
     },
     "execution_count": 12,
     "metadata": {},
     "output_type": "execute_result"
    }
   ],
   "source": [
    "doc_content.pop('Conteúdos')\n",
    "doc_content.pop('BIBLIOGRAFIA')"
   ]
  },
  {
   "cell_type": "code",
   "execution_count": 13,
   "metadata": {},
   "outputs": [
    {
     "data": {
      "text/plain": [
       "dict_keys(['TITLE', 'CICLO OTTO', 'INTRODUÇÃO', 'MOTOR DE COMBUSTÃO', 'MOTOR DE COMBUSTÃO EXTERNA', 'MOTOR DE COMBUSTÃO INTERNA', 'MOTORES DE DOIS TEMPOS', 'MOTORES DE QUATRO TEMPOS', 'CABEÇOTE DO MOTOR', 'TIPOS DE CABEÇOTE', 'DISTRIBUIÇÃO MECÂNICA', 'DIAGRAMA DE VÁLVULAS', 'POSIÇÃO DO COMANDO E TIPO DE MOTOR', 'ESTRUTURA DA DISTRIBUIÇÃO MECÂNICA', 'ÁRVORE DE COMANDO DE VÁLVULAS', 'TUCHOS', 'CONJUNTO DE BALANCINS', 'MANUTENÇÃO', 'VÁLVULAS', 'CONSTITUIÇÃO DA VÁLVULA', 'DISPOSITIVOS DE MONTAGEM DAS VÁLVULAS', 'PEÇAS MÓVEIS', 'BIELA', 'CASQUILHO', 'ÊMBOLO', 'ANÉIS DE SEGMENTO', 'ÁRVORE DE MANIVELAS', 'BLOCO DE MOTOR', 'TIPOS DE BLOCO', 'VOLANTE DO MOTOR', 'FUNÇÕES DO VOLANTE DO MOTOR', 'DIMENSÕES E DESEMPENHO DO MOTOR', 'LUBRIFICAÇÃO', 'ATRITO', 'LUBRIFICANTES', 'SISTEMA DE LUBRIFICAÇÃO', 'SISTEMA DE LUBRIFICAÇÃO MISTO', 'SISTEMA DE CÁRTER SECO', 'CÁRTER', 'FILTRO DE ÓLEO', 'BOMBA DE ÓLEO', 'VÁLVULA REGULADORA DE PRESSÃO'])"
      ]
     },
     "execution_count": 13,
     "metadata": {},
     "output_type": "execute_result"
    }
   ],
   "source": [
    "doc_content.keys()"
   ]
  },
  {
   "cell_type": "code",
   "execution_count": 14,
   "metadata": {},
   "outputs": [
    {
     "data": {
      "text/plain": [
       "['CICLO OTTO', '.']"
      ]
     },
     "execution_count": 14,
     "metadata": {},
     "output_type": "execute_result"
    }
   ],
   "source": [
    "doc_content['TITLE'].extend(doc_content['CICLO OTTO'])\n",
    "doc_content.pop('CICLO OTTO')"
   ]
  },
  {
   "cell_type": "markdown",
   "metadata": {},
   "source": [
    "### Extraindo instruções a partir do conteúdo"
   ]
  },
  {
   "cell_type": "code",
   "execution_count": 15,
   "metadata": {},
   "outputs": [
    {
     "name": "stdout",
     "output_type": "stream",
     "text": [
      "- Creating objects...\n",
      "\\ Creating objects...\n",
      "└── - Creating mount e:\\Workspace\\tcc-2022-2\\inference.py: Uploaded 0/0 \n",
      "    inspected files\n",
      "/ Creating objects...\n",
      "└── | Creating mount e:\\Workspace\\tcc-2022-2\\inference.py: Uploaded 0/0 \n",
      "    inspected files\n",
      "\\ Creating objects...\n",
      "└── / Creating mount e:\\Workspace\\tcc-2022-2\\inference.py: Building mount\n",
      "/ Creating objects...\n",
      "└── \\ Creating mount e:\\Workspace\\tcc-2022-2\\inference.py: Building mount\n",
      "\\ Creating objects...\n",
      "└── 🔨 Created mount e:\\Workspace\\tcc-2022-2\\inference.py\n",
      "/ Creating objects...\n",
      "└── 🔨 Created mount e:\\Workspace\\tcc-2022-2\\inference.py\n",
      "\\ Creating objects...\n",
      "└── 🔨 Created mount e:\\Workspace\\tcc-2022-2\\inference.py\n",
      "/ Creating objects...\n",
      "├── 🔨 Created mount e:\\Workspace\\tcc-2022-2\\inference.py\n",
      "└── - Creating download_model_to_folder...\n",
      "\\ Creating objects...\n",
      "├── 🔨 Created mount e:\\Workspace\\tcc-2022-2\\inference.py\n",
      "└── 🔨 Created download_model_to_folder.\n",
      "/ Creating objects...\n",
      "├── 🔨 Created mount e:\\Workspace\\tcc-2022-2\\inference.py\n",
      "└── 🔨 Created download_model_to_folder.\n",
      "\\ Creating objects...\n",
      "├── 🔨 Created mount e:\\Workspace\\tcc-2022-2\\inference.py\n",
      "├── 🔨 Created download_model_to_folder.\n",
      "└── - Creating Model.generate...\n",
      "/ Creating objects...\n",
      "├── 🔨 Created mount e:\\Workspace\\tcc-2022-2\\inference.py\n",
      "├── 🔨 Created download_model_to_folder.\n",
      "└── 🔨 Created Model.generate.\n",
      "\\ Creating objects...\n",
      "├── 🔨 Created mount e:\\Workspace\\tcc-2022-2\\inference.py\n",
      "├── 🔨 Created download_model_to_folder.\n",
      "└── 🔨 Created Model.generate.\n",
      "\n",
      "✓ Created objects.\n",
      "├── 🔨 Created mount e:\\Workspace\\tcc-2022-2\\inference.py\n",
      "├── 🔨 Created download_model_to_folder.\n",
      "└── 🔨 Created Model.generate.\n",
      "✓ App deployed! 🎉\n",
      "\n",
      "View Deployment: https://modal.com/apps/edmilsonsantana/llm-inference\n"
     ]
    }
   ],
   "source": [
    "! modal deploy inference.py"
   ]
  },
  {
   "cell_type": "markdown",
   "metadata": {},
   "source": [
    "#### Prompts"
   ]
  },
  {
   "cell_type": "code",
   "execution_count": 17,
   "metadata": {},
   "outputs": [],
   "source": [
    "questions_prompt = \"\"\"\n",
    "You are a specialist in vehicle repair and maintenance and your goal is to \n",
    "extract questions and answers related to a certain topic from a document.\n",
    "Here are some criterias that you have to follow to achieve your goal:\n",
    "\n",
    "- You should not create questions for contents not related to vehicle repair and maintenance.\n",
    "- You should include the topic in the question so that it is possible to understand what the question is about.\n",
    "- The answers should only contain the content originating from the document.\n",
    "- You must create a maximum of 5 questions.\n",
    "- The language used to generate questions and answers should always be Brazilian Portuguese.\n",
    "- Your response should always be only a well-formed JSON array with the questions and answers.\n",
    "\n",
    "Take guidance from the example below\n",
    "\n",
    "Given the following example input:\n",
    "\n",
    "{\"topic\": \"Rolamentos dianteiros\", \"document\": \"O cuidado com o meio ambiente é uma preocupação global imprescindível\n",
    "para o desenvolvimento sustentável. No mundo dos automóveis, essa discussão é cada vez maior,\n",
    "com o aumento do rigor na legislação em diversos países - o que acelera a evolução de veículos de propulsão alternativa,\n",
    "como híbridos e elétricos. O aperto excessivo da porca afeta diretamente a vida útil do rolamento.\n",
    "Em rolamentos dianteiros selados, Airton, da Schaeffler, adverte para nunca\n",
    "substituir a graxa ou completar os espaços internos, porque pode haver uma reação\n",
    "entre as graxas com composições químicas diferentes, além de um aquecimento elevado no interior do rolamento.\"}\n",
    "\n",
    "You response should be:\n",
    "\n",
    "[\n",
    "    {\n",
    "        \"question\": \"Posso apertar a porca do rolamento ?\",\n",
    "        \"answer\": \"O aperto excessivo da porca afeta diretamente a vida útil do rolamento.\"\n",
    "    },\n",
    "    {\n",
    "        \"question\": \"Devo substituir a graxa de rolamentos dianteiros selados ? \",\n",
    "        \"answer\": \"Em rolamentos dianteiros selados, nunca substitua a graxa ou complete os espaços internos,\n",
    "                porque pode haver uma reação entre as graxas com composições químicas diferentes, além de\n",
    "                um aquecimento elevado no interior do rolamento.\"\n",
    "    }\n",
    "]\n",
    "\n",
    "Here is the input:\n",
    "\n",
    "\"\"\""
   ]
  },
  {
   "cell_type": "code",
   "execution_count": 25,
   "metadata": {},
   "outputs": [],
   "source": [
    "topics_prompt = \"\"\"\n",
    "Your goal is to extract 5 topics from a given document.\n",
    "The topics are short sentences that summarizes the content present in the document.\n",
    "Your ouput should be a list of topics in JSON format.\n",
    "\n",
    "Take guidance from the example below\n",
    "\n",
    "Given the following example input:\n",
    "\n",
    "O cuidado com o meio ambiente é uma preocupação global imprescindível\n",
    "para o desenvolvimento sustentável. No mundo dos automóveis, essa discussão é cada vez maior,\n",
    "com o aumento do rigor na legislação em diversos países - o que acelera a evolução de veículos de propulsão alternativa,\n",
    "como híbridos e elétricos. O aperto excessivo da porca afeta diretamente a vida útil do rolamento.\n",
    "Em rolamentos dianteiros selados, Airton, da Schaeffler, adverte para nunca\n",
    "substituir a graxa ou completar os espaços internos, porque pode haver uma reação\n",
    "entre as graxas com composições químicas diferentes, além de um aquecimento elevado no interior do rolamento.\n",
    "\n",
    "You response should be:\n",
    "\n",
    "[\n",
    "    \"A importância global do cuidado com o meio ambiente\",\n",
    "    \"A evolução dos veículos de propulsão alternativa\",\n",
    "    \"O aumento da legislação ambiental nos países\",\n",
    "    \"Impacto do aperto excessivo da porca na vida útil do rolamento\",\n",
    "    \"Cuidados específicos com a manutenção de rolamentos dianteiros selados\"\n",
    "]\n",
    "\n",
    "Here is the document:\n",
    "\n",
    "\"\"\""
   ]
  },
  {
   "cell_type": "code",
   "execution_count": 19,
   "metadata": {},
   "outputs": [
    {
     "data": {
      "text/plain": [
       "'MOTOR DE COMBUSTÃO EXTERNA Na locomotiva a vapor, o combustível é o carvão ou a lenha. O calor produzido é utilizado para aquecer água em uma caldeira, transformando-a em vapor. O vapor se expande e, com sua pressão, vai movimentar os êmbolos que acionam as rodas motrizes da locomotiva. fornal A locomotiva a vapor é movida por um motor de combustão externa, pois a queima do combustível ocorre fora dos compartimentos que produzem o movimento (cilindros). Seguindo o princípio de funcionamento da locomotiva a vapor, foram desenvolvidos os primeiros triciclos a vapor, como o do francês Cugnot. Veja representado na figura a seguir.'"
      ]
     },
     "execution_count": 19,
     "metadata": {},
     "output_type": "execute_result"
    }
   ],
   "source": [
    "section = 'MOTOR DE COMBUSTÃO EXTERNA'\n",
    "document = \" \".join(doc_content[section])\n",
    "document"
   ]
  },
  {
   "cell_type": "code",
   "execution_count": 20,
   "metadata": {},
   "outputs": [],
   "source": [
    "import modal\n",
    "import json"
   ]
  },
  {
   "cell_type": "code",
   "execution_count": 21,
   "metadata": {},
   "outputs": [],
   "source": [
    "inference = modal.Function.lookup('llm-inference', 'Model.generate')"
   ]
  },
  {
   "cell_type": "code",
   "execution_count": 26,
   "metadata": {},
   "outputs": [],
   "source": [
    "response = inference.remote(topics_prompt + document)"
   ]
  },
  {
   "cell_type": "code",
   "execution_count": 27,
   "metadata": {},
   "outputs": [
    {
     "data": {
      "text/plain": [
       "'[\\n    \"Funcionamento do motor de combustão externa na locomotiva a vapor\",\\n    \"Desenvolvimento dos primeiros triciclos a vapor\",\\n    \"Comparação entre locomotivas a vapor e locomotivas a diesel\",\\n    \"Importância do combustível para locomotivas a vapor\",\\n    \"Evolução da tecnologia de locomotivas a vapor\"\\n]'"
      ]
     },
     "execution_count": 27,
     "metadata": {},
     "output_type": "execute_result"
    }
   ],
   "source": [
    "response"
   ]
  },
  {
   "cell_type": "code",
   "execution_count": 28,
   "metadata": {},
   "outputs": [
    {
     "data": {
      "text/plain": [
       "['Funcionamento do motor de combustão externa na locomotiva a vapor',\n",
       " 'Desenvolvimento dos primeiros triciclos a vapor',\n",
       " 'Comparação entre locomotivas a vapor e locomotivas a diesel',\n",
       " 'Importância do combustível para locomotivas a vapor',\n",
       " 'Evolução da tecnologia de locomotivas a vapor']"
      ]
     },
     "execution_count": 28,
     "metadata": {},
     "output_type": "execute_result"
    }
   ],
   "source": [
    "topics = json.loads(response)\n",
    "topics"
   ]
  },
  {
   "cell_type": "code",
   "execution_count": 29,
   "metadata": {},
   "outputs": [
    {
     "data": {
      "text/plain": [
       "'{\"topic\": \"Funcionamento do motor de combustão externa na locomotiva a vapor\", \"document\": \"MOTOR DE COMBUSTÃO EXTERNA Na locomotiva a vapor, o combustível é o carvão ou a lenha. O calor produzido é utilizado para aquecer água em uma caldeira, transformando-a em vapor. O vapor se expande e, com sua pressão, vai movimentar os êmbolos que acionam as rodas motrizes da locomotiva. fornal A locomotiva a vapor é movida por um motor de combustão externa, pois a queima do combustível ocorre fora dos compartimentos que produzem o movimento (cilindros). Seguindo o princípio de funcionamento da locomotiva a vapor, foram desenvolvidos os primeiros triciclos a vapor, como o do francês Cugnot. Veja representado na figura a seguir.\"}'"
      ]
     },
     "execution_count": 29,
     "metadata": {},
     "output_type": "execute_result"
    }
   ],
   "source": [
    "input = json.dumps(dict(topic=topics[0], document=document), ensure_ascii=False)\n",
    "input"
   ]
  },
  {
   "cell_type": "code",
   "execution_count": 30,
   "metadata": {},
   "outputs": [
    {
     "data": {
      "text/plain": [
       "'[\\n    {\\n        \"question\": \"O que é o motor de combustão externa na locomotiva a vapor?\",\\n        \"answer\": \"O motor de combustão externa é o que movimenta a locomotiva a vapor, pois a queima do combustível ocorre fora dos compartimentos que produzem o movimento (cilindros).\"\\n    },\\n    {\\n        \"question\": \"Como funciona o motor de combustão externa na locomotiva a vapor?\",\\n        \"answer\": \"O calor produzido pelo combustível é utilizado para aquecer água em uma caldeira, transformando-a em vapor. O vapor se expande e, com sua pressão, vai movimentar os êmbolos que acionam as rodas motrizes da locomotiva.\"\\n    },\\n    {\\n        \"question\": \"Qual é o combustível utilizado na locomotiva a vapor?\",\\n        \"answer\": \"No caso da locomotiva a vapor, o combustível é o carvão ou a lenha.\"\\n    },\\n    {\\n        \"question\": \"Quem desenvolveu os primeiros triciclos a vapor?\",\\n        \"answer\": \"Os primeiros triciclos a vapor foram desenvolvidos pelos francêses, como o do inventor Cugnot.\"\\n    },\\n    {\\n        \"question\": \"Qual é a fonte de movimento da locomotiva a vapor?\",\\n        \"answer\": \"A locomotiva a vapor é movida por um motor de combustão externa, pois a queima do combustível ocorre fora dos compartimentos que produzem o movimento (cilindros).\"\\n    }\\n]'"
      ]
     },
     "execution_count": 30,
     "metadata": {},
     "output_type": "execute_result"
    }
   ],
   "source": [
    "response = inference.remote(questions_prompt + input)\n",
    "response"
   ]
  },
  {
   "cell_type": "code",
   "execution_count": 31,
   "metadata": {},
   "outputs": [
    {
     "data": {
      "text/plain": [
       "[{'question': 'O que é o motor de combustão externa na locomotiva a vapor?',\n",
       "  'answer': 'O motor de combustão externa é o que movimenta a locomotiva a vapor, pois a queima do combustível ocorre fora dos compartimentos que produzem o movimento (cilindros).'},\n",
       " {'question': 'Como funciona o motor de combustão externa na locomotiva a vapor?',\n",
       "  'answer': 'O calor produzido pelo combustível é utilizado para aquecer água em uma caldeira, transformando-a em vapor. O vapor se expande e, com sua pressão, vai movimentar os êmbolos que acionam as rodas motrizes da locomotiva.'},\n",
       " {'question': 'Qual é o combustível utilizado na locomotiva a vapor?',\n",
       "  'answer': 'No caso da locomotiva a vapor, o combustível é o carvão ou a lenha.'},\n",
       " {'question': 'Quem desenvolveu os primeiros triciclos a vapor?',\n",
       "  'answer': 'Os primeiros triciclos a vapor foram desenvolvidos pelos francêses, como o do inventor Cugnot.'},\n",
       " {'question': 'Qual é a fonte de movimento da locomotiva a vapor?',\n",
       "  'answer': 'A locomotiva a vapor é movida por um motor de combustão externa, pois a queima do combustível ocorre fora dos compartimentos que produzem o movimento (cilindros).'}]"
      ]
     },
     "execution_count": 31,
     "metadata": {},
     "output_type": "execute_result"
    }
   ],
   "source": [
    "queries = json.loads(response)\n",
    "queries"
   ]
  },
  {
   "cell_type": "markdown",
   "metadata": {},
   "source": [
    "### Metrics"
   ]
  },
  {
   "cell_type": "code",
   "execution_count": 34,
   "metadata": {},
   "outputs": [
    {
     "name": "stdout",
     "output_type": "stream",
     "text": [
      "Requirement already satisfied: deepeval in e:\\workspace\\tcc-2022-2\\venv\\lib\\site-packages (0.21.24)\n",
      "Requirement already satisfied: requests in e:\\workspace\\tcc-2022-2\\venv\\lib\\site-packages (from deepeval) (2.31.0)\n",
      "Requirement already satisfied: tqdm in e:\\workspace\\tcc-2022-2\\venv\\lib\\site-packages (from deepeval) (4.66.2)\n",
      "Requirement already satisfied: pytest in e:\\workspace\\tcc-2022-2\\venv\\lib\\site-packages (from deepeval) (8.1.1)\n",
      "Requirement already satisfied: tabulate in e:\\workspace\\tcc-2022-2\\venv\\lib\\site-packages (from deepeval) (0.9.0)\n",
      "Requirement already satisfied: typer in e:\\workspace\\tcc-2022-2\\venv\\lib\\site-packages (from deepeval) (0.9.4)\n",
      "Requirement already satisfied: rich in e:\\workspace\\tcc-2022-2\\venv\\lib\\site-packages (from deepeval) (13.7.1)\n",
      "Requirement already satisfied: protobuf==4.25.1 in e:\\workspace\\tcc-2022-2\\venv\\lib\\site-packages (from deepeval) (4.25.1)\n",
      "Requirement already satisfied: pydantic in e:\\workspace\\tcc-2022-2\\venv\\lib\\site-packages (from deepeval) (2.6.4)\n",
      "Requirement already satisfied: sentry-sdk in e:\\workspace\\tcc-2022-2\\venv\\lib\\site-packages (from deepeval) (1.45.0)\n",
      "Requirement already satisfied: pytest-repeat in e:\\workspace\\tcc-2022-2\\venv\\lib\\site-packages (from deepeval) (0.9.3)\n",
      "Requirement already satisfied: pytest-xdist in e:\\workspace\\tcc-2022-2\\venv\\lib\\site-packages (from deepeval) (3.5.0)\n",
      "Requirement already satisfied: portalocker in e:\\workspace\\tcc-2022-2\\venv\\lib\\site-packages (from deepeval) (2.8.2)\n",
      "Requirement already satisfied: langchain in e:\\workspace\\tcc-2022-2\\venv\\lib\\site-packages (from deepeval) (0.1.15)\n",
      "Requirement already satisfied: langchain-core in e:\\workspace\\tcc-2022-2\\venv\\lib\\site-packages (from deepeval) (0.1.41)\n",
      "Requirement already satisfied: langchain-openai in e:\\workspace\\tcc-2022-2\\venv\\lib\\site-packages (from deepeval) (0.1.2)\n",
      "Requirement already satisfied: ragas in e:\\workspace\\tcc-2022-2\\venv\\lib\\site-packages (from deepeval) (0.1.7)\n",
      "Requirement already satisfied: docx2txt~=0.8 in e:\\workspace\\tcc-2022-2\\venv\\lib\\site-packages (from deepeval) (0.8)\n",
      "Requirement already satisfied: importlib-metadata~=7.0.2 in e:\\workspace\\tcc-2022-2\\venv\\lib\\site-packages (from deepeval) (7.0.2)\n",
      "Requirement already satisfied: zipp>=0.5 in e:\\workspace\\tcc-2022-2\\venv\\lib\\site-packages (from importlib-metadata~=7.0.2->deepeval) (3.18.1)\n",
      "Requirement already satisfied: PyYAML>=5.3 in e:\\workspace\\tcc-2022-2\\venv\\lib\\site-packages (from langchain->deepeval) (6.0.1)\n",
      "Requirement already satisfied: SQLAlchemy<3,>=1.4 in e:\\workspace\\tcc-2022-2\\venv\\lib\\site-packages (from langchain->deepeval) (2.0.29)\n",
      "Requirement already satisfied: aiohttp<4.0.0,>=3.8.3 in e:\\workspace\\tcc-2022-2\\venv\\lib\\site-packages (from langchain->deepeval) (3.9.3)\n",
      "Requirement already satisfied: dataclasses-json<0.7,>=0.5.7 in e:\\workspace\\tcc-2022-2\\venv\\lib\\site-packages (from langchain->deepeval) (0.6.4)\n",
      "Requirement already satisfied: jsonpatch<2.0,>=1.33 in e:\\workspace\\tcc-2022-2\\venv\\lib\\site-packages (from langchain->deepeval) (1.33)\n",
      "Requirement already satisfied: langchain-community<0.1,>=0.0.32 in e:\\workspace\\tcc-2022-2\\venv\\lib\\site-packages (from langchain->deepeval) (0.0.32)\n",
      "Requirement already satisfied: langchain-text-splitters<0.1,>=0.0.1 in e:\\workspace\\tcc-2022-2\\venv\\lib\\site-packages (from langchain->deepeval) (0.0.1)\n",
      "Requirement already satisfied: langsmith<0.2.0,>=0.1.17 in e:\\workspace\\tcc-2022-2\\venv\\lib\\site-packages (from langchain->deepeval) (0.1.45)\n",
      "Requirement already satisfied: numpy<2,>=1 in e:\\workspace\\tcc-2022-2\\venv\\lib\\site-packages (from langchain->deepeval) (1.26.4)\n",
      "Requirement already satisfied: tenacity<9.0.0,>=8.1.0 in e:\\workspace\\tcc-2022-2\\venv\\lib\\site-packages (from langchain->deepeval) (8.2.3)\n",
      "Requirement already satisfied: packaging<24.0,>=23.2 in e:\\workspace\\tcc-2022-2\\venv\\lib\\site-packages (from langchain-core->deepeval) (23.2)\n",
      "Requirement already satisfied: annotated-types>=0.4.0 in e:\\workspace\\tcc-2022-2\\venv\\lib\\site-packages (from pydantic->deepeval) (0.6.0)\n",
      "Requirement already satisfied: pydantic-core==2.16.3 in e:\\workspace\\tcc-2022-2\\venv\\lib\\site-packages (from pydantic->deepeval) (2.16.3)\n",
      "Requirement already satisfied: typing-extensions>=4.6.1 in e:\\workspace\\tcc-2022-2\\venv\\lib\\site-packages (from pydantic->deepeval) (4.11.0)\n",
      "Requirement already satisfied: charset-normalizer<4,>=2 in e:\\workspace\\tcc-2022-2\\venv\\lib\\site-packages (from requests->deepeval) (3.3.2)\n",
      "Requirement already satisfied: idna<4,>=2.5 in e:\\workspace\\tcc-2022-2\\venv\\lib\\site-packages (from requests->deepeval) (3.6)\n",
      "Requirement already satisfied: urllib3<3,>=1.21.1 in e:\\workspace\\tcc-2022-2\\venv\\lib\\site-packages (from requests->deepeval) (2.2.1)\n",
      "Requirement already satisfied: certifi>=2017.4.17 in e:\\workspace\\tcc-2022-2\\venv\\lib\\site-packages (from requests->deepeval) (2024.2.2)\n",
      "Requirement already satisfied: openai<2.0.0,>=1.10.0 in e:\\workspace\\tcc-2022-2\\venv\\lib\\site-packages (from langchain-openai->deepeval) (1.17.0)\n",
      "Requirement already satisfied: tiktoken<1,>=0.5.2 in e:\\workspace\\tcc-2022-2\\venv\\lib\\site-packages (from langchain-openai->deepeval) (0.6.0)\n",
      "Requirement already satisfied: pywin32>=226 in e:\\workspace\\tcc-2022-2\\venv\\lib\\site-packages (from portalocker->deepeval) (306)\n",
      "Requirement already satisfied: iniconfig in e:\\workspace\\tcc-2022-2\\venv\\lib\\site-packages (from pytest->deepeval) (2.0.0)\n",
      "Requirement already satisfied: pluggy<2.0,>=1.4 in e:\\workspace\\tcc-2022-2\\venv\\lib\\site-packages (from pytest->deepeval) (1.4.0)\n",
      "Requirement already satisfied: colorama in e:\\workspace\\tcc-2022-2\\venv\\lib\\site-packages (from pytest->deepeval) (0.4.6)\n",
      "Requirement already satisfied: execnet>=1.1 in e:\\workspace\\tcc-2022-2\\venv\\lib\\site-packages (from pytest-xdist->deepeval) (2.1.1)\n",
      "Requirement already satisfied: datasets in e:\\workspace\\tcc-2022-2\\venv\\lib\\site-packages (from ragas->deepeval) (2.18.0)\n",
      "Requirement already satisfied: pysbd>=0.3.4 in e:\\workspace\\tcc-2022-2\\venv\\lib\\site-packages (from ragas->deepeval) (0.3.4)\n",
      "Requirement already satisfied: nest-asyncio in e:\\workspace\\tcc-2022-2\\venv\\lib\\site-packages (from ragas->deepeval) (1.6.0)\n",
      "Requirement already satisfied: appdirs in e:\\workspace\\tcc-2022-2\\venv\\lib\\site-packages (from ragas->deepeval) (1.4.4)\n",
      "Requirement already satisfied: markdown-it-py>=2.2.0 in e:\\workspace\\tcc-2022-2\\venv\\lib\\site-packages (from rich->deepeval) (3.0.0)\n",
      "Requirement already satisfied: pygments<3.0.0,>=2.13.0 in e:\\workspace\\tcc-2022-2\\venv\\lib\\site-packages (from rich->deepeval) (2.17.2)\n",
      "Requirement already satisfied: click<9.0.0,>=7.1.1 in e:\\workspace\\tcc-2022-2\\venv\\lib\\site-packages (from typer->deepeval) (8.1.7)\n",
      "Requirement already satisfied: aiosignal>=1.1.2 in e:\\workspace\\tcc-2022-2\\venv\\lib\\site-packages (from aiohttp<4.0.0,>=3.8.3->langchain->deepeval) (1.3.1)\n",
      "Requirement already satisfied: attrs>=17.3.0 in e:\\workspace\\tcc-2022-2\\venv\\lib\\site-packages (from aiohttp<4.0.0,>=3.8.3->langchain->deepeval) (23.2.0)\n",
      "Requirement already satisfied: frozenlist>=1.1.1 in e:\\workspace\\tcc-2022-2\\venv\\lib\\site-packages (from aiohttp<4.0.0,>=3.8.3->langchain->deepeval) (1.4.1)\n",
      "Requirement already satisfied: multidict<7.0,>=4.5 in e:\\workspace\\tcc-2022-2\\venv\\lib\\site-packages (from aiohttp<4.0.0,>=3.8.3->langchain->deepeval) (6.0.5)\n",
      "Requirement already satisfied: yarl<2.0,>=1.0 in e:\\workspace\\tcc-2022-2\\venv\\lib\\site-packages (from aiohttp<4.0.0,>=3.8.3->langchain->deepeval) (1.9.4)\n",
      "Requirement already satisfied: marshmallow<4.0.0,>=3.18.0 in e:\\workspace\\tcc-2022-2\\venv\\lib\\site-packages (from dataclasses-json<0.7,>=0.5.7->langchain->deepeval) (3.21.1)\n",
      "Requirement already satisfied: typing-inspect<1,>=0.4.0 in e:\\workspace\\tcc-2022-2\\venv\\lib\\site-packages (from dataclasses-json<0.7,>=0.5.7->langchain->deepeval) (0.9.0)\n",
      "Requirement already satisfied: jsonpointer>=1.9 in e:\\workspace\\tcc-2022-2\\venv\\lib\\site-packages (from jsonpatch<2.0,>=1.33->langchain->deepeval) (2.4)\n",
      "Requirement already satisfied: orjson<4.0.0,>=3.9.14 in e:\\workspace\\tcc-2022-2\\venv\\lib\\site-packages (from langsmith<0.2.0,>=0.1.17->langchain->deepeval) (3.10.0)\n",
      "Requirement already satisfied: mdurl~=0.1 in e:\\workspace\\tcc-2022-2\\venv\\lib\\site-packages (from markdown-it-py>=2.2.0->rich->deepeval) (0.1.2)\n",
      "Requirement already satisfied: anyio<5,>=3.5.0 in e:\\workspace\\tcc-2022-2\\venv\\lib\\site-packages (from openai<2.0.0,>=1.10.0->langchain-openai->deepeval) (4.3.0)\n",
      "Requirement already satisfied: distro<2,>=1.7.0 in e:\\workspace\\tcc-2022-2\\venv\\lib\\site-packages (from openai<2.0.0,>=1.10.0->langchain-openai->deepeval) (1.9.0)\n",
      "Requirement already satisfied: httpx<1,>=0.23.0 in e:\\workspace\\tcc-2022-2\\venv\\lib\\site-packages (from openai<2.0.0,>=1.10.0->langchain-openai->deepeval) (0.27.0)\n",
      "Requirement already satisfied: sniffio in e:\\workspace\\tcc-2022-2\\venv\\lib\\site-packages (from openai<2.0.0,>=1.10.0->langchain-openai->deepeval) (1.3.1)\n",
      "Requirement already satisfied: greenlet!=0.4.17 in e:\\workspace\\tcc-2022-2\\venv\\lib\\site-packages (from SQLAlchemy<3,>=1.4->langchain->deepeval) (3.0.3)\n",
      "Requirement already satisfied: regex>=2022.1.18 in e:\\workspace\\tcc-2022-2\\venv\\lib\\site-packages (from tiktoken<1,>=0.5.2->langchain-openai->deepeval) (2023.12.25)\n",
      "Requirement already satisfied: filelock in e:\\workspace\\tcc-2022-2\\venv\\lib\\site-packages (from datasets->ragas->deepeval) (3.13.4)\n",
      "Requirement already satisfied: pyarrow>=12.0.0 in e:\\workspace\\tcc-2022-2\\venv\\lib\\site-packages (from datasets->ragas->deepeval) (15.0.2)\n",
      "Requirement already satisfied: pyarrow-hotfix in e:\\workspace\\tcc-2022-2\\venv\\lib\\site-packages (from datasets->ragas->deepeval) (0.6)\n",
      "Requirement already satisfied: dill<0.3.9,>=0.3.0 in e:\\workspace\\tcc-2022-2\\venv\\lib\\site-packages (from datasets->ragas->deepeval) (0.3.8)\n",
      "Requirement already satisfied: pandas in e:\\workspace\\tcc-2022-2\\venv\\lib\\site-packages (from datasets->ragas->deepeval) (2.2.2)\n",
      "Requirement already satisfied: xxhash in e:\\workspace\\tcc-2022-2\\venv\\lib\\site-packages (from datasets->ragas->deepeval) (3.4.1)\n",
      "Requirement already satisfied: multiprocess in e:\\workspace\\tcc-2022-2\\venv\\lib\\site-packages (from datasets->ragas->deepeval) (0.70.16)\n",
      "Requirement already satisfied: fsspec[http]<=2024.2.0,>=2023.1.0 in e:\\workspace\\tcc-2022-2\\venv\\lib\\site-packages (from datasets->ragas->deepeval) (2024.2.0)\n",
      "Requirement already satisfied: huggingface-hub>=0.19.4 in e:\\workspace\\tcc-2022-2\\venv\\lib\\site-packages (from datasets->ragas->deepeval) (0.22.2)\n",
      "Requirement already satisfied: httpcore==1.* in e:\\workspace\\tcc-2022-2\\venv\\lib\\site-packages (from httpx<1,>=0.23.0->openai<2.0.0,>=1.10.0->langchain-openai->deepeval) (1.0.5)\n",
      "Requirement already satisfied: h11<0.15,>=0.13 in e:\\workspace\\tcc-2022-2\\venv\\lib\\site-packages (from httpcore==1.*->httpx<1,>=0.23.0->openai<2.0.0,>=1.10.0->langchain-openai->deepeval) (0.14.0)\n",
      "Requirement already satisfied: mypy-extensions>=0.3.0 in e:\\workspace\\tcc-2022-2\\venv\\lib\\site-packages (from typing-inspect<1,>=0.4.0->dataclasses-json<0.7,>=0.5.7->langchain->deepeval) (1.0.0)\n",
      "Requirement already satisfied: python-dateutil>=2.8.2 in e:\\workspace\\tcc-2022-2\\venv\\lib\\site-packages (from pandas->datasets->ragas->deepeval) (2.9.0.post0)\n",
      "Requirement already satisfied: pytz>=2020.1 in e:\\workspace\\tcc-2022-2\\venv\\lib\\site-packages (from pandas->datasets->ragas->deepeval) (2024.1)\n",
      "Requirement already satisfied: tzdata>=2022.7 in e:\\workspace\\tcc-2022-2\\venv\\lib\\site-packages (from pandas->datasets->ragas->deepeval) (2024.1)\n",
      "Requirement already satisfied: six>=1.5 in e:\\workspace\\tcc-2022-2\\venv\\lib\\site-packages (from python-dateutil>=2.8.2->pandas->datasets->ragas->deepeval) (1.16.0)\n"
     ]
    },
    {
     "name": "stderr",
     "output_type": "stream",
     "text": [
      "\n",
      "[notice] A new release of pip is available: 23.1.2 -> 24.0\n",
      "[notice] To update, run: python.exe -m pip install --upgrade pip\n"
     ]
    }
   ],
   "source": [
    "! pip install deepeval"
   ]
  },
  {
   "cell_type": "code",
   "execution_count": 42,
   "metadata": {},
   "outputs": [],
   "source": [
    "from deepeval.models.base_model import DeepEvalBaseLLM\n",
    "from inference import BASE_MODEL\n",
    "        \n",
    "class LocalEvaluationModel(DeepEvalBaseLLM):\n",
    "    def __init__(self, model):\n",
    "        self.model = model\n",
    "    \n",
    "    def load_model(self):\n",
    "        return self.model\n",
    "\n",
    "    def generate(self, prompt: str) -> str:\n",
    "        return self.model.remote(prompt)\n",
    "\n",
    "    async def a_generate(self, prompt: str) -> str:\n",
    "        return self.generate(prompt)\n",
    "\n",
    "    def get_model_name(self):\n",
    "        return BASE_MODEL"
   ]
  },
  {
   "cell_type": "code",
   "execution_count": 43,
   "metadata": {},
   "outputs": [
    {
     "data": {
      "text/plain": [
       "[{'question': 'O que é o motor de combustão externa na locomotiva a vapor?',\n",
       "  'answer': 'O motor de combustão externa é o que movimenta a locomotiva a vapor, pois a queima do combustível ocorre fora dos compartimentos que produzem o movimento (cilindros).'},\n",
       " {'question': 'Como funciona o motor de combustão externa na locomotiva a vapor?',\n",
       "  'answer': 'O calor produzido pelo combustível é utilizado para aquecer água em uma caldeira, transformando-a em vapor. O vapor se expande e, com sua pressão, vai movimentar os êmbolos que acionam as rodas motrizes da locomotiva.'},\n",
       " {'question': 'Qual é o combustível utilizado na locomotiva a vapor?',\n",
       "  'answer': 'No caso da locomotiva a vapor, o combustível é o carvão ou a lenha.'},\n",
       " {'question': 'Quem desenvolveu os primeiros triciclos a vapor?',\n",
       "  'answer': 'Os primeiros triciclos a vapor foram desenvolvidos pelos francêses, como o do inventor Cugnot.'},\n",
       " {'question': 'Qual é a fonte de movimento da locomotiva a vapor?',\n",
       "  'answer': 'A locomotiva a vapor é movida por um motor de combustão externa, pois a queima do combustível ocorre fora dos compartimentos que produzem o movimento (cilindros).'}]"
      ]
     },
     "execution_count": 43,
     "metadata": {},
     "output_type": "execute_result"
    }
   ],
   "source": [
    "queries"
   ]
  },
  {
   "cell_type": "code",
   "execution_count": 44,
   "metadata": {},
   "outputs": [
    {
     "data": {
      "text/plain": [
       "{'question': 'O que é o motor de combustão externa na locomotiva a vapor?',\n",
       " 'answer': 'O motor de combustão externa é o que movimenta a locomotiva a vapor, pois a queima do combustível ocorre fora dos compartimentos que produzem o movimento (cilindros).'}"
      ]
     },
     "execution_count": 44,
     "metadata": {},
     "output_type": "execute_result"
    }
   ],
   "source": [
    "queries[0]"
   ]
  },
  {
   "cell_type": "code",
   "execution_count": 58,
   "metadata": {},
   "outputs": [
    {
     "data": {
      "text/plain": [
       "('O que é o motor de combustão externa na locomotiva a vapor?',\n",
       " 'O motor de combustão externa é o que movimenta a locomotiva a vapor, pois a queima do combustível ocorre fora dos compartimentos que produzem o movimento (cilindros).')"
      ]
     },
     "execution_count": 58,
     "metadata": {},
     "output_type": "execute_result"
    }
   ],
   "source": [
    "question = queries[0]['question']\n",
    "answer = queries[0]['answer']\n",
    "question, answer"
   ]
  },
  {
   "cell_type": "code",
   "execution_count": 60,
   "metadata": {},
   "outputs": [
    {
     "data": {
      "text/html": [
       "<pre style=\"white-space:pre;overflow-x:auto;line-height:normal;font-family:Menlo,'DejaVu Sans Mono',consolas,'Courier New',monospace\"></pre>\n"
      ],
      "text/plain": []
     },
     "metadata": {},
     "output_type": "display_data"
    },
    {
     "data": {
      "text/html": [
       "<pre style=\"white-space:pre;overflow-x:auto;line-height:normal;font-family:Menlo,'DejaVu Sans Mono',consolas,'Courier New',monospace\">\n",
       "</pre>\n"
      ],
      "text/plain": [
       "\n"
      ]
     },
     "metadata": {},
     "output_type": "display_data"
    },
    {
     "name": "stdout",
     "output_type": "stream",
     "text": [
      "1.0\n",
      "The hallucination score is 1.00 because the actual output is unrelated to the context, as it discusses an external combustion engine explosion instead of the functioning of a steam locomotive, which is the topic of the context. This disconnection between the actual output and the context indicates a high degree of hallucination.\n",
      "Evaluating test cases...\n",
      "Event loop is already running. Applying nest_asyncio patch to allow async execution...\n"
     ]
    },
    {
     "data": {
      "text/html": [
       "<pre style=\"white-space:pre;overflow-x:auto;line-height:normal;font-family:Menlo,'DejaVu Sans Mono',consolas,'Courier New',monospace\"></pre>\n"
      ],
      "text/plain": []
     },
     "metadata": {},
     "output_type": "display_data"
    },
    {
     "data": {
      "text/html": [
       "<pre style=\"white-space:pre;overflow-x:auto;line-height:normal;font-family:Menlo,'DejaVu Sans Mono',consolas,'Courier New',monospace\">\n",
       "</pre>\n"
      ],
      "text/plain": [
       "\n"
      ]
     },
     "metadata": {},
     "output_type": "display_data"
    },
    {
     "name": "stdout",
     "output_type": "stream",
     "text": [
      "\n",
      "======================================================================\n",
      "\n",
      "Metrics Summary\n",
      "\n",
      "  - ❌ Hallucination (score: 1.0, threshold: 0.5, strict: False, evaluation model: internlm/internlm2-chat-7b, reason: The hallucination score is 1.00 because the actual output fails to provide a comprehensive explanation of the context. The context discusses the functioning of a steam locomotive and its reliance on an external combustion engine, while the actual output only mentions the explosion of the combustion engine, which is not an accurate representation of the context. This discrepancy indicates a significant deviation from the context, leading to a high hallucination score., error: None)\n",
      "\n",
      "For test case:\n",
      "\n",
      "  - input: O que é o motor de combustão externa na locomotiva a vapor?\n",
      "  - actual output: O motor de combustão externa vai explodir\n",
      "  - expected output: None\n",
      "  - context: ['MOTOR DE COMBUSTÃO EXTERNA Na locomotiva a vapor, o combustível é o carvão ou a lenha. O calor produzido é utilizado para aquecer água em uma caldeira, transformando-a em vapor. O vapor se expande e, com sua pressão, vai movimentar os êmbolos que acionam as rodas motrizes da locomotiva. fornal A locomotiva a vapor é movida por um motor de combustão externa, pois a queima do combustível ocorre fora dos compartimentos que produzem o movimento (cilindros). Seguindo o princípio de funcionamento da locomotiva a vapor, foram desenvolvidos os primeiros triciclos a vapor, como o do francês Cugnot. Veja representado na figura a seguir.']\n",
      "  - retrieval context: None\n",
      "\n",
      "----------------------------------------------------------------------\n"
     ]
    },
    {
     "data": {
      "text/html": [
       "<pre style=\"white-space:pre;overflow-x:auto;line-height:normal;font-family:Menlo,'DejaVu Sans Mono',consolas,'Courier New',monospace\">✅ Tests finished! Run <span style=\"color: #008000; text-decoration-color: #008000\">\"deepeval login\"</span> to view evaluation results on the web.\n",
       "</pre>\n"
      ],
      "text/plain": [
       "✅ Tests finished! Run \u001b[32m\"deepeval login\"\u001b[0m to view evaluation results on the web.\n"
      ]
     },
     "metadata": {},
     "output_type": "display_data"
    },
    {
     "data": {
      "text/plain": [
       "[TestResult(success=False, metrics=[<deepeval.metrics.hallucination.hallucination.HallucinationMetric object at 0x000002E652FEEA50>], input='O que é o motor de combustão externa na locomotiva a vapor?', actual_output='O motor de combustão externa vai explodir', expected_output=None, context=['MOTOR DE COMBUSTÃO EXTERNA Na locomotiva a vapor, o combustível é o carvão ou a lenha. O calor produzido é utilizado para aquecer água em uma caldeira, transformando-a em vapor. O vapor se expande e, com sua pressão, vai movimentar os êmbolos que acionam as rodas motrizes da locomotiva. fornal A locomotiva a vapor é movida por um motor de combustão externa, pois a queima do combustível ocorre fora dos compartimentos que produzem o movimento (cilindros). Seguindo o princípio de funcionamento da locomotiva a vapor, foram desenvolvidos os primeiros triciclos a vapor, como o do francês Cugnot. Veja representado na figura a seguir.'], retrieval_context=None)]"
      ]
     },
     "execution_count": 60,
     "metadata": {},
     "output_type": "execute_result"
    }
   ],
   "source": [
    "from deepeval import evaluate\n",
    "from deepeval.metrics import HallucinationMetric\n",
    "from deepeval.test_case import LLMTestCase\n",
    "\n",
    "model = LocalEvaluationModel(model=inference)\n",
    "\n",
    "context=[document]\n",
    "\n",
    "test_case = LLMTestCase(\n",
    "    input=question,\n",
    "    actual_output=\"O motor de combustão externa vai explodir\",\n",
    "    context=context\n",
    ")\n",
    "metric = HallucinationMetric(model=model, threshold=0.5)\n",
    "\n",
    "metric.measure(test_case)\n",
    "print(metric.score)\n",
    "print(metric.reason)\n",
    "\n",
    "# or evaluate test cases in bulk\n",
    "evaluate([test_case], [metric])"
   ]
  }
 ],
 "metadata": {
  "accelerator": "GPU",
  "colab": {
   "authorship_tag": "ABX9TyPAuhOs6LqPlTbKAiCb1/PW",
   "gpuType": "T4",
   "include_colab_link": true,
   "mount_file_id": "1jdzFQfBomK42CMq2RKVQvVgfODSCiACc",
   "provenance": []
  },
  "kernelspec": {
   "display_name": "Python 3",
   "language": "python",
   "name": "python3"
  },
  "language_info": {
   "codemirror_mode": {
    "name": "ipython",
    "version": 3
   },
   "file_extension": ".py",
   "mimetype": "text/x-python",
   "name": "python",
   "nbconvert_exporter": "python",
   "pygments_lexer": "ipython3",
   "version": "3.11.4"
  }
 },
 "nbformat": 4,
 "nbformat_minor": 4
}
