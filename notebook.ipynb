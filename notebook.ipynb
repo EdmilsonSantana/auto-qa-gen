{
 "cells": [
  {
   "cell_type": "markdown",
   "metadata": {
    "colab_type": "text",
    "id": "view-in-github"
   },
   "source": [
    "<a href=\"https://colab.research.google.com/github/EdmilsonSantana/llm-vehicle-repair/blob/main/Assistente_do_Mecanico_TCC.ipynb\" target=\"_parent\"><img src=\"https://colab.research.google.com/assets/colab-badge.svg\" alt=\"Open In Colab\"/></a>"
   ]
  },
  {
   "cell_type": "code",
   "execution_count": 1,
   "metadata": {},
   "outputs": [],
   "source": [
    "from docx import Document\n",
    "from docx.text.paragraph import Paragraph\n",
    "from docx.shared import Pt\n",
    "import os\n",
    "import re"
   ]
  },
  {
   "cell_type": "markdown",
   "metadata": {},
   "source": [
    "### Processando apostilas da Universidade do Automóvel"
   ]
  },
  {
   "cell_type": "code",
   "execution_count": 2,
   "metadata": {},
   "outputs": [],
   "source": [
    "RAW_DIR = './raw_data'\n",
    "BASE_DIR = './data'"
   ]
  },
  {
   "cell_type": "code",
   "execution_count": 3,
   "metadata": {},
   "outputs": [],
   "source": [
    "files = os.listdir(RAW_DIR)"
   ]
  },
  {
   "cell_type": "code",
   "execution_count": 4,
   "metadata": {},
   "outputs": [
    {
     "name": "stdout",
     "output_type": "stream",
     "text": [
      "4 documents\n"
     ]
    }
   ],
   "source": [
    "print(f'{len(files)} documents')"
   ]
  },
  {
   "cell_type": "code",
   "execution_count": 5,
   "metadata": {},
   "outputs": [
    {
     "data": {
      "text/plain": [
       "['5 -Motor de Comb. Interna - Otto.docx',\n",
       " '6 - Sistema de Transmissão.docx',\n",
       " '7 - Metrologia Mec. Automotiva.docx',\n",
       " '8 - Suspensão, Direção e Freios.docx']"
      ]
     },
     "execution_count": 5,
     "metadata": {},
     "output_type": "execute_result"
    }
   ],
   "source": [
    "files"
   ]
  },
  {
   "cell_type": "code",
   "execution_count": 6,
   "metadata": {},
   "outputs": [],
   "source": [
    "document = Document(f'{RAW_DIR}/{files[0]}')"
   ]
  },
  {
   "cell_type": "code",
   "execution_count": 7,
   "metadata": {},
   "outputs": [],
   "source": [
    "def has_small_font(paragraph: Paragraph):\n",
    "    font_size = paragraph.style.font.size\n",
    "    return font_size == Pt(9) or font_size == Pt(8)"
   ]
  },
  {
   "cell_type": "code",
   "execution_count": 8,
   "metadata": {},
   "outputs": [],
   "source": [
    "def is_heading(paragraph: Paragraph):\n",
    "    return paragraph.style.name.startswith('Heading')\n"
   ]
  },
  {
   "cell_type": "code",
   "execution_count": 9,
   "metadata": {},
   "outputs": [],
   "source": [
    "def parse_text(text):\n",
    "    text = re.sub('\\s+',' ',text).strip()\n",
    "    return '' if text.isnumeric() else text"
   ]
  },
  {
   "cell_type": "code",
   "execution_count": 10,
   "metadata": {},
   "outputs": [],
   "source": [
    "doc_content = {}\n",
    "curr_heading = \"TITLE\"\n",
    "last_text = curr_heading\n",
    "\n",
    "for section in document.sections:\n",
    "    header_paragraphs = section.header.paragraphs\n",
    "    footer_paragraphs = section.footer.paragraphs\n",
    "\n",
    "    for item in section.iter_inner_content():\n",
    "        if (not isinstance(item, Paragraph)):\n",
    "            continue\n",
    "\n",
    "        text = parse_text(item.text)\n",
    "        if (len(text) == 0):\n",
    "            continue\n",
    "        if (item in header_paragraphs or item in footer_paragraphs):\n",
    "            continue\n",
    "        if (has_small_font(item)):\n",
    "            continue\n",
    "\n",
    "        if (is_heading(item)):\n",
    "            curr_heading = text\n",
    "\n",
    "        section_content = doc_content.setdefault(curr_heading, [])\n",
    "        section_content.append(text)\n",
    "            "
   ]
  },
  {
   "cell_type": "code",
   "execution_count": 11,
   "metadata": {},
   "outputs": [
    {
     "data": {
      "text/plain": [
       "dict_keys(['TITLE', 'CICLO OTTO', 'Conteúdos', 'INTRODUÇÃO', 'MOTOR DE COMBUSTÃO', 'MOTOR DE COMBUSTÃO EXTERNA', 'MOTOR DE COMBUSTÃO INTERNA', 'MOTORES DE DOIS TEMPOS', 'MOTORES DE QUATRO TEMPOS', 'CABEÇOTE DO MOTOR', 'TIPOS DE CABEÇOTE', 'DISTRIBUIÇÃO MECÂNICA', 'DIAGRAMA DE VÁLVULAS', 'POSIÇÃO DO COMANDO E TIPO DE MOTOR', 'ESTRUTURA DA DISTRIBUIÇÃO MECÂNICA', 'ÁRVORE DE COMANDO DE VÁLVULAS', 'TUCHOS', 'CONJUNTO DE BALANCINS', 'MANUTENÇÃO', 'VÁLVULAS', 'CONSTITUIÇÃO DA VÁLVULA', 'DISPOSITIVOS DE MONTAGEM DAS VÁLVULAS', 'PEÇAS MÓVEIS', 'BIELA', 'CASQUILHO', 'ÊMBOLO', 'ANÉIS DE SEGMENTO', 'ÁRVORE DE MANIVELAS', 'BLOCO DE MOTOR', 'TIPOS DE BLOCO', 'VOLANTE DO MOTOR', 'FUNÇÕES DO VOLANTE DO MOTOR', 'DIMENSÕES E DESEMPENHO DO MOTOR', 'LUBRIFICAÇÃO', 'ATRITO', 'LUBRIFICANTES', 'SISTEMA DE LUBRIFICAÇÃO', 'SISTEMA DE LUBRIFICAÇÃO MISTO', 'SISTEMA DE CÁRTER SECO', 'CÁRTER', 'FILTRO DE ÓLEO', 'BOMBA DE ÓLEO', 'VÁLVULA REGULADORA DE PRESSÃO', 'BIBLIOGRAFIA'])"
      ]
     },
     "execution_count": 11,
     "metadata": {},
     "output_type": "execute_result"
    }
   ],
   "source": [
    "doc_content.keys()"
   ]
  },
  {
   "cell_type": "code",
   "execution_count": 12,
   "metadata": {},
   "outputs": [
    {
     "data": {
      "text/plain": [
       "['BIBLIOGRAFIA',\n",
       " 'https://www.mmcofap.com.br',\n",
       " 'CASTROL. Veículos automotivos e sua lubrificação.',\n",
       " 'COFAP. Manual doutor em motores. 2a.ed., 1988.',\n",
       " 'FIAT. Oficina FIAT no. 2, vol. II, ano2. 1987. Tutela lubrificantes: história, informações, técnicas e Produtos.',\n",
       " 'MOBIL. Curso de lubrificação. São Paulo, 1975.']"
      ]
     },
     "execution_count": 12,
     "metadata": {},
     "output_type": "execute_result"
    }
   ],
   "source": [
    "doc_content.pop('Conteúdos')\n",
    "doc_content.pop('BIBLIOGRAFIA')"
   ]
  },
  {
   "cell_type": "code",
   "execution_count": 13,
   "metadata": {},
   "outputs": [
    {
     "data": {
      "text/plain": [
       "dict_keys(['TITLE', 'CICLO OTTO', 'INTRODUÇÃO', 'MOTOR DE COMBUSTÃO', 'MOTOR DE COMBUSTÃO EXTERNA', 'MOTOR DE COMBUSTÃO INTERNA', 'MOTORES DE DOIS TEMPOS', 'MOTORES DE QUATRO TEMPOS', 'CABEÇOTE DO MOTOR', 'TIPOS DE CABEÇOTE', 'DISTRIBUIÇÃO MECÂNICA', 'DIAGRAMA DE VÁLVULAS', 'POSIÇÃO DO COMANDO E TIPO DE MOTOR', 'ESTRUTURA DA DISTRIBUIÇÃO MECÂNICA', 'ÁRVORE DE COMANDO DE VÁLVULAS', 'TUCHOS', 'CONJUNTO DE BALANCINS', 'MANUTENÇÃO', 'VÁLVULAS', 'CONSTITUIÇÃO DA VÁLVULA', 'DISPOSITIVOS DE MONTAGEM DAS VÁLVULAS', 'PEÇAS MÓVEIS', 'BIELA', 'CASQUILHO', 'ÊMBOLO', 'ANÉIS DE SEGMENTO', 'ÁRVORE DE MANIVELAS', 'BLOCO DE MOTOR', 'TIPOS DE BLOCO', 'VOLANTE DO MOTOR', 'FUNÇÕES DO VOLANTE DO MOTOR', 'DIMENSÕES E DESEMPENHO DO MOTOR', 'LUBRIFICAÇÃO', 'ATRITO', 'LUBRIFICANTES', 'SISTEMA DE LUBRIFICAÇÃO', 'SISTEMA DE LUBRIFICAÇÃO MISTO', 'SISTEMA DE CÁRTER SECO', 'CÁRTER', 'FILTRO DE ÓLEO', 'BOMBA DE ÓLEO', 'VÁLVULA REGULADORA DE PRESSÃO'])"
      ]
     },
     "execution_count": 13,
     "metadata": {},
     "output_type": "execute_result"
    }
   ],
   "source": [
    "doc_content.keys()"
   ]
  },
  {
   "cell_type": "code",
   "execution_count": 14,
   "metadata": {},
   "outputs": [
    {
     "data": {
      "text/plain": [
       "['CICLO OTTO', '.']"
      ]
     },
     "execution_count": 14,
     "metadata": {},
     "output_type": "execute_result"
    }
   ],
   "source": [
    "doc_content['TITLE'].extend(doc_content['CICLO OTTO'])\n",
    "doc_content.pop('CICLO OTTO')"
   ]
  },
  {
   "cell_type": "markdown",
   "metadata": {},
   "source": [
    "### Extraindo instruções a partir do conteúdo"
   ]
  },
  {
   "cell_type": "code",
   "execution_count": 24,
   "metadata": {},
   "outputs": [
    {
     "name": "stdout",
     "output_type": "stream",
     "text": [
      "- Creating objects...\n",
      "| Creating objects...\n",
      "/ Creating objects...\n",
      "└── - Creating mount e:\\Workspace\\tcc-2022-2\\inference.py: Uploaded 0/0 \n",
      "    inspected files\n",
      "| Creating objects...\n",
      "└── | Creating mount e:\\Workspace\\tcc-2022-2\\inference.py: Uploaded 0/0 \n",
      "    inspected files\n",
      "/ Creating objects...\n",
      "└── / Creating mount e:\\Workspace\\tcc-2022-2\\inference.py: Building mount\n",
      "\\ Creating objects...\n",
      "└── | Creating mount e:\\Workspace\\tcc-2022-2\\inference.py: Building mount\n",
      "/ Creating objects...\n",
      "└── 🔨 Created mount e:\\Workspace\\tcc-2022-2\\inference.py\n",
      "\\ Creating objects...\n",
      "└── 🔨 Created mount e:\\Workspace\\tcc-2022-2\\inference.py\n",
      "/ Creating objects...\n",
      "└── 🔨 Created mount e:\\Workspace\\tcc-2022-2\\inference.py\n",
      "\\ Creating objects...\n",
      "└── 🔨 Created mount e:\\Workspace\\tcc-2022-2\\inference.py\n",
      "/ Creating objects...\n",
      "└── 🔨 Created mount e:\\Workspace\\tcc-2022-2\\inference.py\n",
      "\\ Creating objects...\n",
      "├── 🔨 Created mount e:\\Workspace\\tcc-2022-2\\inference.py\n",
      "└── - Creating download_model_to_folder...\n",
      "/ Creating objects...\n",
      "├── 🔨 Created mount e:\\Workspace\\tcc-2022-2\\inference.py\n",
      "└── 🔨 Created download_model_to_folder.\n",
      "\\ Creating objects...\n",
      "├── 🔨 Created mount e:\\Workspace\\tcc-2022-2\\inference.py\n",
      "└── 🔨 Created download_model_to_folder.\n",
      "/ Creating objects...\n",
      "├── 🔨 Created mount e:\\Workspace\\tcc-2022-2\\inference.py\n",
      "└── 🔨 Created download_model_to_folder.\n",
      "\\ Creating objects...\n",
      "├── 🔨 Created mount e:\\Workspace\\tcc-2022-2\\inference.py\n",
      "└── 🔨 Created download_model_to_folder.\n",
      "/ Creating objects...\n",
      "├── 🔨 Created mount e:\\Workspace\\tcc-2022-2\\inference.py\n",
      "├── 🔨 Created download_model_to_folder.\n",
      "└── - Creating Model.generate...\n",
      "\\ Creating objects...\n",
      "├── 🔨 Created mount e:\\Workspace\\tcc-2022-2\\inference.py\n",
      "├── 🔨 Created download_model_to_folder.\n",
      "└── 🔨 Created Model.generate.\n",
      "/ Creating objects...\n",
      "├── 🔨 Created mount e:\\Workspace\\tcc-2022-2\\inference.py\n",
      "├── 🔨 Created download_model_to_folder.\n",
      "└── 🔨 Created Model.generate.\n",
      "/ Creating objects...\n",
      "├── 🔨 Created mount e:\\Workspace\\tcc-2022-2\\inference.py\n",
      "├── 🔨 Created download_model_to_folder.\n",
      "└── 🔨 Created Model.generate.\n",
      "\n",
      "✓ Created objects.\n",
      "├── 🔨 Created mount e:\\Workspace\\tcc-2022-2\\inference.py\n",
      "├── 🔨 Created download_model_to_folder.\n",
      "└── 🔨 Created Model.generate.\n",
      "✓ App deployed! 🎉\n",
      "\n",
      "View Deployment: https://modal.com/apps/edmilsonsantana/llm-inference\n"
     ]
    }
   ],
   "source": [
    "! modal deploy inference.py"
   ]
  },
  {
   "cell_type": "markdown",
   "metadata": {},
   "source": [
    "#### Prompts"
   ]
  },
  {
   "cell_type": "code",
   "execution_count": 54,
   "metadata": {},
   "outputs": [],
   "source": [
    "questions_prompt = \"\"\"\n",
    "        Your goal is to extract questions (Who/What/When/Where/How) related to a certain topic from a document.\n",
    "        Here are some criterias that you have to follow to achieve your goal:\n",
    "\n",
    "        - Your input should be a JSON object in the following structure: {\"topic\": \"\", \"document\": \"\"}\n",
    "        - You have to extract max of 5 questions.\n",
    "        - You should always include the topic in the question to contextualize to which the question refers.\n",
    "        - The answers should only contain the exact same text originating from the document content.\n",
    "        - The language used to generate the instructions should always be Brazilian Portuguese.\n",
    "        - Format the output as a JSON array and each item should be a object with the question and the respective answer. \n",
    "\"\"\""
   ]
  },
  {
   "cell_type": "code",
   "execution_count": 47,
   "metadata": {},
   "outputs": [],
   "source": [
    "topics_prompt = \"\"\"\n",
    "    Your goal is to extract topics from a given document.\n",
    "    The topics are sentences that summarizes some content present in the document.\n",
    "    Your ouput should be a JSON array and each item should be a topic as a text string.\n",
    "\"\"\""
   ]
  },
  {
   "cell_type": "code",
   "execution_count": 48,
   "metadata": {},
   "outputs": [],
   "source": [
    "validation_prompt = \"\"\"\n",
    "    You are an expert in Q&A and given some queries and a context your goal is classify the level of adherence that\n",
    "\n",
    "    - Your input should be a JSON object in the following structure: {\"queries\": [], \"context\": \"\"}\n",
    "    - Your output should be a JSON array with the content that are not being assessed by the queries.\n",
    "    - If there are enough queries you should output a empty array.\n",
    "\"\"\""
   ]
  },
  {
   "cell_type": "code",
   "execution_count": 49,
   "metadata": {},
   "outputs": [
    {
     "data": {
      "text/plain": [
       "'MOTOR DE COMBUSTÃO EXTERNA Na locomotiva a vapor, o combustível é o carvão ou a lenha. O calor produzido é utilizado para aquecer água em uma caldeira, transformando-a em vapor. O vapor se expande e, com sua pressão, vai movimentar os êmbolos que acionam as rodas motrizes da locomotiva. fornal A locomotiva a vapor é movida por um motor de combustão externa, pois a queima do combustível ocorre fora dos compartimentos que produzem o movimento (cilindros). Seguindo o princípio de funcionamento da locomotiva a vapor, foram desenvolvidos os primeiros triciclos a vapor, como o do francês Cugnot. Veja representado na figura a seguir.'"
      ]
     },
     "execution_count": 49,
     "metadata": {},
     "output_type": "execute_result"
    }
   ],
   "source": [
    "section = 'MOTOR DE COMBUSTÃO EXTERNA'\n",
    "document = \" \".join(doc_content[section])\n",
    "document"
   ]
  },
  {
   "cell_type": "code",
   "execution_count": 50,
   "metadata": {},
   "outputs": [],
   "source": [
    "import modal\n",
    "import json"
   ]
  },
  {
   "cell_type": "code",
   "execution_count": 27,
   "metadata": {},
   "outputs": [],
   "source": [
    "inference = modal.Function.lookup('llm-inference', 'Model.generate')"
   ]
  },
  {
   "cell_type": "code",
   "execution_count": 28,
   "metadata": {},
   "outputs": [],
   "source": [
    "response = inference.remote(topics_prompt, document)"
   ]
  },
  {
   "cell_type": "code",
   "execution_count": 30,
   "metadata": {},
   "outputs": [
    {
     "data": {
      "text/plain": [
       "['Combustão externa na locomotiva a vapor',\n",
       " 'Carvão ou lenha como combustível',\n",
       " 'Caldeiramento de água para gerar vapor',\n",
       " 'Expansão do vapor movimentando rodas',\n",
       " 'Motor de combustão no exterior dos cilindros',\n",
       " 'Início dos triciclos a vapor com Cugnot',\n",
       " 'Princípio de funcionamento da locomotiva a vapor aplicado a outras máquinas']"
      ]
     },
     "execution_count": 30,
     "metadata": {},
     "output_type": "execute_result"
    }
   ],
   "source": [
    "topics = json.loads(response)\n",
    "topics"
   ]
  },
  {
   "cell_type": "code",
   "execution_count": 31,
   "metadata": {},
   "outputs": [
    {
     "data": {
      "text/plain": [
       "'{\"topic\": \"Combustão externa na locomotiva a vapor\", \"document\": \"MOTOR DE COMBUSTÃO EXTERNA Na locomotiva a vapor, o combustível é o carvão ou a lenha. O calor produzido é utilizado para aquecer água em uma caldeira, transformando-a em vapor. O vapor se expande e, com sua pressão, vai movimentar os êmbolos que acionam as rodas motrizes da locomotiva. fornal A locomotiva a vapor é movida por um motor de combustão externa, pois a queima do combustível ocorre fora dos compartimentos que produzem o movimento (cilindros). Seguindo o princípio de funcionamento da locomotiva a vapor, foram desenvolvidos os primeiros triciclos a vapor, como o do francês Cugnot. Veja representado na figura a seguir.\"}'"
      ]
     },
     "execution_count": 31,
     "metadata": {},
     "output_type": "execute_result"
    }
   ],
   "source": [
    "input = json.dumps(dict(topic=topics[0], document=document), ensure_ascii=False)\n",
    "input"
   ]
  },
  {
   "cell_type": "code",
   "execution_count": 52,
   "metadata": {},
   "outputs": [
    {
     "data": {
      "text/plain": [
       "'[\\n    {\\n      \"question\": \"Quem inventou os primeiros triciclos a vapor?\",\\n      \"answer\": \"O francês Cugnot\"\\n    },\\n    {\\n      \"question\": \"O que proporciona o movimento na locomotiva a vapor?\",\\n      \"answer\": \"O vapor gerado pela queima do carvão ou lenha no motor de combustão externa\"\\n    },\\n    {\\n      \"question\": \"O que é feito com a água no processo?\",\\n      \"answer\": \"Aquecimento e transformação em vapor para mover os êmbolos e as rodas\"\\n    },\\n    {\\n      \"question\": \"Como é estruturada a combustão na locomotiva a vapor?\",\\n      \"answer\": \"A queima do combustível ocorre fora dos cilindros, no motor de combustão externo\"\\n    },\\n    {\\n      \"question\": \"Em que parte da locomotiva a vapor o calor é gerado?\",\\n      \"answer\": \"Na caldeira, onde o carvão ou lenha são queimados\"\\n    }\\n]'"
      ]
     },
     "execution_count": 52,
     "metadata": {},
     "output_type": "execute_result"
    }
   ],
   "source": [
    "response = inference.remote(questions_prompt, input)\n",
    "response"
   ]
  },
  {
   "cell_type": "code",
   "execution_count": 53,
   "metadata": {},
   "outputs": [
    {
     "data": {
      "text/plain": [
       "[{'question': 'Quem inventou os primeiros triciclos a vapor?',\n",
       "  'answer': 'O francês Cugnot'},\n",
       " {'question': 'O que proporciona o movimento na locomotiva a vapor?',\n",
       "  'answer': 'O vapor gerado pela queima do carvão ou lenha no motor de combustão externa'},\n",
       " {'question': 'O que é feito com a água no processo?',\n",
       "  'answer': 'Aquecimento e transformação em vapor para mover os êmbolos e as rodas'},\n",
       " {'question': 'Como é estruturada a combustão na locomotiva a vapor?',\n",
       "  'answer': 'A queima do combustível ocorre fora dos cilindros, no motor de combustão externo'},\n",
       " {'question': 'Em que parte da locomotiva a vapor o calor é gerado?',\n",
       "  'answer': 'Na caldeira, onde o carvão ou lenha são queimados'}]"
      ]
     },
     "execution_count": 53,
     "metadata": {},
     "output_type": "execute_result"
    }
   ],
   "source": [
    "queries = json.loads(response)\n",
    "queries"
   ]
  },
  {
   "cell_type": "code",
   "execution_count": 36,
   "metadata": {},
   "outputs": [
    {
     "data": {
      "text/plain": [
       "['Quem desenvolveu os primeiros triciclos a vapor?',\n",
       " 'O que é motor de combustão externa na locomotiva a vapor?',\n",
       " 'O que é feito com o calor gerado pela combustão no processo?',\n",
       " 'Como o vapor é responsável pelo movimento da locomotiva?',\n",
       " 'Em que sistema de combustão encontramos a locomotiva a vapor?']"
      ]
     },
     "execution_count": 36,
     "metadata": {},
     "output_type": "execute_result"
    }
   ],
   "source": [
    "queries_list = list(map(lambda x: x['query'], queries))\n",
    "queries_list"
   ]
  },
  {
   "cell_type": "code",
   "execution_count": 43,
   "metadata": {},
   "outputs": [
    {
     "data": {
      "text/plain": [
       "'{\"queries\": [\"Quanto tipo de combustível são usados nas locomotivas a vapor?\", \"Como o calor gerado é utilizado?\", \"O que acontece com o vapor produzido?\", \"Como funciona o motor de combustão externa nas locomotivas?\", \"Quem foi responsável pelo desenvolvimento de primeiros triciclos a vapor?\", \"Represente-se diagramaticamente a estrutura do motor de combustão externa nas locomotivas a vapor.\", \"Eles são chamados de?\", \"Era essa tecnologia utilizada na história da transporte ferroviário?\"], \"context\": \"MOTOR DE COMBUSTÃO EXTERNA Na locomotiva a vapor, o combustível é o carvão ou a lenha. O calor produzido é utilizado para aquecer água em uma caldeira, transformando-a em vapor. O vapor se expande e, com sua pressão, vai movimentar os êmbolos que acionam as rodas motrizes da locomotiva. fornal A locomotiva a vapor é movida por um motor de combustão externa, pois a queima do combustível ocorre fora dos compartimentos que produzem o movimento (cilindros). Seguindo o princípio de funcionamento da locomotiva a vapor, foram desenvolvidos os primeiros triciclos a vapor, como o do francês Cugnot. Veja representado na figura a seguir.\"}'"
      ]
     },
     "execution_count": 43,
     "metadata": {},
     "output_type": "execute_result"
    }
   ],
   "source": [
    "validation_input = json.dumps(dict(queries=queries_list,context=document), ensure_ascii=False)\n",
    "validation_input"
   ]
  },
  {
   "cell_type": "code",
   "execution_count": 44,
   "metadata": {},
   "outputs": [],
   "source": []
  },
  {
   "cell_type": "code",
   "execution_count": 45,
   "metadata": {},
   "outputs": [
    {
     "data": {
      "text/plain": [
       "'[{\"content\": \"história da transporte ferroviário\"}]'"
      ]
     },
     "execution_count": 45,
     "metadata": {},
     "output_type": "execute_result"
    }
   ],
   "source": [
    "response"
   ]
  },
  {
   "cell_type": "code",
   "execution_count": 118,
   "metadata": {},
   "outputs": [],
   "source": [
    "#dataset_path = f\"{BASE_DIR}/dataset.json\""
   ]
  },
  {
   "cell_type": "code",
   "execution_count": 119,
   "metadata": {},
   "outputs": [],
   "source": [
    "\"\"\"if os.path.getsize(dataset_path) > 0:\n",
    "    with open(dataset_path, \"r\", encoding='utf-8') as f:\n",
    "        dataset.extend(json.load(f))\"\"\""
   ]
  },
  {
   "cell_type": "code",
   "execution_count": 120,
   "metadata": {},
   "outputs": [
    {
     "name": "stdout",
     "output_type": "stream",
     "text": [
      "17\n"
     ]
    }
   ],
   "source": [
    "\"\"\"print(len(dataset))\"\"\""
   ]
  },
  {
   "cell_type": "code",
   "execution_count": 121,
   "metadata": {},
   "outputs": [],
   "source": [
    "\"\"\"with open(dataset_path, \"w\", encoding='utf-8') as f:\n",
    "    json.dump(dataset, f, ensure_ascii=False)\"\"\""
   ]
  },
  {
   "cell_type": "code",
   "execution_count": null,
   "metadata": {},
   "outputs": [],
   "source": []
  }
 ],
 "metadata": {
  "accelerator": "GPU",
  "colab": {
   "authorship_tag": "ABX9TyPAuhOs6LqPlTbKAiCb1/PW",
   "gpuType": "T4",
   "include_colab_link": true,
   "mount_file_id": "1jdzFQfBomK42CMq2RKVQvVgfODSCiACc",
   "provenance": []
  },
  "kernelspec": {
   "display_name": "Python 3",
   "language": "python",
   "name": "python3"
  },
  "language_info": {
   "codemirror_mode": {
    "name": "ipython",
    "version": 3
   },
   "file_extension": ".py",
   "mimetype": "text/x-python",
   "name": "python",
   "nbconvert_exporter": "python",
   "pygments_lexer": "ipython3",
   "version": "3.11.4"
  }
 },
 "nbformat": 4,
 "nbformat_minor": 4
}
