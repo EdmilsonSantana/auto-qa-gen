{
 "cells": [
  {
   "cell_type": "markdown",
   "metadata": {
    "colab_type": "text",
    "id": "view-in-github"
   },
   "source": [
    "<a href=\"https://colab.research.google.com/github/EdmilsonSantana/llm-vehicle-repair/blob/main/Assistente_do_Mecanico_TCC.ipynb\" target=\"_parent\"><img src=\"https://colab.research.google.com/assets/colab-badge.svg\" alt=\"Open In Colab\"/></a>"
   ]
  },
  {
   "cell_type": "code",
   "execution_count": 7,
   "metadata": {},
   "outputs": [],
   "source": [
    "from docx import Document\n",
    "from docx.text.paragraph import Paragraph\n",
    "from docx.shared import Pt\n",
    "import os\n",
    "import re"
   ]
  },
  {
   "cell_type": "markdown",
   "metadata": {},
   "source": [
    "### Processando apostilas da Universidade do Automóvel"
   ]
  },
  {
   "cell_type": "code",
   "execution_count": 54,
   "metadata": {},
   "outputs": [],
   "source": [
    "RAW_DIR = './raw_data'\n",
    "BASE_DIR = './data'"
   ]
  },
  {
   "cell_type": "code",
   "execution_count": 55,
   "metadata": {},
   "outputs": [],
   "source": [
    "files = os.listdir(RAW_DIR)"
   ]
  },
  {
   "cell_type": "code",
   "execution_count": 56,
   "metadata": {},
   "outputs": [
    {
     "name": "stdout",
     "output_type": "stream",
     "text": [
      "14 documents\n"
     ]
    }
   ],
   "source": [
    "print(f'{len(files)} documents')"
   ]
  },
  {
   "cell_type": "code",
   "execution_count": 57,
   "metadata": {},
   "outputs": [
    {
     "data": {
      "text/plain": [
       "['5 -Motor de Comb. Interna - Otto.docx',\n",
       " '6 - Sistema de Transmissão.docx',\n",
       " '7 - Metrologia Mec. Automotiva.docx',\n",
       " '8 - Suspensão, Direção e Freios.docx',\n",
       " 'Apostila Alternadores Pilotados V1 em 06_01_2023.docx',\n",
       " 'Apostila de Injeção Eletrônica 2022.docx',\n",
       " 'Apostila do Sistema de Iluminação e Sinalização V2 em 15_01_2024.docx',\n",
       " 'Apostila Eletricidade Automotiva Diesel Pesados V.1 em 05_10_2023.docx',\n",
       " 'Apostila Eletrônica Embarcada V2 em 16_08_2023.docx',\n",
       " 'Apostila Introdução ao Euro 06 - Pesados.docx',\n",
       " 'Apostila Módulo -  Eletricidade Aplicada.docx',\n",
       " 'Apostila Pós-Tratamento Diesel Leve Euro 06 - Ducato.docx',\n",
       " 'Apostila Sistema Ger. Motores Stellantis em 13_08_2023.docx',\n",
       " 'Eletricidade - Sistema de Carga e Partida Versao 2024.1.docx']"
      ]
     },
     "execution_count": 57,
     "metadata": {},
     "output_type": "execute_result"
    }
   ],
   "source": [
    "files"
   ]
  },
  {
   "cell_type": "code",
   "execution_count": 58,
   "metadata": {},
   "outputs": [],
   "source": [
    "document = Document(f'{RAW_DIR}/{files[0]}')"
   ]
  },
  {
   "cell_type": "code",
   "execution_count": 59,
   "metadata": {},
   "outputs": [],
   "source": [
    "def has_small_font(paragraph: Paragraph):\n",
    "    font_size = paragraph.style.font.size\n",
    "    return font_size == Pt(9) or font_size == Pt(8)"
   ]
  },
  {
   "cell_type": "code",
   "execution_count": 60,
   "metadata": {},
   "outputs": [],
   "source": [
    "def is_heading(paragraph: Paragraph):\n",
    "    return paragraph.style.name.startswith('Heading')\n"
   ]
  },
  {
   "cell_type": "code",
   "execution_count": 61,
   "metadata": {},
   "outputs": [],
   "source": [
    "def parse_text(text):\n",
    "    text = re.sub('\\s+',' ',text).strip()\n",
    "    return '' if text.isnumeric() else text"
   ]
  },
  {
   "cell_type": "code",
   "execution_count": 62,
   "metadata": {},
   "outputs": [],
   "source": [
    "doc_content = {}\n",
    "curr_heading = \"TITLE\"\n",
    "last_text = curr_heading\n",
    "\n",
    "for section in document.sections:\n",
    "    header_paragraphs = section.header.paragraphs\n",
    "    footer_paragraphs = section.footer.paragraphs\n",
    "\n",
    "    for item in section.iter_inner_content():\n",
    "        if (not isinstance(item, Paragraph)):\n",
    "            continue\n",
    "\n",
    "        text = parse_text(item.text)\n",
    "        if (len(text) == 0):\n",
    "            continue\n",
    "        if (item in header_paragraphs or item in footer_paragraphs):\n",
    "            continue\n",
    "        if (has_small_font(item)):\n",
    "            continue\n",
    "\n",
    "        if (is_heading(item)):\n",
    "            curr_heading = text\n",
    "\n",
    "        section_content = doc_content.setdefault(curr_heading, [])\n",
    "        section_content.append(text)\n",
    "            "
   ]
  },
  {
   "cell_type": "code",
   "execution_count": 63,
   "metadata": {},
   "outputs": [
    {
     "data": {
      "text/plain": [
       "dict_keys(['TITLE', 'CICLO OTTO', 'Conteúdos', 'INTRODUÇÃO', 'MOTOR DE COMBUSTÃO', 'MOTOR DE COMBUSTÃO EXTERNA', 'MOTOR DE COMBUSTÃO INTERNA', 'MOTORES DE DOIS TEMPOS', 'MOTORES DE QUATRO TEMPOS', 'CABEÇOTE DO MOTOR', 'TIPOS DE CABEÇOTE', 'DISTRIBUIÇÃO MECÂNICA', 'DIAGRAMA DE VÁLVULAS', 'POSIÇÃO DO COMANDO E TIPO DE MOTOR', 'ESTRUTURA DA DISTRIBUIÇÃO MECÂNICA', 'ÁRVORE DE COMANDO DE VÁLVULAS', 'TUCHOS', 'CONJUNTO DE BALANCINS', 'MANUTENÇÃO', 'VÁLVULAS', 'CONSTITUIÇÃO DA VÁLVULA', 'DISPOSITIVOS DE MONTAGEM DAS VÁLVULAS', 'PEÇAS MÓVEIS', 'BIELA', 'CASQUILHO', 'ÊMBOLO', 'ANÉIS DE SEGMENTO', 'ÁRVORE DE MANIVELAS', 'BLOCO DE MOTOR', 'TIPOS DE BLOCO', 'VOLANTE DO MOTOR', 'FUNÇÕES DO VOLANTE DO MOTOR', 'DIMENSÕES E DESEMPENHO DO MOTOR', 'LUBRIFICAÇÃO', 'ATRITO', 'LUBRIFICANTES', 'SISTEMA DE LUBRIFICAÇÃO', 'SISTEMA DE LUBRIFICAÇÃO MISTO', 'SISTEMA DE CÁRTER SECO', 'CÁRTER', 'FILTRO DE ÓLEO', 'BOMBA DE ÓLEO', 'VÁLVULA REGULADORA DE PRESSÃO', 'BIBLIOGRAFIA'])"
      ]
     },
     "execution_count": 63,
     "metadata": {},
     "output_type": "execute_result"
    }
   ],
   "source": [
    "doc_content.keys()"
   ]
  },
  {
   "cell_type": "code",
   "execution_count": 64,
   "metadata": {},
   "outputs": [
    {
     "data": {
      "text/plain": [
       "['BIBLIOGRAFIA',\n",
       " 'https://www.mmcofap.com.br',\n",
       " 'CASTROL. Veículos automotivos e sua lubrificação.',\n",
       " 'COFAP. Manual doutor em motores. 2a.ed., 1988.',\n",
       " 'FIAT. Oficina FIAT no. 2, vol. II, ano2. 1987. Tutela lubrificantes: história, informações, técnicas e Produtos.',\n",
       " 'MOBIL. Curso de lubrificação. São Paulo, 1975.']"
      ]
     },
     "execution_count": 64,
     "metadata": {},
     "output_type": "execute_result"
    }
   ],
   "source": [
    "doc_content.pop('Conteúdos')\n",
    "doc_content.pop('BIBLIOGRAFIA')"
   ]
  },
  {
   "cell_type": "code",
   "execution_count": 65,
   "metadata": {},
   "outputs": [
    {
     "data": {
      "text/plain": [
       "dict_keys(['TITLE', 'CICLO OTTO', 'INTRODUÇÃO', 'MOTOR DE COMBUSTÃO', 'MOTOR DE COMBUSTÃO EXTERNA', 'MOTOR DE COMBUSTÃO INTERNA', 'MOTORES DE DOIS TEMPOS', 'MOTORES DE QUATRO TEMPOS', 'CABEÇOTE DO MOTOR', 'TIPOS DE CABEÇOTE', 'DISTRIBUIÇÃO MECÂNICA', 'DIAGRAMA DE VÁLVULAS', 'POSIÇÃO DO COMANDO E TIPO DE MOTOR', 'ESTRUTURA DA DISTRIBUIÇÃO MECÂNICA', 'ÁRVORE DE COMANDO DE VÁLVULAS', 'TUCHOS', 'CONJUNTO DE BALANCINS', 'MANUTENÇÃO', 'VÁLVULAS', 'CONSTITUIÇÃO DA VÁLVULA', 'DISPOSITIVOS DE MONTAGEM DAS VÁLVULAS', 'PEÇAS MÓVEIS', 'BIELA', 'CASQUILHO', 'ÊMBOLO', 'ANÉIS DE SEGMENTO', 'ÁRVORE DE MANIVELAS', 'BLOCO DE MOTOR', 'TIPOS DE BLOCO', 'VOLANTE DO MOTOR', 'FUNÇÕES DO VOLANTE DO MOTOR', 'DIMENSÕES E DESEMPENHO DO MOTOR', 'LUBRIFICAÇÃO', 'ATRITO', 'LUBRIFICANTES', 'SISTEMA DE LUBRIFICAÇÃO', 'SISTEMA DE LUBRIFICAÇÃO MISTO', 'SISTEMA DE CÁRTER SECO', 'CÁRTER', 'FILTRO DE ÓLEO', 'BOMBA DE ÓLEO', 'VÁLVULA REGULADORA DE PRESSÃO'])"
      ]
     },
     "execution_count": 65,
     "metadata": {},
     "output_type": "execute_result"
    }
   ],
   "source": [
    "doc_content.keys()"
   ]
  },
  {
   "cell_type": "code",
   "execution_count": 66,
   "metadata": {},
   "outputs": [
    {
     "data": {
      "text/plain": [
       "['CICLO OTTO', '.']"
      ]
     },
     "execution_count": 66,
     "metadata": {},
     "output_type": "execute_result"
    }
   ],
   "source": [
    "doc_content['TITLE'].extend(doc_content['CICLO OTTO'])\n",
    "doc_content.pop('CICLO OTTO')"
   ]
  },
  {
   "cell_type": "markdown",
   "metadata": {},
   "source": [
    "### Extraindo instruções a partir do conteúdo"
   ]
  },
  {
   "cell_type": "code",
   "execution_count": 39,
   "metadata": {},
   "outputs": [
    {
     "name": "stdout",
     "output_type": "stream",
     "text": [
      "- Creating objects...\n",
      "| Creating objects...\n",
      "/ Creating objects...\n",
      "├── - Creating mount e:\\Workspace\\tcc-2022-2\\inference.py: Uploaded 0/0 \n",
      "│   inspected files\n",
      "└── - Creating mount PythonPackage:prompt_template: Uploaded 0/0 inspected \n",
      "    files\n",
      "\\ Creating objects...\n",
      "├── \\ Creating mount e:\\Workspace\\tcc-2022-2\\inference.py: Uploaded 0/0 \n",
      "│   inspected files\n",
      "└── \\ Creating mount PythonPackage:prompt_template: Uploaded 0/0 inspected \n",
      "    files\n",
      "/ Creating objects...\n",
      "├── / Creating mount e:\\Workspace\\tcc-2022-2\\inference.py: Uploaded 0/0 \n",
      "│   inspected files\n",
      "└── / Creating mount PythonPackage:prompt_template: Uploaded 0/0 inspected \n",
      "    files\n",
      "\\ Creating objects...\n",
      "├── \\ Creating mount e:\\Workspace\\tcc-2022-2\\inference.py: Uploaded 0/0 \n",
      "│   inspected files\n",
      "└── \\ Creating mount PythonPackage:prompt_template: Uploaded 0/0 inspected \n",
      "    files\n",
      "/ Creating objects...\n",
      "├── / Creating mount e:\\Workspace\\tcc-2022-2\\inference.py: Uploaded 0/0 \n",
      "│   inspected files\n",
      "└── / Creating mount PythonPackage:prompt_template: Uploaded 0/0 inspected \n",
      "    files\n",
      "\\ Creating objects...\n",
      "├── \\ Creating mount e:\\Workspace\\tcc-2022-2\\inference.py: Uploaded 0/0 \n",
      "│   inspected files\n",
      "└── \\ Creating mount PythonPackage:prompt_template: Building mount\n",
      "/ Creating objects...\n",
      "├── / Creating mount e:\\Workspace\\tcc-2022-2\\inference.py: Building mount\n",
      "└── / Creating mount PythonPackage:prompt_template: Building mount\n",
      "\\ Creating objects...\n",
      "├── \\ Creating mount e:\\Workspace\\tcc-2022-2\\inference.py: Building mount\n",
      "└── 🔨 Created mount PythonPackage:prompt_template\n",
      "/ Creating objects...\n",
      "├── 🔨 Created mount e:\\Workspace\\tcc-2022-2\\inference.py\n",
      "└── 🔨 Created mount PythonPackage:prompt_template\n",
      "\\ Creating objects...\n",
      "├── 🔨 Created mount e:\\Workspace\\tcc-2022-2\\inference.py\n",
      "└── 🔨 Created mount PythonPackage:prompt_template\n",
      "/ Creating objects...\n",
      "├── 🔨 Created mount e:\\Workspace\\tcc-2022-2\\inference.py\n",
      "├── 🔨 Created mount PythonPackage:prompt_template\n",
      "└── - Creating download_model_to_folder...\n",
      "\\ Creating objects...\n",
      "├── 🔨 Created mount e:\\Workspace\\tcc-2022-2\\inference.py\n",
      "├── 🔨 Created mount PythonPackage:prompt_template\n",
      "└── \\ Creating download_model_to_folder...\n",
      "/ Creating objects...\n",
      "├── 🔨 Created mount e:\\Workspace\\tcc-2022-2\\inference.py\n",
      "├── 🔨 Created mount PythonPackage:prompt_template\n",
      "└── 🔨 Created download_model_to_folder.\n",
      "\\ Creating objects...\n",
      "├── 🔨 Created mount e:\\Workspace\\tcc-2022-2\\inference.py\n",
      "├── 🔨 Created mount PythonPackage:prompt_template\n",
      "└── 🔨 Created download_model_to_folder.\n",
      "/ Creating objects...\n",
      "├── 🔨 Created mount e:\\Workspace\\tcc-2022-2\\inference.py\n",
      "├── 🔨 Created mount PythonPackage:prompt_template\n",
      "└── 🔨 Created download_model_to_folder.\n",
      "\\ Creating objects...\n",
      "├── 🔨 Created mount e:\\Workspace\\tcc-2022-2\\inference.py\n",
      "├── 🔨 Created mount PythonPackage:prompt_template\n",
      "└── 🔨 Created download_model_to_folder.\n",
      "/ Creating objects...\n",
      "├── 🔨 Created mount e:\\Workspace\\tcc-2022-2\\inference.py\n",
      "├── 🔨 Created mount PythonPackage:prompt_template\n",
      "└── 🔨 Created download_model_to_folder.\n",
      "\\ Creating objects...\n",
      "├── 🔨 Created mount e:\\Workspace\\tcc-2022-2\\inference.py\n",
      "├── 🔨 Created mount PythonPackage:prompt_template\n",
      "├── 🔨 Created download_model_to_folder.\n",
      "└── - Creating Model.generate...\n",
      "/ Creating objects...\n",
      "├── 🔨 Created mount e:\\Workspace\\tcc-2022-2\\inference.py\n",
      "├── 🔨 Created mount PythonPackage:prompt_template\n",
      "├── 🔨 Created download_model_to_folder.\n",
      "└── 🔨 Created Model.generate.\n",
      "\\ Creating objects...\n",
      "├── 🔨 Created mount e:\\Workspace\\tcc-2022-2\\inference.py\n",
      "├── 🔨 Created mount PythonPackage:prompt_template\n",
      "├── 🔨 Created download_model_to_folder.\n",
      "└── 🔨 Created Model.generate.\n",
      "\n",
      "✓ Created objects.\n",
      "├── 🔨 Created mount e:\\Workspace\\tcc-2022-2\\inference.py\n",
      "├── 🔨 Created mount PythonPackage:prompt_template\n",
      "├── 🔨 Created download_model_to_folder.\n",
      "└── 🔨 Created Model.generate.\n",
      "✓ App deployed! 🎉\n",
      "\n",
      "View Deployment: https://modal.com/apps/edmilsonsantana/llm-inference\n"
     ]
    }
   ],
   "source": [
    "! modal deploy inference.py"
   ]
  },
  {
   "cell_type": "code",
   "execution_count": 85,
   "metadata": {},
   "outputs": [
    {
     "data": {
      "text/plain": [
       "'MOTOR DE COMBUSTÃO EXTERNA Na locomotiva a vapor, o combustível é o carvão ou a lenha. O calor produzido é utilizado para aquecer água em uma caldeira, transformando-a em vapor. O vapor se expande e, com sua pressão, vai movimentar os êmbolos que acionam as rodas motrizes da locomotiva. fornal A locomotiva a vapor é movida por um motor de combustão externa, pois a queima do combustível ocorre fora dos compartimentos que produzem o movimento (cilindros). Seguindo o princípio de funcionamento da locomotiva a vapor, foram desenvolvidos os primeiros triciclos a vapor, como o do francês Cugnot. Veja representado na figura a seguir.'"
      ]
     },
     "execution_count": 85,
     "metadata": {},
     "output_type": "execute_result"
    }
   ],
   "source": [
    "section = 'MOTOR DE COMBUSTÃO EXTERNA'\n",
    "document = \" \".join(doc_content[section])\n",
    "document"
   ]
  },
  {
   "cell_type": "code",
   "execution_count": 116,
   "metadata": {},
   "outputs": [],
   "source": [
    "import modal\n",
    "import json\n",
    "from prompt_template import system_prompt\n",
    "\n",
    "inference = modal.Function.lookup('llm-inference', 'Model.generate')\n",
    "\n",
    "response = inference.remote(system_prompt, document)"
   ]
  },
  {
   "cell_type": "code",
   "execution_count": 117,
   "metadata": {},
   "outputs": [
    {
     "data": {
      "text/plain": [
       "[{'query': 'Quanto o combustível utilizado na locomotiva a vapor é?',\n",
       "  'answer': 'O combustível é o carvão ou a lenha.'},\n",
       " {'query': 'Por que o calor é utilizado na locomotiva?',\n",
       "  'answer': 'Para aquecer água em uma caldeira, transformando-a em vapor.'},\n",
       " {'query': 'Como o vapor move a locomotiva?',\n",
       "  'answer': 'O vapor, com sua pressão, viaja pelos êmbolos que acionam as rodas motrizes.'},\n",
       " {'query': 'O motor de combustão externa na locomotiva a vapor está localizado onde?',\n",
       "  'answer': 'Fora dos compartimentos que produzem o movimento, no cilindro.'},\n",
       " {'query': 'Quem foi responsável pelo desenvolvimento de primeiros triciclos a vapor?',\n",
       "  'answer': 'O francês Cugnot.'},\n",
       " {'query': 'Representarão na figura a seguir o que?',\n",
       "  'answer': 'Os primeiros triciclos a vapor.'}]"
      ]
     },
     "execution_count": 117,
     "metadata": {},
     "output_type": "execute_result"
    }
   ],
   "source": [
    "dataset = json.loads(response)\n",
    "dataset"
   ]
  },
  {
   "cell_type": "code",
   "execution_count": 118,
   "metadata": {},
   "outputs": [],
   "source": [
    "dataset_path = f\"{BASE_DIR}/dataset.json\""
   ]
  },
  {
   "cell_type": "code",
   "execution_count": 119,
   "metadata": {},
   "outputs": [],
   "source": [
    "if os.path.getsize(dataset_path) > 0:\n",
    "    with open(dataset_path, \"r\", encoding='utf-8') as f:\n",
    "        dataset.extend(json.load(f))"
   ]
  },
  {
   "cell_type": "code",
   "execution_count": 120,
   "metadata": {},
   "outputs": [
    {
     "name": "stdout",
     "output_type": "stream",
     "text": [
      "17\n"
     ]
    }
   ],
   "source": [
    "print(len(dataset))"
   ]
  },
  {
   "cell_type": "code",
   "execution_count": 121,
   "metadata": {},
   "outputs": [],
   "source": [
    "with open(dataset_path, \"w\", encoding='utf-8') as f:\n",
    "    json.dump(dataset, f, ensure_ascii=False)"
   ]
  },
  {
   "cell_type": "code",
   "execution_count": null,
   "metadata": {},
   "outputs": [],
   "source": []
  }
 ],
 "metadata": {
  "accelerator": "GPU",
  "colab": {
   "authorship_tag": "ABX9TyPAuhOs6LqPlTbKAiCb1/PW",
   "gpuType": "T4",
   "include_colab_link": true,
   "mount_file_id": "1jdzFQfBomK42CMq2RKVQvVgfODSCiACc",
   "provenance": []
  },
  "kernelspec": {
   "display_name": "Python 3",
   "language": "python",
   "name": "python3"
  },
  "language_info": {
   "codemirror_mode": {
    "name": "ipython",
    "version": 3
   },
   "file_extension": ".py",
   "mimetype": "text/x-python",
   "name": "python",
   "nbconvert_exporter": "python",
   "pygments_lexer": "ipython3",
   "version": "3.11.4"
  }
 },
 "nbformat": 4,
 "nbformat_minor": 4
}
